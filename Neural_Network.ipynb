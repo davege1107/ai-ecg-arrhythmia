{
  "cells": [
    {
      "cell_type": "markdown",
      "metadata": {},
      "source": [
        "## Step 1: Get Dataset"
      ]
    },
    {
      "cell_type": "code",
      "execution_count": 9,
      "metadata": {
        "id": "5ZvltHfF6w8n"
      },
      "outputs": [
        {
          "data": {
            "text/html": [
              "<div>\n",
              "<style scoped>\n",
              "    .dataframe tbody tr th:only-of-type {\n",
              "        vertical-align: middle;\n",
              "    }\n",
              "\n",
              "    .dataframe tbody tr th {\n",
              "        vertical-align: top;\n",
              "    }\n",
              "\n",
              "    .dataframe thead th {\n",
              "        text-align: right;\n",
              "    }\n",
              "</style>\n",
              "<table border=\"1\" class=\"dataframe\">\n",
              "  <thead>\n",
              "    <tr style=\"text-align: right;\">\n",
              "      <th></th>\n",
              "      <th>PersonID</th>\n",
              "      <th>Age</th>\n",
              "      <th>Sex</th>\n",
              "      <th>Arrhythmia</th>\n",
              "      <th>BPM</th>\n",
              "      <th>Average_RR_Interval</th>\n",
              "      <th>Min_RR_Interval</th>\n",
              "      <th>Max_RR_Interval</th>\n",
              "      <th>PT_Interval</th>\n",
              "      <th>RR_Median</th>\n",
              "      <th>Local_RR_Intervals</th>\n",
              "    </tr>\n",
              "  </thead>\n",
              "  <tbody>\n",
              "    <tr>\n",
              "      <th>0</th>\n",
              "      <td>JS00001</td>\n",
              "      <td>85.0</td>\n",
              "      <td>Male</td>\n",
              "      <td>True</td>\n",
              "      <td>55.299539</td>\n",
              "      <td>1.085000</td>\n",
              "      <td>0.48</td>\n",
              "      <td>1.76</td>\n",
              "      <td>1.085000</td>\n",
              "      <td>1.00</td>\n",
              "      <td>NaN</td>\n",
              "    </tr>\n",
              "    <tr>\n",
              "      <th>1</th>\n",
              "      <td>JS00002</td>\n",
              "      <td>59.0</td>\n",
              "      <td>Female</td>\n",
              "      <td>True</td>\n",
              "      <td>88.607595</td>\n",
              "      <td>0.677143</td>\n",
              "      <td>0.44</td>\n",
              "      <td>1.20</td>\n",
              "      <td>0.677143</td>\n",
              "      <td>0.64</td>\n",
              "      <td>0.10000000000000003,0.36,0.14,0.16000000000000003</td>\n",
              "    </tr>\n",
              "    <tr>\n",
              "      <th>2</th>\n",
              "      <td>JS00004</td>\n",
              "      <td>66.0</td>\n",
              "      <td>Male</td>\n",
              "      <td>True</td>\n",
              "      <td>50.119332</td>\n",
              "      <td>1.197143</td>\n",
              "      <td>0.52</td>\n",
              "      <td>2.64</td>\n",
              "      <td>1.197143</td>\n",
              "      <td>1.20</td>\n",
              "      <td>NaN</td>\n",
              "    </tr>\n",
              "    <tr>\n",
              "      <th>3</th>\n",
              "      <td>JS00005</td>\n",
              "      <td>73.0</td>\n",
              "      <td>Female</td>\n",
              "      <td>True</td>\n",
              "      <td>65.375303</td>\n",
              "      <td>0.917778</td>\n",
              "      <td>0.40</td>\n",
              "      <td>1.98</td>\n",
              "      <td>0.917778</td>\n",
              "      <td>0.80</td>\n",
              "      <td>NaN</td>\n",
              "    </tr>\n",
              "    <tr>\n",
              "      <th>4</th>\n",
              "      <td>JS00006</td>\n",
              "      <td>46.0</td>\n",
              "      <td>Female</td>\n",
              "      <td>True</td>\n",
              "      <td>71.428571</td>\n",
              "      <td>0.840000</td>\n",
              "      <td>0.48</td>\n",
              "      <td>1.62</td>\n",
              "      <td>0.840000</td>\n",
              "      <td>0.70</td>\n",
              "      <td>0.9200000000000002</td>\n",
              "    </tr>\n",
              "    <tr>\n",
              "      <th>5</th>\n",
              "      <td>JS00007</td>\n",
              "      <td>80.0</td>\n",
              "      <td>Female</td>\n",
              "      <td>True</td>\n",
              "      <td>76.530612</td>\n",
              "      <td>0.784000</td>\n",
              "      <td>0.38</td>\n",
              "      <td>1.46</td>\n",
              "      <td>0.784000</td>\n",
              "      <td>0.84</td>\n",
              "      <td>NaN</td>\n",
              "    </tr>\n",
              "    <tr>\n",
              "      <th>6</th>\n",
              "      <td>JS00008</td>\n",
              "      <td>46.0</td>\n",
              "      <td>Male</td>\n",
              "      <td>False</td>\n",
              "      <td>42.016807</td>\n",
              "      <td>1.428000</td>\n",
              "      <td>0.88</td>\n",
              "      <td>3.40</td>\n",
              "      <td>1.428000</td>\n",
              "      <td>0.94</td>\n",
              "      <td>NaN</td>\n",
              "    </tr>\n",
              "    <tr>\n",
              "      <th>7</th>\n",
              "      <td>JS00009</td>\n",
              "      <td>45.0</td>\n",
              "      <td>Male</td>\n",
              "      <td>True</td>\n",
              "      <td>47.619048</td>\n",
              "      <td>1.260000</td>\n",
              "      <td>0.72</td>\n",
              "      <td>1.96</td>\n",
              "      <td>1.260000</td>\n",
              "      <td>1.08</td>\n",
              "      <td>NaN</td>\n",
              "    </tr>\n",
              "    <tr>\n",
              "      <th>8</th>\n",
              "      <td>JS00010</td>\n",
              "      <td>47.0</td>\n",
              "      <td>Female</td>\n",
              "      <td>True</td>\n",
              "      <td>47.191011</td>\n",
              "      <td>1.271429</td>\n",
              "      <td>0.60</td>\n",
              "      <td>2.10</td>\n",
              "      <td>1.271429</td>\n",
              "      <td>1.28</td>\n",
              "      <td>NaN</td>\n",
              "    </tr>\n",
              "    <tr>\n",
              "      <th>9</th>\n",
              "      <td>JS00011</td>\n",
              "      <td>63.0</td>\n",
              "      <td>Male</td>\n",
              "      <td>True</td>\n",
              "      <td>79.710145</td>\n",
              "      <td>0.752727</td>\n",
              "      <td>0.38</td>\n",
              "      <td>1.08</td>\n",
              "      <td>0.752727</td>\n",
              "      <td>0.78</td>\n",
              "      <td>0.07999999999999996</td>\n",
              "    </tr>\n",
              "  </tbody>\n",
              "</table>\n",
              "</div>"
            ],
            "text/plain": [
              "  PersonID   Age     Sex  Arrhythmia        BPM  Average_RR_Interval  \\\n",
              "0  JS00001  85.0    Male        True  55.299539             1.085000   \n",
              "1  JS00002  59.0  Female        True  88.607595             0.677143   \n",
              "2  JS00004  66.0    Male        True  50.119332             1.197143   \n",
              "3  JS00005  73.0  Female        True  65.375303             0.917778   \n",
              "4  JS00006  46.0  Female        True  71.428571             0.840000   \n",
              "5  JS00007  80.0  Female        True  76.530612             0.784000   \n",
              "6  JS00008  46.0    Male       False  42.016807             1.428000   \n",
              "7  JS00009  45.0    Male        True  47.619048             1.260000   \n",
              "8  JS00010  47.0  Female        True  47.191011             1.271429   \n",
              "9  JS00011  63.0    Male        True  79.710145             0.752727   \n",
              "\n",
              "   Min_RR_Interval  Max_RR_Interval  PT_Interval  RR_Median  \\\n",
              "0             0.48             1.76     1.085000       1.00   \n",
              "1             0.44             1.20     0.677143       0.64   \n",
              "2             0.52             2.64     1.197143       1.20   \n",
              "3             0.40             1.98     0.917778       0.80   \n",
              "4             0.48             1.62     0.840000       0.70   \n",
              "5             0.38             1.46     0.784000       0.84   \n",
              "6             0.88             3.40     1.428000       0.94   \n",
              "7             0.72             1.96     1.260000       1.08   \n",
              "8             0.60             2.10     1.271429       1.28   \n",
              "9             0.38             1.08     0.752727       0.78   \n",
              "\n",
              "                                  Local_RR_Intervals  \n",
              "0                                                NaN  \n",
              "1  0.10000000000000003,0.36,0.14,0.16000000000000003  \n",
              "2                                                NaN  \n",
              "3                                                NaN  \n",
              "4                                 0.9200000000000002  \n",
              "5                                                NaN  \n",
              "6                                                NaN  \n",
              "7                                                NaN  \n",
              "8                                                NaN  \n",
              "9                                0.07999999999999996  "
            ]
          },
          "execution_count": 9,
          "metadata": {},
          "output_type": "execute_result"
        }
      ],
      "source": [
        "import numpy as np\n",
        "import pandas as pd\n",
        "import matplotlib.pyplot as plt\n",
        "import seaborn as sns\n",
        "sns.set_style(\"darkgrid\")\n",
        "\n",
        "data = pd.read_csv(\"ecg_data_summary.csv\")\n",
        "data.head(10)"
      ]
    },
    {
      "cell_type": "markdown",
      "metadata": {
        "id": "7HulKarS62aR"
      },
      "source": [
        "## Step 2: Visualizing the dataset"
      ]
    },
    {
      "cell_type": "code",
      "execution_count": 10,
      "metadata": {
        "colab": {
          "base_uri": "https://localhost:8080/",
          "height": 430
        },
        "id": "8FIJm1sm6zXX",
        "outputId": "11c06acb-4505-445c-d1b6-96134f0536f3"
      },
      "outputs": [
        {
          "data": {
            "image/png": "[encoded data removed]",
            "text/plain": [
              "<Figure size 640x480 with 2 Axes>"
            ]
          },
          "metadata": {},
          "output_type": "display_data"
        }
      ],
      "source": [
        "data[\"Arrhythmia\"] = data[\"Arrhythmia\"].astype(int)\n",
        "numeric_data = data.select_dtypes(include=[float, int])\n",
        "corr = numeric_data.corr(method=\"pearson\")\n",
        "import seaborn as sns\n",
        "import matplotlib.pyplot as plt\n",
        "\n",
        "cmap = sns.diverging_palette(250, 354, 80, 60, center='dark', as_cmap=True)\n",
        "sns.heatmap(corr, vmax=1, vmin=-0.5, cmap=cmap, square=True, linewidths=0.2)\n",
        "plt.show()"
      ]
    },
    {
      "cell_type": "markdown",
      "metadata": {},
      "source": [
        "## Step 3: Get Numpy Array (Change?)"
      ]
    },
    {
      "cell_type": "code",
      "execution_count": 14,
      "metadata": {
        "colab": {
          "base_uri": "https://localhost:8080/"
        },
        "id": "APQm-JGb6-Ud",
        "outputId": "ecbdefe1-3f77-4a4a-b390-f43f012fc957"
      },
      "outputs": [
        {
          "name": "stdout",
          "output_type": "stream",
          "text": [
            "        Age        BPM  Average_RR_Interval  Min_RR_Interval  Max_RR_Interval  \\\n",
            "0      85.0  55.299539             1.085000             0.48             1.76   \n",
            "1      59.0  88.607595             0.677143             0.44             1.20   \n",
            "2      66.0  50.119332             1.197143             0.52             2.64   \n",
            "3      73.0  65.375303             0.917778             0.40             1.98   \n",
            "4      46.0  71.428571             0.840000             0.48             1.62   \n",
            "...     ...        ...                  ...              ...              ...   \n",
            "45147  34.0  69.915254             0.858182             0.48             1.68   \n",
            "45148  41.0  72.000000             0.833333             0.40             1.38   \n",
            "45149  36.0  58.695652             1.022222             0.40             2.48   \n",
            "45150  30.0  78.571429             0.763636             0.40             1.32   \n",
            "45151   6.0  80.536913             0.745000             0.48             1.36   \n",
            "\n",
            "       PT_Interval  RR_Median  Arrhythmia  \n",
            "0         1.085000       1.00           1  \n",
            "1         0.677143       0.64           1  \n",
            "2         1.197143       1.20           1  \n",
            "3         0.917778       0.80           1  \n",
            "4         0.840000       0.70           1  \n",
            "...            ...        ...         ...  \n",
            "45147     0.858182       0.76           0  \n",
            "45148     0.833333       0.72           0  \n",
            "45149     1.022222       0.90           0  \n",
            "45150     0.763636       0.62           1  \n",
            "45151     0.745000       0.68           0  \n",
            "\n",
            "[45152 rows x 8 columns]\n"
          ]
        }
      ],
      "source": [
        "import numpy as np\n",
        "\n",
        "# Load numeric data only, skipping headers\n",
        "x = data[[\"Age\", \"BPM\", \"Average_RR_Interval\", \"Min_RR_Interval\", \"Max_RR_Interval\", \"PT_Interval\", \"RR_Median\", \"Arrhythmia\"]]\n",
        "y = data['Arrhythmia'].astype(int).values.reshape(-1, 1)\n",
        "\n",
        "print(data)"
      ]
    },
    {
      "cell_type": "markdown",
      "metadata": {
        "id": "TxIIzpzL7E0z"
      },
      "source": [
        "## Step 4: Defining the Architecure of the Dataset"
      ]
    },
    {
      "cell_type": "markdown",
      "metadata": {
        "id": "oXezEDfT7LNQ"
      },
      "source": [
        "## Step 5: Defining the Functions of the Network"
      ]
    },
    {
      "cell_type": "code",
      "execution_count": 15,
      "metadata": {
        "id": "5YudAHS-7RGb"
      },
      "outputs": [],
      "source": [
        "# activation function\n",
        "def sigmoid(x):\n",
        "\treturn(1/(1 + np.exp(-x)))\n",
        "\n",
        "# Creating the Feed forward neural network\n",
        "def f_forward(x, w1, w2):\n",
        "\t# hidden\n",
        "\tz1 = x.dot(w1)    # input from layer 1\n",
        "\ta1 = sigmoid(z1)  # out put of layer 2\n",
        "\tz2 = a1.dot(w2)   # input of out layer\n",
        "\ta2 = sigmoid(z2)  # output of out layer\n",
        "\treturn(a2)\n",
        "\n",
        "# initializing the weights randomly\n",
        "def generate_wt(x, y):\n",
        "\tli =[]\n",
        "\tfor i in range(x * y):\n",
        "\t\tli.append(np.random.randn())\n",
        "\treturn(np.array(li).reshape(x, y))\n",
        "\n",
        "# for loss we will be using mean square error(MSE)\n",
        "def loss(out, Y):\n",
        "\ts =(np.square(out-Y))\n",
        "\ts = np.sum(s)/len(y)\n",
        "\treturn(s)\n",
        "\n",
        "# Back propagation of error\n",
        "def back_prop(x, y, w1, w2, alpha):\n",
        "\n",
        "\t# hidden layer\n",
        "\tz1 = x.dot(w1)\n",
        "\ta1 = sigmoid(z1)\n",
        "\tz2 = a1.dot(w2)\n",
        "\ta2 = sigmoid(z2)\n",
        "\n",
        "\t# error in output layer\n",
        "\td2 =(a2-y)\n",
        "\td1 = np.multiply((w2.dot((d2.transpose()))).transpose(),\n",
        "\t\t\t\t\t\t\t\t(np.multiply(a1, 1-a1)))\n",
        "\t# Gradient for w1 and w2\n",
        "\tw1_adj = x.transpose().dot(d1)\n",
        "\tw2_adj = a1.transpose().dot(d2)\n",
        "\n",
        "\t# Updating parameters\n",
        "\tw1 = w1-(alpha*(w1_adj))\n",
        "\tw2 = w2-(alpha*(w2_adj))\n",
        "\n",
        "\treturn(w1, w2)"
      ]
    },
    {
      "cell_type": "markdown",
      "metadata": {
        "id": "oUeqWopt7VX2"
      },
      "source": [
        "## Step 6: Initializing Weights"
      ]
    },
    {
      "cell_type": "code",
      "execution_count": 16,
      "metadata": {
        "colab": {
          "base_uri": "https://localhost:8080/"
        },
        "id": "-9VfvnDa7YI9",
        "outputId": "b1dc0011-d616-42f7-e1a8-b8b285dc1f10"
      },
      "outputs": [
        {
          "name": "stdout",
          "output_type": "stream",
          "text": [
            "[[-1.40292621  0.2103564   0.46844638 -1.46945885 -0.73820685]\n",
            " [-1.45862194 -1.56409367 -0.43829468  2.41379452  0.97744703]\n",
            " [-1.03098393  2.50573661  0.38373466 -0.58313649 -1.21734308]\n",
            " [ 1.0040993   1.34844984  0.71240034 -0.73369883  1.51860161]\n",
            " [ 1.05046541  0.0046696   1.10367082  0.44903977 -1.04635885]\n",
            " [-0.59038867  1.02244899  0.43240909  0.31183576 -0.50920535]\n",
            " [-1.17283935  1.04308037  0.37685743  1.08078682  1.30647872]\n",
            " [-0.25044044  0.1675628   0.02104679 -0.26182009 -0.37656422]\n",
            " [-0.91788478  0.95215702 -1.68788952 -0.23584471  1.67965747]\n",
            " [-0.40491894 -0.47673324  0.81239052 -0.71159827 -0.69246462]\n",
            " [ 0.57511966 -0.9424443  -2.65425733 -2.06067983 -1.36124371]\n",
            " [-0.79173792 -0.60352866 -0.58494233 -0.48606948 -2.10566164]\n",
            " [-0.10800934  0.16519576  1.89138525 -1.29426061  3.42828997]\n",
            " [-1.32302821  0.33767954  0.01519189 -0.78921023 -0.18572364]\n",
            " [ 0.34746365  0.15156452  0.5145834  -0.40902054 -1.52135507]\n",
            " [ 0.43025428  1.45160801  0.40444215 -0.59344015 -0.20868205]\n",
            " [ 2.46418184 -0.01087337  0.23854553 -0.75634089  1.17433771]\n",
            " [ 1.89778318 -1.48980768  1.5517324  -1.66499546 -0.1024227 ]\n",
            " [-0.32438555 -0.76201277 -0.9146582  -0.36185313 -0.87830703]\n",
            " [-0.77741267 -0.40381464 -0.12930198 -0.81447767 -0.61727385]\n",
            " [-0.02070511  1.5594763  -0.35546732 -0.0648027  -1.0089556 ]\n",
            " [ 0.22990956 -1.39029779 -0.32850965 -0.4196923  -0.87216547]\n",
            " [ 0.98994348 -1.17992037  0.07943458  0.65494404 -1.40386471]\n",
            " [-0.66297749  2.9560556   0.50644275 -0.0454274   0.5027784 ]\n",
            " [-0.66646145  0.80367097 -0.40835484 -0.3158606  -0.046845  ]\n",
            " [ 0.75330479  0.16523185  0.9442349   0.12073966 -2.33383024]\n",
            " [ 0.77491765 -0.51971315 -0.10690609  0.37093092 -1.2664048 ]\n",
            " [ 0.44070605  1.68364672 -1.12196262  1.10678407  0.0281044 ]\n",
            " [-1.55662288  0.17353449 -0.08994761  0.53336254 -1.07681679]\n",
            " [ 1.14925965  0.27624118 -0.32292193  0.15289551  0.23556973]] \n",
            "\n",
            " [[-0.43432204 -0.08671954  0.39441847]\n",
            " [-1.40933951 -0.75035223  1.75753523]\n",
            " [ 1.16004502  0.04237272  1.6815921 ]\n",
            " [-0.60974007  1.48134753  0.95778735]\n",
            " [-2.26199588 -0.4652311  -1.08735456]]\n"
          ]
        }
      ],
      "source": [
        "w1 = generate_wt(30, 5)\n",
        "w2 = generate_wt(5, 3)\n",
        "\n",
        "print(w1, \"\\n\\n\", w2)"
      ]
    },
    {
      "cell_type": "markdown",
      "metadata": {
        "id": "JwDCtqHr7bme"
      },
      "source": [
        "## Step 7: Training the Model"
      ]
    },
    {
      "cell_type": "code",
      "execution_count": null,
      "metadata": {
        "colab": {
          "base_uri": "https://localhost:8080/"
        },
        "id": "lIyPnw0v7eDD",
        "outputId": "e0fcd7d3-0a13-4dd3-c753-0300acfd697b"
      },
      "outputs": [
        {
          "ename": "KeyError",
          "evalue": "0",
          "output_type": "error",
          "traceback": [
            "\u001b[0;31m---------------------------------------------------------------------------\u001b[0m",
            "\u001b[0;31mKeyError\u001b[0m                                  Traceback (most recent call last)",
            "File \u001b[0;32m~/college/AI/ai-ecg-arrhythmia/.venv/lib/python3.10/site-packages/pandas/core/indexes/base.py:3805\u001b[0m, in \u001b[0;36mIndex.get_loc\u001b[0;34m(self, key)\u001b[0m\n\u001b[1;32m   3804\u001b[0m \u001b[38;5;28;01mtry\u001b[39;00m:\n\u001b[0;32m-> 3805\u001b[0m     \u001b[38;5;28;01mreturn\u001b[39;00m \u001b[38;5;28;43mself\u001b[39;49m\u001b[38;5;241;43m.\u001b[39;49m\u001b[43m_engine\u001b[49m\u001b[38;5;241;43m.\u001b[39;49m\u001b[43mget_loc\u001b[49m\u001b[43m(\u001b[49m\u001b[43mcasted_key\u001b[49m\u001b[43m)\u001b[49m\n\u001b[1;32m   3806\u001b[0m \u001b[38;5;28;01mexcept\u001b[39;00m \u001b[38;5;167;01mKeyError\u001b[39;00m \u001b[38;5;28;01mas\u001b[39;00m err:\n",
            "File \u001b[0;32mindex.pyx:167\u001b[0m, in \u001b[0;36mpandas._libs.index.IndexEngine.get_loc\u001b[0;34m()\u001b[0m\n",
            "File \u001b[0;32mindex.pyx:196\u001b[0m, in \u001b[0;36mpandas._libs.index.IndexEngine.get_loc\u001b[0;34m()\u001b[0m\n",
            "File \u001b[0;32mpandas/_libs/hashtable_class_helper.pxi:7081\u001b[0m, in \u001b[0;36mpandas._libs.hashtable.PyObjectHashTable.get_item\u001b[0;34m()\u001b[0m\n",
            "File \u001b[0;32mpandas/_libs/hashtable_class_helper.pxi:7089\u001b[0m, in \u001b[0;36mpandas._libs.hashtable.PyObjectHashTable.get_item\u001b[0;34m()\u001b[0m\n",
            "\u001b[0;31mKeyError\u001b[0m: 0",
            "\nThe above exception was the direct cause of the following exception:\n",
            "\u001b[0;31mKeyError\u001b[0m                                  Traceback (most recent call last)",
            "Cell \u001b[0;32mIn[19], line 15\u001b[0m\n\u001b[1;32m     12\u001b[0m \t\tlosss\u001b[38;5;241m.\u001b[39mappend(\u001b[38;5;28msum\u001b[39m(l)\u001b[38;5;241m/\u001b[39m\u001b[38;5;28mlen\u001b[39m(x))\n\u001b[1;32m     13\u001b[0m \t\u001b[38;5;28;01mreturn\u001b[39;00m(acc, losss, w1, w2)\n\u001b[0;32m---> 15\u001b[0m acc, losss, w1, w2 \u001b[38;5;241m=\u001b[39m \u001b[43mtrain\u001b[49m\u001b[43m(\u001b[49m\u001b[43mx\u001b[49m\u001b[43m,\u001b[49m\u001b[43m \u001b[49m\u001b[43my\u001b[49m\u001b[43m,\u001b[49m\u001b[43m \u001b[49m\u001b[43mw1\u001b[49m\u001b[43m,\u001b[49m\u001b[43m \u001b[49m\u001b[43mw2\u001b[49m\u001b[43m,\u001b[49m\u001b[43m \u001b[49m\u001b[38;5;241;43m0.1\u001b[39;49m\u001b[43m,\u001b[49m\u001b[43m \u001b[49m\u001b[38;5;241;43m100\u001b[39;49m\u001b[43m)\u001b[49m\n",
            "Cell \u001b[0;32mIn[19], line 7\u001b[0m, in \u001b[0;36mtrain\u001b[0;34m(x, Y, w1, w2, alpha, epoch)\u001b[0m\n\u001b[1;32m      5\u001b[0m l \u001b[38;5;241m=\u001b[39m[]\n\u001b[1;32m      6\u001b[0m \u001b[38;5;28;01mfor\u001b[39;00m i \u001b[38;5;129;01min\u001b[39;00m \u001b[38;5;28mrange\u001b[39m(\u001b[38;5;28mlen\u001b[39m(x)):\n\u001b[0;32m----> 7\u001b[0m \tout \u001b[38;5;241m=\u001b[39m f_forward(\u001b[43mx\u001b[49m\u001b[43m[\u001b[49m\u001b[43mi\u001b[49m\u001b[43m]\u001b[49m, w1, w2)\n\u001b[1;32m      8\u001b[0m \tl\u001b[38;5;241m.\u001b[39mappend((loss(out, Y[i])))\n\u001b[1;32m      9\u001b[0m \tw1, w2 \u001b[38;5;241m=\u001b[39m back_prop(x[i], y[i], w1, w2, alpha)\n",
            "File \u001b[0;32m~/college/AI/ai-ecg-arrhythmia/.venv/lib/python3.10/site-packages/pandas/core/frame.py:4102\u001b[0m, in \u001b[0;36mDataFrame.__getitem__\u001b[0;34m(self, key)\u001b[0m\n\u001b[1;32m   4100\u001b[0m \u001b[38;5;28;01mif\u001b[39;00m \u001b[38;5;28mself\u001b[39m\u001b[38;5;241m.\u001b[39mcolumns\u001b[38;5;241m.\u001b[39mnlevels \u001b[38;5;241m>\u001b[39m \u001b[38;5;241m1\u001b[39m:\n\u001b[1;32m   4101\u001b[0m     \u001b[38;5;28;01mreturn\u001b[39;00m \u001b[38;5;28mself\u001b[39m\u001b[38;5;241m.\u001b[39m_getitem_multilevel(key)\n\u001b[0;32m-> 4102\u001b[0m indexer \u001b[38;5;241m=\u001b[39m \u001b[38;5;28;43mself\u001b[39;49m\u001b[38;5;241;43m.\u001b[39;49m\u001b[43mcolumns\u001b[49m\u001b[38;5;241;43m.\u001b[39;49m\u001b[43mget_loc\u001b[49m\u001b[43m(\u001b[49m\u001b[43mkey\u001b[49m\u001b[43m)\u001b[49m\n\u001b[1;32m   4103\u001b[0m \u001b[38;5;28;01mif\u001b[39;00m is_integer(indexer):\n\u001b[1;32m   4104\u001b[0m     indexer \u001b[38;5;241m=\u001b[39m [indexer]\n",
            "File \u001b[0;32m~/college/AI/ai-ecg-arrhythmia/.venv/lib/python3.10/site-packages/pandas/core/indexes/base.py:3812\u001b[0m, in \u001b[0;36mIndex.get_loc\u001b[0;34m(self, key)\u001b[0m\n\u001b[1;32m   3807\u001b[0m     \u001b[38;5;28;01mif\u001b[39;00m \u001b[38;5;28misinstance\u001b[39m(casted_key, \u001b[38;5;28mslice\u001b[39m) \u001b[38;5;129;01mor\u001b[39;00m (\n\u001b[1;32m   3808\u001b[0m         \u001b[38;5;28misinstance\u001b[39m(casted_key, abc\u001b[38;5;241m.\u001b[39mIterable)\n\u001b[1;32m   3809\u001b[0m         \u001b[38;5;129;01mand\u001b[39;00m \u001b[38;5;28many\u001b[39m(\u001b[38;5;28misinstance\u001b[39m(x, \u001b[38;5;28mslice\u001b[39m) \u001b[38;5;28;01mfor\u001b[39;00m x \u001b[38;5;129;01min\u001b[39;00m casted_key)\n\u001b[1;32m   3810\u001b[0m     ):\n\u001b[1;32m   3811\u001b[0m         \u001b[38;5;28;01mraise\u001b[39;00m InvalidIndexError(key)\n\u001b[0;32m-> 3812\u001b[0m     \u001b[38;5;28;01mraise\u001b[39;00m \u001b[38;5;167;01mKeyError\u001b[39;00m(key) \u001b[38;5;28;01mfrom\u001b[39;00m\u001b[38;5;250m \u001b[39m\u001b[38;5;21;01merr\u001b[39;00m\n\u001b[1;32m   3813\u001b[0m \u001b[38;5;28;01mexcept\u001b[39;00m \u001b[38;5;167;01mTypeError\u001b[39;00m:\n\u001b[1;32m   3814\u001b[0m     \u001b[38;5;66;03m# If we have a listlike key, _check_indexing_error will raise\u001b[39;00m\n\u001b[1;32m   3815\u001b[0m     \u001b[38;5;66;03m#  InvalidIndexError. Otherwise we fall through and re-raise\u001b[39;00m\n\u001b[1;32m   3816\u001b[0m     \u001b[38;5;66;03m#  the TypeError.\u001b[39;00m\n\u001b[1;32m   3817\u001b[0m     \u001b[38;5;28mself\u001b[39m\u001b[38;5;241m.\u001b[39m_check_indexing_error(key)\n",
            "\u001b[0;31mKeyError\u001b[0m: 0"
          ]
        }
      ],
      "source": [
        "def train(x, Y, w1, w2, alpha = 0.01, epoch = 10):\n",
        "\tacc =[]\n",
        "\tlosss =[]\n",
        "\tfor j in range(epoch):\n",
        "\t\tl =[]\n",
        "\t\tfor i in range(len(x)):\n",
        "\t\t\tout = f_forward(x[i], w1, w2)\n",
        "\t\t\tl.append((loss(out, Y[i])))\n",
        "\t\t\tw1, w2 = back_prop(x[i], y[i], w1, w2, alpha)\n",
        "\t\tprint(\"epochs:\", j + 1, \"======== acc:\", (1-(sum(l)/len(x)))*100)\n",
        "\t\tacc.append((1-(sum(l)/len(x)))*100)\n",
        "\t\tlosss.append(sum(l)/len(x))\n",
        "\treturn(acc, losss, w1, w2)\n",
        "\n",
        "acc, losss, w1, w2 = train(x, y, w1, w2, 0.1, 100)"
      ]
    },
    {
      "cell_type": "markdown",
      "metadata": {
        "id": "mNyPJHUg7h3j"
      },
      "source": [
        "## Step 8: Plotting Accuracy and Loss"
      ]
    },
    {
      "cell_type": "code",
      "execution_count": null,
      "metadata": {
        "colab": {
          "base_uri": "https://localhost:8080/",
          "height": 881
        },
        "id": "iVcWf3kG7jWD",
        "outputId": "5c7d9373-dd40-45fd-acea-aa171c8763d2"
      },
      "outputs": [],
      "source": [
        "import matplotlib.pyplot as plt1\n",
        "\n",
        "# plotting accuracy\n",
        "plt1.plot(acc)\n",
        "plt1.ylabel('Accuracy')\n",
        "plt1.xlabel(\"Epochs:\")\n",
        "plt1.show()\n",
        "\n",
        "# plotting Loss\n",
        "plt1.plot(losss)\n",
        "plt1.ylabel('Loss')\n",
        "plt1.xlabel(\"Epochs:\")\n",
        "plt1.show()"
      ]
    },
    {
      "cell_type": "markdown",
      "metadata": {
        "id": "PLew0D087mpW"
      },
      "source": [
        "## Step 9: Making Predictions"
      ]
    },
    {
      "cell_type": "code",
      "execution_count": null,
      "metadata": {
        "colab": {
          "base_uri": "https://localhost:8080/",
          "height": 447
        },
        "id": "l9fpwDXa7pE2",
        "outputId": "990bd721-2a0d-43b8-eefe-b199074325a2"
      },
      "outputs": [],
      "source": [
        "def predict(x, w1, w2):\n",
        "\tOut = f_forward(x, w1, w2)\n",
        "\tmaxm = 0\n",
        "\tk = 0\n",
        "\tfor i in range(len(Out[0])):\n",
        "\t\tif(maxm<Out[0][i]):\n",
        "\t\t\tmaxm = Out[0][i]\n",
        "\t\t\tk = i\n",
        "\tif(k == 0):\n",
        "\t\tprint(\"Image is of letter A.\")\n",
        "\telif(k == 1):\n",
        "\t\tprint(\"Image is of letter B.\")\n",
        "\telse:\n",
        "\t\tprint(\"Image is of letter C.\")\n",
        "\tplt.imshow(x.reshape(5, 6))\n",
        "\tplt.show()\n",
        "# Example: Predicting for letter 'B'\n",
        "predict(x[1], w1, w2)"
      ]
    }
  ],
  "metadata": {
    "colab": {
      "provenance": []
    },
    "kernelspec": {
      "display_name": ".venv",
      "language": "python",
      "name": "python3"
    },
    "language_info": {
      "codemirror_mode": {
        "name": "ipython",
        "version": 3
      },
      "file_extension": ".py",
      "mimetype": "text/x-python",
      "name": "python",
      "nbconvert_exporter": "python",
      "pygments_lexer": "ipython3",
      "version": "3.10.12"
    }
  },
  "nbformat": 4,
  "nbformat_minor": 0
}
