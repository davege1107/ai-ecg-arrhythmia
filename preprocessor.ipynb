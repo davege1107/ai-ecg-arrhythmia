{
 "cells": [
  {
   "cell_type": "code",
   "execution_count": 118,
   "id": "18484770",
   "metadata": {},
   "outputs": [
    {
     "name": "stdout",
     "output_type": "stream",
     "text": [
      "Defaulting to user installation because normal site-packages is not writeable\n",
      "Requirement already satisfied: numpy in c:\\users\\arche\\appdata\\local\\packages\\pythonsoftwarefoundation.python.3.13_qbz5n2kfra8p0\\localcache\\local-packages\\python313\\site-packages (2.2.4)\n",
      "Note: you may need to restart the kernel to use updated packages.\n"
     ]
    },
    {
     "name": "stderr",
     "output_type": "stream",
     "text": [
      "\n",
      "[notice] A new release of pip is available: 25.0.1 -> 25.1\n",
      "[notice] To update, run: C:\\Users\\arche\\AppData\\Local\\Microsoft\\WindowsApps\\PythonSoftwareFoundation.Python.3.13_qbz5n2kfra8p0\\python.exe -m pip install --upgrade pip\n"
     ]
    },
    {
     "name": "stdout",
     "output_type": "stream",
     "text": [
      "Defaulting to user installation because normal site-packages is not writeable\n",
      "Requirement already satisfied: scipy in c:\\users\\arche\\appdata\\local\\packages\\pythonsoftwarefoundation.python.3.13_qbz5n2kfra8p0\\localcache\\local-packages\\python313\\site-packages (1.15.2)\n",
      "Requirement already satisfied: numpy<2.5,>=1.23.5 in c:\\users\\arche\\appdata\\local\\packages\\pythonsoftwarefoundation.python.3.13_qbz5n2kfra8p0\\localcache\\local-packages\\python313\\site-packages (from scipy) (2.2.4)\n",
      "Note: you may need to restart the kernel to use updated packages.\n"
     ]
    },
    {
     "name": "stderr",
     "output_type": "stream",
     "text": [
      "\n",
      "[notice] A new release of pip is available: 25.0.1 -> 25.1\n",
      "[notice] To update, run: C:\\Users\\arche\\AppData\\Local\\Microsoft\\WindowsApps\\PythonSoftwareFoundation.Python.3.13_qbz5n2kfra8p0\\python.exe -m pip install --upgrade pip\n"
     ]
    },
    {
     "name": "stdout",
     "output_type": "stream",
     "text": [
      "Defaulting to user installation because normal site-packages is not writeable\n",
      "Requirement already satisfied: matplotlib in c:\\users\\arche\\appdata\\local\\packages\\pythonsoftwarefoundation.python.3.13_qbz5n2kfra8p0\\localcache\\local-packages\\python313\\site-packages (3.10.1)\n",
      "Requirement already satisfied: contourpy>=1.0.1 in c:\\users\\arche\\appdata\\local\\packages\\pythonsoftwarefoundation.python.3.13_qbz5n2kfra8p0\\localcache\\local-packages\\python313\\site-packages (from matplotlib) (1.3.2)\n",
      "Requirement already satisfied: cycler>=0.10 in c:\\users\\arche\\appdata\\local\\packages\\pythonsoftwarefoundation.python.3.13_qbz5n2kfra8p0\\localcache\\local-packages\\python313\\site-packages (from matplotlib) (0.12.1)\n",
      "Requirement already satisfied: fonttools>=4.22.0 in c:\\users\\arche\\appdata\\local\\packages\\pythonsoftwarefoundation.python.3.13_qbz5n2kfra8p0\\localcache\\local-packages\\python313\\site-packages (from matplotlib) (4.57.0)\n",
      "Requirement already satisfied: kiwisolver>=1.3.1 in c:\\users\\arche\\appdata\\local\\packages\\pythonsoftwarefoundation.python.3.13_qbz5n2kfra8p0\\localcache\\local-packages\\python313\\site-packages (from matplotlib) (1.4.8)\n",
      "Requirement already satisfied: numpy>=1.23 in c:\\users\\arche\\appdata\\local\\packages\\pythonsoftwarefoundation.python.3.13_qbz5n2kfra8p0\\localcache\\local-packages\\python313\\site-packages (from matplotlib) (2.2.4)\n",
      "Requirement already satisfied: packaging>=20.0 in c:\\users\\arche\\appdata\\local\\packages\\pythonsoftwarefoundation.python.3.13_qbz5n2kfra8p0\\localcache\\local-packages\\python313\\site-packages (from matplotlib) (24.2)\n",
      "Requirement already satisfied: pillow>=8 in c:\\users\\arche\\appdata\\local\\packages\\pythonsoftwarefoundation.python.3.13_qbz5n2kfra8p0\\localcache\\local-packages\\python313\\site-packages (from matplotlib) (11.2.1)\n",
      "Requirement already satisfied: pyparsing>=2.3.1 in c:\\users\\arche\\appdata\\local\\packages\\pythonsoftwarefoundation.python.3.13_qbz5n2kfra8p0\\localcache\\local-packages\\python313\\site-packages (from matplotlib) (3.2.3)\n",
      "Requirement already satisfied: python-dateutil>=2.7 in c:\\users\\arche\\appdata\\local\\packages\\pythonsoftwarefoundation.python.3.13_qbz5n2kfra8p0\\localcache\\local-packages\\python313\\site-packages (from matplotlib) (2.9.0.post0)\n",
      "Requirement already satisfied: six>=1.5 in c:\\users\\arche\\appdata\\local\\packages\\pythonsoftwarefoundation.python.3.13_qbz5n2kfra8p0\\localcache\\local-packages\\python313\\site-packages (from python-dateutil>=2.7->matplotlib) (1.17.0)\n",
      "Note: you may need to restart the kernel to use updated packages.\n"
     ]
    },
    {
     "name": "stderr",
     "output_type": "stream",
     "text": [
      "\n",
      "[notice] A new release of pip is available: 25.0.1 -> 25.1\n",
      "[notice] To update, run: C:\\Users\\arche\\AppData\\Local\\Microsoft\\WindowsApps\\PythonSoftwareFoundation.Python.3.13_qbz5n2kfra8p0\\python.exe -m pip install --upgrade pip\n"
     ]
    },
    {
     "name": "stdout",
     "output_type": "stream",
     "text": [
      "Defaulting to user installation because normal site-packages is not writeable\n",
      "Requirement already satisfied: neurokit2 in c:\\users\\arche\\appdata\\local\\packages\\pythonsoftwarefoundation.python.3.13_qbz5n2kfra8p0\\localcache\\local-packages\\python313\\site-packages (0.2.10)\n",
      "Requirement already satisfied: requests in c:\\users\\arche\\appdata\\local\\packages\\pythonsoftwarefoundation.python.3.13_qbz5n2kfra8p0\\localcache\\local-packages\\python313\\site-packages (from neurokit2) (2.32.3)\n",
      "Requirement already satisfied: numpy in c:\\users\\arche\\appdata\\local\\packages\\pythonsoftwarefoundation.python.3.13_qbz5n2kfra8p0\\localcache\\local-packages\\python313\\site-packages (from neurokit2) (2.2.4)\n",
      "Requirement already satisfied: pandas in c:\\users\\arche\\appdata\\local\\packages\\pythonsoftwarefoundation.python.3.13_qbz5n2kfra8p0\\localcache\\local-packages\\python313\\site-packages (from neurokit2) (2.2.3)\n",
      "Requirement already satisfied: scipy in c:\\users\\arche\\appdata\\local\\packages\\pythonsoftwarefoundation.python.3.13_qbz5n2kfra8p0\\localcache\\local-packages\\python313\\site-packages (from neurokit2) (1.15.2)\n",
      "Requirement already satisfied: scikit-learn>=1.0.0 in c:\\users\\arche\\appdata\\local\\packages\\pythonsoftwarefoundation.python.3.13_qbz5n2kfra8p0\\localcache\\local-packages\\python313\\site-packages (from neurokit2) (1.6.1)\n",
      "Requirement already satisfied: matplotlib in c:\\users\\arche\\appdata\\local\\packages\\pythonsoftwarefoundation.python.3.13_qbz5n2kfra8p0\\localcache\\local-packages\\python313\\site-packages (from neurokit2) (3.10.1)\n",
      "Requirement already satisfied: joblib>=1.2.0 in c:\\users\\arche\\appdata\\local\\packages\\pythonsoftwarefoundation.python.3.13_qbz5n2kfra8p0\\localcache\\local-packages\\python313\\site-packages (from scikit-learn>=1.0.0->neurokit2) (1.4.2)\n",
      "Requirement already satisfied: threadpoolctl>=3.1.0 in c:\\users\\arche\\appdata\\local\\packages\\pythonsoftwarefoundation.python.3.13_qbz5n2kfra8p0\\localcache\\local-packages\\python313\\site-packages (from scikit-learn>=1.0.0->neurokit2) (3.6.0)\n",
      "Requirement already satisfied: contourpy>=1.0.1 in c:\\users\\arche\\appdata\\local\\packages\\pythonsoftwarefoundation.python.3.13_qbz5n2kfra8p0\\localcache\\local-packages\\python313\\site-packages (from matplotlib->neurokit2) (1.3.2)\n",
      "Requirement already satisfied: cycler>=0.10 in c:\\users\\arche\\appdata\\local\\packages\\pythonsoftwarefoundation.python.3.13_qbz5n2kfra8p0\\localcache\\local-packages\\python313\\site-packages (from matplotlib->neurokit2) (0.12.1)\n",
      "Requirement already satisfied: fonttools>=4.22.0 in c:\\users\\arche\\appdata\\local\\packages\\pythonsoftwarefoundation.python.3.13_qbz5n2kfra8p0\\localcache\\local-packages\\python313\\site-packages (from matplotlib->neurokit2) (4.57.0)\n",
      "Requirement already satisfied: kiwisolver>=1.3.1 in c:\\users\\arche\\appdata\\local\\packages\\pythonsoftwarefoundation.python.3.13_qbz5n2kfra8p0\\localcache\\local-packages\\python313\\site-packages (from matplotlib->neurokit2) (1.4.8)\n",
      "Requirement already satisfied: packaging>=20.0 in c:\\users\\arche\\appdata\\local\\packages\\pythonsoftwarefoundation.python.3.13_qbz5n2kfra8p0\\localcache\\local-packages\\python313\\site-packages (from matplotlib->neurokit2) (24.2)\n",
      "Requirement already satisfied: pillow>=8 in c:\\users\\arche\\appdata\\local\\packages\\pythonsoftwarefoundation.python.3.13_qbz5n2kfra8p0\\localcache\\local-packages\\python313\\site-packages (from matplotlib->neurokit2) (11.2.1)\n",
      "Requirement already satisfied: pyparsing>=2.3.1 in c:\\users\\arche\\appdata\\local\\packages\\pythonsoftwarefoundation.python.3.13_qbz5n2kfra8p0\\localcache\\local-packages\\python313\\site-packages (from matplotlib->neurokit2) (3.2.3)\n",
      "Requirement already satisfied: python-dateutil>=2.7 in c:\\users\\arche\\appdata\\local\\packages\\pythonsoftwarefoundation.python.3.13_qbz5n2kfra8p0\\localcache\\local-packages\\python313\\site-packages (from matplotlib->neurokit2) (2.9.0.post0)\n",
      "Requirement already satisfied: pytz>=2020.1 in c:\\users\\arche\\appdata\\local\\packages\\pythonsoftwarefoundation.python.3.13_qbz5n2kfra8p0\\localcache\\local-packages\\python313\\site-packages (from pandas->neurokit2) (2025.2)\n",
      "Requirement already satisfied: tzdata>=2022.7 in c:\\users\\arche\\appdata\\local\\packages\\pythonsoftwarefoundation.python.3.13_qbz5n2kfra8p0\\localcache\\local-packages\\python313\\site-packages (from pandas->neurokit2) (2025.2)\n",
      "Requirement already satisfied: charset-normalizer<4,>=2 in c:\\users\\arche\\appdata\\local\\packages\\pythonsoftwarefoundation.python.3.13_qbz5n2kfra8p0\\localcache\\local-packages\\python313\\site-packages (from requests->neurokit2) (3.4.1)\n",
      "Requirement already satisfied: idna<4,>=2.5 in c:\\users\\arche\\appdata\\local\\packages\\pythonsoftwarefoundation.python.3.13_qbz5n2kfra8p0\\localcache\\local-packages\\python313\\site-packages (from requests->neurokit2) (3.10)\n",
      "Requirement already satisfied: urllib3<3,>=1.21.1 in c:\\users\\arche\\appdata\\local\\packages\\pythonsoftwarefoundation.python.3.13_qbz5n2kfra8p0\\localcache\\local-packages\\python313\\site-packages (from requests->neurokit2) (2.3.0)\n",
      "Requirement already satisfied: certifi>=2017.4.17 in c:\\users\\arche\\appdata\\local\\packages\\pythonsoftwarefoundation.python.3.13_qbz5n2kfra8p0\\localcache\\local-packages\\python313\\site-packages (from requests->neurokit2) (2025.1.31)\n",
      "Requirement already satisfied: six>=1.5 in c:\\users\\arche\\appdata\\local\\packages\\pythonsoftwarefoundation.python.3.13_qbz5n2kfra8p0\\localcache\\local-packages\\python313\\site-packages (from python-dateutil>=2.7->matplotlib->neurokit2) (1.17.0)\n",
      "Note: you may need to restart the kernel to use updated packages.\n"
     ]
    },
    {
     "name": "stderr",
     "output_type": "stream",
     "text": [
      "\n",
      "[notice] A new release of pip is available: 25.0.1 -> 25.1\n",
      "[notice] To update, run: C:\\Users\\arche\\AppData\\Local\\Microsoft\\WindowsApps\\PythonSoftwareFoundation.Python.3.13_qbz5n2kfra8p0\\python.exe -m pip install --upgrade pip\n"
     ]
    },
    {
     "name": "stdout",
     "output_type": "stream",
     "text": [
      "Defaulting to user installation because normal site-packages is not writeable\n",
      "Requirement already satisfied: pandas in c:\\users\\arche\\appdata\\local\\packages\\pythonsoftwarefoundation.python.3.13_qbz5n2kfra8p0\\localcache\\local-packages\\python313\\site-packages (2.2.3)\n",
      "Requirement already satisfied: numpy>=1.26.0 in c:\\users\\arche\\appdata\\local\\packages\\pythonsoftwarefoundation.python.3.13_qbz5n2kfra8p0\\localcache\\local-packages\\python313\\site-packages (from pandas) (2.2.4)\n",
      "Requirement already satisfied: python-dateutil>=2.8.2 in c:\\users\\arche\\appdata\\local\\packages\\pythonsoftwarefoundation.python.3.13_qbz5n2kfra8p0\\localcache\\local-packages\\python313\\site-packages (from pandas) (2.9.0.post0)\n",
      "Requirement already satisfied: pytz>=2020.1 in c:\\users\\arche\\appdata\\local\\packages\\pythonsoftwarefoundation.python.3.13_qbz5n2kfra8p0\\localcache\\local-packages\\python313\\site-packages (from pandas) (2025.2)\n",
      "Requirement already satisfied: tzdata>=2022.7 in c:\\users\\arche\\appdata\\local\\packages\\pythonsoftwarefoundation.python.3.13_qbz5n2kfra8p0\\localcache\\local-packages\\python313\\site-packages (from pandas) (2025.2)\n",
      "Requirement already satisfied: six>=1.5 in c:\\users\\arche\\appdata\\local\\packages\\pythonsoftwarefoundation.python.3.13_qbz5n2kfra8p0\\localcache\\local-packages\\python313\\site-packages (from python-dateutil>=2.8.2->pandas) (1.17.0)\n",
      "Note: you may need to restart the kernel to use updated packages.\n"
     ]
    },
    {
     "name": "stderr",
     "output_type": "stream",
     "text": [
      "\n",
      "[notice] A new release of pip is available: 25.0.1 -> 25.1\n",
      "[notice] To update, run: C:\\Users\\arche\\AppData\\Local\\Microsoft\\WindowsApps\\PythonSoftwareFoundation.Python.3.13_qbz5n2kfra8p0\\python.exe -m pip install --upgrade pip\n"
     ]
    },
    {
     "name": "stdout",
     "output_type": "stream",
     "text": [
      "Defaulting to user installation because normal site-packages is not writeable\n",
      "Requirement already satisfied: tqdm in c:\\users\\arche\\appdata\\local\\packages\\pythonsoftwarefoundation.python.3.13_qbz5n2kfra8p0\\localcache\\local-packages\\python313\\site-packages (4.67.1)\n",
      "Requirement already satisfied: colorama in c:\\users\\arche\\appdata\\local\\packages\\pythonsoftwarefoundation.python.3.13_qbz5n2kfra8p0\\localcache\\local-packages\\python313\\site-packages (from tqdm) (0.4.6)\n",
      "Note: you may need to restart the kernel to use updated packages.\n"
     ]
    },
    {
     "name": "stderr",
     "output_type": "stream",
     "text": [
      "\n",
      "[notice] A new release of pip is available: 25.0.1 -> 25.1\n",
      "[notice] To update, run: C:\\Users\\arche\\AppData\\Local\\Microsoft\\WindowsApps\\PythonSoftwareFoundation.Python.3.13_qbz5n2kfra8p0\\python.exe -m pip install --upgrade pip\n"
     ]
    }
   ],
   "source": [
    "%pip install numpy\n",
    "%pip install scipy\n",
    "%pip install matplotlib\n",
    "%pip install neurokit2 \n",
    "%pip install pandas\n",
    "%pip install tqdm"
   ]
  },
  {
   "cell_type": "code",
   "execution_count": 119,
   "id": "3aebcb02",
   "metadata": {},
   "outputs": [],
   "source": [
    "def calculate_heart_features(signal, sampling_rate):\n",
    "    \"\"\"Calculate heart-related features such as BPM, RR intervals, and others using Pan-Tompkins method.\"\"\"\n",
    "    try:\n",
    "        # Detect R-peaks using NeuroKit2's Pan-Tompkins based method (implemented in ECG process)\n",
    "        signals, info = nk.ecg_process(signal, sampling_rate=sampling_rate)\n",
    "        rpeaks = info['ECG_R_Peaks']\n",
    "\n",
    "        # Check if there are enough R-peaks\n",
    "        if len(rpeaks) < 2:\n",
    "            print(f\"⚠️ Not enough R-peaks detected. Found: {len(rpeaks)}\")\n",
    "            return np.nan, np.nan, np.nan, np.nan, np.nan, np.nan, \"\"\n",
    "\n",
    "        # RR intervals\n",
    "        try:\n",
    "            rr_intervals = np.diff(rpeaks) / sampling_rate\n",
    "        except ZeroDivisionError:\n",
    "            print(\"⚠️ ZeroDivisionError while calculating RR intervals.\")\n",
    "            return np.nan, np.nan, np.nan, np.nan, np.nan, np.nan, \"\"\n",
    "\n",
    "        if len(rr_intervals) == 0:\n",
    "            print(\"⚠️ No RR intervals calculated.\")\n",
    "            return np.nan, np.nan, np.nan, np.nan, np.nan, np.nan, \"\"\n",
    "\n",
    "        # BPM Calculation\n",
    "        bpm = np.nan\n",
    "        try:\n",
    "            if len(rr_intervals) > 0:\n",
    "                bpm = 60 / np.mean(rr_intervals)\n",
    "        except ZeroDivisionError:\n",
    "            print(\"⚠️ ZeroDivisionError while calculating BPM.\")\n",
    "            bpm = np.nan\n",
    "\n",
    "        # RR Interval stats (average, min, max, median)\n",
    "        try:\n",
    "            average_rr = np.mean(rr_intervals)\n",
    "            min_rr = np.min(rr_intervals)\n",
    "            max_rr = np.max(rr_intervals)\n",
    "            median_rr = np.median(rr_intervals)\n",
    "        except Exception as e:\n",
    "            print(f\"⚠️ Error calculating RR interval stats: {e}\")\n",
    "            average_rr = min_rr = max_rr = median_rr = np.nan\n",
    "\n",
    "        # PT Interval (approximate)\n",
    "        pt_interval = average_rr\n",
    "\n",
    "        # Local RR differences (sliding window of 10)\n",
    "        local_rr = []\n",
    "        try:\n",
    "            if len(rr_intervals) > 10:\n",
    "                local_rr = [abs(rr_intervals[i] - rr_intervals[i+10]) for i in range(len(rr_intervals)-10)]\n",
    "        except Exception as e:\n",
    "            print(f\"⚠️ Error calculating local RR intervals: {e}\")\n",
    "            local_rr = []\n",
    "\n",
    "        return bpm, average_rr, min_rr, max_rr, pt_interval, median_rr, ','.join(map(str, local_rr))\n",
    "\n",
    "    except Exception as e:\n",
    "        print(f\"❌ Error calculating heart features: {e}\")\n",
    "        return np.nan, np.nan, np.nan, np.nan, np.nan, np.nan, \"\"\n",
    "\n",
    "\n",
    "def process_single_ecg(file_path, header_path, sampling_rate=500, downsample_factor=10, plot_signal=False, failed_log_file=\"failed_ecg_files.log\"):\n",
    "    \"\"\"Process one ECG file and return extracted features.\"\"\"\n",
    "    try:\n",
    "        mat_data = scipy.io.loadmat(file_path)\n",
    "        ecg_data = mat_data['val']\n",
    "        \n",
    "        # Select Lead II (assuming second lead)\n",
    "        lead_II = ecg_data[1]\n",
    "\n",
    "        # Preprocess\n",
    "        lead_II = preprocess_signal(lead_II, original_fs=sampling_rate, downsample_factor=downsample_factor)\n",
    "        new_sampling_rate = sampling_rate // downsample_factor\n",
    "\n",
    "        # Extract features\n",
    "        bpm, avg_rr, min_rr, max_rr, pt_interval, median_rr, local_rr = calculate_heart_features(lead_II, new_sampling_rate)\n",
    "\n",
    "        # If R-peak detection failed, log the file and return NaN values\n",
    "        if np.isnan(bpm):\n",
    "            with open(failed_log_file, \"a\") as log:\n",
    "                log.write(f\"Failed to process {file_path}\\n\")\n",
    "\n",
    "            header_info = read_header_info(header_path)\n",
    "            return {\n",
    "                'PersonID': os.path.splitext(os.path.basename(file_path))[0],\n",
    "                'Age': header_info['Age'],\n",
    "                'Sex': header_info['Sex'],\n",
    "                'Arrhythmia': header_info['Arrhythmia'],\n",
    "                'BPM': np.nan,\n",
    "                'Average_RR_Interval': np.nan,\n",
    "                'Min_RR_Interval': np.nan,\n",
    "                'Max_RR_Interval': np.nan,\n",
    "                'PT_Interval': np.nan,\n",
    "                'RR_Median': np.nan,\n",
    "                'Local_RR_Intervals': np.nan\n",
    "            }\n",
    "\n",
    "        # If successful, proceed with the normal processing\n",
    "        header_info = read_header_info(header_path)\n",
    "\n",
    "        if plot_signal:\n",
    "            plot_ecg(lead_II, new_sampling_rate, title=os.path.basename(file_path))\n",
    "\n",
    "        return {\n",
    "            'PersonID': os.path.splitext(os.path.basename(file_path))[0],\n",
    "            'Age': header_info['Age'],\n",
    "            'Sex': header_info['Sex'],\n",
    "            'Arrhythmia': header_info['Arrhythmia'],\n",
    "            'BPM': bpm,\n",
    "            'Average_RR_Interval': avg_rr,\n",
    "            'Min_RR_Interval': min_rr,\n",
    "            'Max_RR_Interval': max_rr,\n",
    "            'PT_Interval': pt_interval,\n",
    "            'RR_Median': median_rr,\n",
    "            'Local_RR_Intervals': local_rr\n",
    "        }\n",
    "    except Exception as e:\n",
    "        print(f\"❌ Error processing {file_path}: {e}\")\n",
    "        return None\n"
   ]
  },
  {
   "cell_type": "code",
   "execution_count": 120,
   "id": "7b022b47-fea2-4902-86e2-e4b2874b363d",
   "metadata": {},
   "outputs": [],
   "source": [
    "def main():\n",
    "    # Call the function to process all ECG files with multithreading\n",
    "    df = process_all_ecg_files(\n",
    "        base_path=\".\",         # path where PhysioNet is located\n",
    "        downsample_factor=10,  # downsample factor\n",
    "        output_csv=\"ecg_data_summary.csv\",  # output CSV file name\n",
    "        plot_signals=False,    # set True to plot each ECG\n",
    "        num_threads=6         # number of threads for parallel processing (adjust as needed)\n",
    "    )\n",
    "    return df"
   ]
  },
  {
   "cell_type": "code",
   "execution_count": null,
   "id": "ecf52876-95b7-4875-8ff5-1b813115ec86",
   "metadata": {},
   "outputs": [
    {
     "name": "stdout",
     "output_type": "stream",
     "text": [
      "✅ Found PhysioNet folder: .\\physionet.org\n",
      "\n",
      "📈 Found 45152 ECG files to process.\n",
      "\n"
     ]
    },
    {
     "name": "stderr",
     "output_type": "stream",
     "text": [
      "Processing ECG files:   0%|                                                                                                                                                  | 37/45152 [00:01<34:26, 21.83it/s]"
     ]
    },
    {
     "name": "stdout",
     "output_type": "stream",
     "text": [
      "❌ Error calculating heart features: integer division or modulo by zero\n"
     ]
    },
    {
     "name": "stderr",
     "output_type": "stream",
     "text": [
      "Processing ECG files:   0%|▎                                                                                                                                                 | 95/45152 [00:04<32:23, 23.19it/s]"
     ]
    },
    {
     "name": "stdout",
     "output_type": "stream",
     "text": [
      "❌ Error calculating heart features: integer division or modulo by zero\n"
     ]
    },
    {
     "name": "stderr",
     "output_type": "stream",
     "text": [
      "Processing ECG files:   0%|▋                                                                                                                                                | 202/45152 [00:08<27:58, 26.78it/s]"
     ]
    },
    {
     "name": "stdout",
     "output_type": "stream",
     "text": [
      "❌ Error calculating heart features: integer division or modulo by zero\n"
     ]
    },
    {
     "name": "stderr",
     "output_type": "stream",
     "text": [
      "Processing ECG files:   0%|▋                                                                                                                                                | 214/45152 [00:09<33:29, 22.37it/s]"
     ]
    },
    {
     "name": "stdout",
     "output_type": "stream",
     "text": [
      "❌ Error calculating heart features: cannot convert float NaN to integer\n"
     ]
    },
    {
     "name": "stderr",
     "output_type": "stream",
     "text": [
      "Processing ECG files:   1%|▉                                                                                                                                                | 300/45152 [00:13<31:14, 23.93it/s]"
     ]
    },
    {
     "name": "stdout",
     "output_type": "stream",
     "text": [
      "❌ Error calculating heart features: integer division or modulo by zero\n"
     ]
    },
    {
     "name": "stderr",
     "output_type": "stream",
     "text": [
      "Processing ECG files:   1%|█                                                                                                                                                | 314/45152 [00:13<31:14, 23.92it/s]"
     ]
    }
   ],
   "source": [
    "df = main()"
   ]
  }
 ],
 "metadata": {
  "kernelspec": {
   "display_name": "Python 3 (ipykernel)",
   "language": "python",
   "name": "python3"
  },
  "language_info": {
   "codemirror_mode": {
    "name": "ipython",
    "version": 3
   },
   "file_extension": ".py",
   "mimetype": "text/x-python",
   "name": "python",
   "nbconvert_exporter": "python",
   "pygments_lexer": "ipython3",
   "version": "3.13.3"
  }
 },
 "nbformat": 4,
 "nbformat_minor": 5
}
