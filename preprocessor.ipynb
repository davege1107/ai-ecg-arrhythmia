{
 "cells": [
  {
   "cell_type": "code",
   "execution_count": 85,
   "id": "18484770",
   "metadata": {},
   "outputs": [
    {
     "name": "stdout",
     "output_type": "stream",
     "text": [
      "Defaulting to user installation because normal site-packages is not writeable\n",
      "Requirement already satisfied: numpy in c:\\users\\arche\\appdata\\local\\packages\\pythonsoftwarefoundation.python.3.13_qbz5n2kfra8p0\\localcache\\local-packages\\python313\\site-packages (2.2.4)\n",
      "Note: you may need to restart the kernel to use updated packages.\n"
     ]
    },
    {
     "name": "stderr",
     "output_type": "stream",
     "text": [
      "\n",
      "[notice] A new release of pip is available: 25.0.1 -> 25.1\n",
      "[notice] To update, run: C:\\Users\\arche\\AppData\\Local\\Microsoft\\WindowsApps\\PythonSoftwareFoundation.Python.3.13_qbz5n2kfra8p0\\python.exe -m pip install --upgrade pip\n"
     ]
    },
    {
     "name": "stdout",
     "output_type": "stream",
     "text": [
      "Defaulting to user installation because normal site-packages is not writeable\n",
      "Requirement already satisfied: scipy in c:\\users\\arche\\appdata\\local\\packages\\pythonsoftwarefoundation.python.3.13_qbz5n2kfra8p0\\localcache\\local-packages\\python313\\site-packages (1.15.2)\n",
      "Requirement already satisfied: numpy<2.5,>=1.23.5 in c:\\users\\arche\\appdata\\local\\packages\\pythonsoftwarefoundation.python.3.13_qbz5n2kfra8p0\\localcache\\local-packages\\python313\\site-packages (from scipy) (2.2.4)\n",
      "Note: you may need to restart the kernel to use updated packages.\n"
     ]
    },
    {
     "name": "stderr",
     "output_type": "stream",
     "text": [
      "\n",
      "[notice] A new release of pip is available: 25.0.1 -> 25.1\n",
      "[notice] To update, run: C:\\Users\\arche\\AppData\\Local\\Microsoft\\WindowsApps\\PythonSoftwareFoundation.Python.3.13_qbz5n2kfra8p0\\python.exe -m pip install --upgrade pip\n"
     ]
    },
    {
     "name": "stdout",
     "output_type": "stream",
     "text": [
      "Defaulting to user installation because normal site-packages is not writeable\n",
      "Requirement already satisfied: matplotlib in c:\\users\\arche\\appdata\\local\\packages\\pythonsoftwarefoundation.python.3.13_qbz5n2kfra8p0\\localcache\\local-packages\\python313\\site-packages (3.10.1)\n",
      "Requirement already satisfied: contourpy>=1.0.1 in c:\\users\\arche\\appdata\\local\\packages\\pythonsoftwarefoundation.python.3.13_qbz5n2kfra8p0\\localcache\\local-packages\\python313\\site-packages (from matplotlib) (1.3.2)\n",
      "Requirement already satisfied: cycler>=0.10 in c:\\users\\arche\\appdata\\local\\packages\\pythonsoftwarefoundation.python.3.13_qbz5n2kfra8p0\\localcache\\local-packages\\python313\\site-packages (from matplotlib) (0.12.1)\n",
      "Requirement already satisfied: fonttools>=4.22.0 in c:\\users\\arche\\appdata\\local\\packages\\pythonsoftwarefoundation.python.3.13_qbz5n2kfra8p0\\localcache\\local-packages\\python313\\site-packages (from matplotlib) (4.57.0)\n",
      "Requirement already satisfied: kiwisolver>=1.3.1 in c:\\users\\arche\\appdata\\local\\packages\\pythonsoftwarefoundation.python.3.13_qbz5n2kfra8p0\\localcache\\local-packages\\python313\\site-packages (from matplotlib) (1.4.8)\n",
      "Requirement already satisfied: numpy>=1.23 in c:\\users\\arche\\appdata\\local\\packages\\pythonsoftwarefoundation.python.3.13_qbz5n2kfra8p0\\localcache\\local-packages\\python313\\site-packages (from matplotlib) (2.2.4)\n",
      "Requirement already satisfied: packaging>=20.0 in c:\\users\\arche\\appdata\\local\\packages\\pythonsoftwarefoundation.python.3.13_qbz5n2kfra8p0\\localcache\\local-packages\\python313\\site-packages (from matplotlib) (24.2)\n",
      "Requirement already satisfied: pillow>=8 in c:\\users\\arche\\appdata\\local\\packages\\pythonsoftwarefoundation.python.3.13_qbz5n2kfra8p0\\localcache\\local-packages\\python313\\site-packages (from matplotlib) (11.2.1)\n",
      "Requirement already satisfied: pyparsing>=2.3.1 in c:\\users\\arche\\appdata\\local\\packages\\pythonsoftwarefoundation.python.3.13_qbz5n2kfra8p0\\localcache\\local-packages\\python313\\site-packages (from matplotlib) (3.2.3)\n",
      "Requirement already satisfied: python-dateutil>=2.7 in c:\\users\\arche\\appdata\\local\\packages\\pythonsoftwarefoundation.python.3.13_qbz5n2kfra8p0\\localcache\\local-packages\\python313\\site-packages (from matplotlib) (2.9.0.post0)\n",
      "Requirement already satisfied: six>=1.5 in c:\\users\\arche\\appdata\\local\\packages\\pythonsoftwarefoundation.python.3.13_qbz5n2kfra8p0\\localcache\\local-packages\\python313\\site-packages (from python-dateutil>=2.7->matplotlib) (1.17.0)\n",
      "Note: you may need to restart the kernel to use updated packages.\n"
     ]
    },
    {
     "name": "stderr",
     "output_type": "stream",
     "text": [
      "\n",
      "[notice] A new release of pip is available: 25.0.1 -> 25.1\n",
      "[notice] To update, run: C:\\Users\\arche\\AppData\\Local\\Microsoft\\WindowsApps\\PythonSoftwareFoundation.Python.3.13_qbz5n2kfra8p0\\python.exe -m pip install --upgrade pip\n"
     ]
    },
    {
     "name": "stdout",
     "output_type": "stream",
     "text": [
      "Defaulting to user installation because normal site-packages is not writeable\n",
      "Requirement already satisfied: neurokit2 in c:\\users\\arche\\appdata\\local\\packages\\pythonsoftwarefoundation.python.3.13_qbz5n2kfra8p0\\localcache\\local-packages\\python313\\site-packages (0.2.10)\n",
      "Requirement already satisfied: requests in c:\\users\\arche\\appdata\\local\\packages\\pythonsoftwarefoundation.python.3.13_qbz5n2kfra8p0\\localcache\\local-packages\\python313\\site-packages (from neurokit2) (2.32.3)\n",
      "Requirement already satisfied: numpy in c:\\users\\arche\\appdata\\local\\packages\\pythonsoftwarefoundation.python.3.13_qbz5n2kfra8p0\\localcache\\local-packages\\python313\\site-packages (from neurokit2) (2.2.4)\n",
      "Requirement already satisfied: pandas in c:\\users\\arche\\appdata\\local\\packages\\pythonsoftwarefoundation.python.3.13_qbz5n2kfra8p0\\localcache\\local-packages\\python313\\site-packages (from neurokit2) (2.2.3)\n",
      "Requirement already satisfied: scipy in c:\\users\\arche\\appdata\\local\\packages\\pythonsoftwarefoundation.python.3.13_qbz5n2kfra8p0\\localcache\\local-packages\\python313\\site-packages (from neurokit2) (1.15.2)\n",
      "Requirement already satisfied: scikit-learn>=1.0.0 in c:\\users\\arche\\appdata\\local\\packages\\pythonsoftwarefoundation.python.3.13_qbz5n2kfra8p0\\localcache\\local-packages\\python313\\site-packages (from neurokit2) (1.6.1)\n",
      "Requirement already satisfied: matplotlib in c:\\users\\arche\\appdata\\local\\packages\\pythonsoftwarefoundation.python.3.13_qbz5n2kfra8p0\\localcache\\local-packages\\python313\\site-packages (from neurokit2) (3.10.1)\n",
      "Requirement already satisfied: joblib>=1.2.0 in c:\\users\\arche\\appdata\\local\\packages\\pythonsoftwarefoundation.python.3.13_qbz5n2kfra8p0\\localcache\\local-packages\\python313\\site-packages (from scikit-learn>=1.0.0->neurokit2) (1.4.2)\n",
      "Requirement already satisfied: threadpoolctl>=3.1.0 in c:\\users\\arche\\appdata\\local\\packages\\pythonsoftwarefoundation.python.3.13_qbz5n2kfra8p0\\localcache\\local-packages\\python313\\site-packages (from scikit-learn>=1.0.0->neurokit2) (3.6.0)\n",
      "Requirement already satisfied: contourpy>=1.0.1 in c:\\users\\arche\\appdata\\local\\packages\\pythonsoftwarefoundation.python.3.13_qbz5n2kfra8p0\\localcache\\local-packages\\python313\\site-packages (from matplotlib->neurokit2) (1.3.2)\n",
      "Requirement already satisfied: cycler>=0.10 in c:\\users\\arche\\appdata\\local\\packages\\pythonsoftwarefoundation.python.3.13_qbz5n2kfra8p0\\localcache\\local-packages\\python313\\site-packages (from matplotlib->neurokit2) (0.12.1)\n",
      "Requirement already satisfied: fonttools>=4.22.0 in c:\\users\\arche\\appdata\\local\\packages\\pythonsoftwarefoundation.python.3.13_qbz5n2kfra8p0\\localcache\\local-packages\\python313\\site-packages (from matplotlib->neurokit2) (4.57.0)\n",
      "Requirement already satisfied: kiwisolver>=1.3.1 in c:\\users\\arche\\appdata\\local\\packages\\pythonsoftwarefoundation.python.3.13_qbz5n2kfra8p0\\localcache\\local-packages\\python313\\site-packages (from matplotlib->neurokit2) (1.4.8)\n",
      "Requirement already satisfied: packaging>=20.0 in c:\\users\\arche\\appdata\\local\\packages\\pythonsoftwarefoundation.python.3.13_qbz5n2kfra8p0\\localcache\\local-packages\\python313\\site-packages (from matplotlib->neurokit2) (24.2)\n",
      "Requirement already satisfied: pillow>=8 in c:\\users\\arche\\appdata\\local\\packages\\pythonsoftwarefoundation.python.3.13_qbz5n2kfra8p0\\localcache\\local-packages\\python313\\site-packages (from matplotlib->neurokit2) (11.2.1)\n",
      "Requirement already satisfied: pyparsing>=2.3.1 in c:\\users\\arche\\appdata\\local\\packages\\pythonsoftwarefoundation.python.3.13_qbz5n2kfra8p0\\localcache\\local-packages\\python313\\site-packages (from matplotlib->neurokit2) (3.2.3)\n",
      "Requirement already satisfied: python-dateutil>=2.7 in c:\\users\\arche\\appdata\\local\\packages\\pythonsoftwarefoundation.python.3.13_qbz5n2kfra8p0\\localcache\\local-packages\\python313\\site-packages (from matplotlib->neurokit2) (2.9.0.post0)\n",
      "Requirement already satisfied: pytz>=2020.1 in c:\\users\\arche\\appdata\\local\\packages\\pythonsoftwarefoundation.python.3.13_qbz5n2kfra8p0\\localcache\\local-packages\\python313\\site-packages (from pandas->neurokit2) (2025.2)\n",
      "Requirement already satisfied: tzdata>=2022.7 in c:\\users\\arche\\appdata\\local\\packages\\pythonsoftwarefoundation.python.3.13_qbz5n2kfra8p0\\localcache\\local-packages\\python313\\site-packages (from pandas->neurokit2) (2025.2)\n",
      "Requirement already satisfied: charset-normalizer<4,>=2 in c:\\users\\arche\\appdata\\local\\packages\\pythonsoftwarefoundation.python.3.13_qbz5n2kfra8p0\\localcache\\local-packages\\python313\\site-packages (from requests->neurokit2) (3.4.1)\n",
      "Requirement already satisfied: idna<4,>=2.5 in c:\\users\\arche\\appdata\\local\\packages\\pythonsoftwarefoundation.python.3.13_qbz5n2kfra8p0\\localcache\\local-packages\\python313\\site-packages (from requests->neurokit2) (3.10)\n",
      "Requirement already satisfied: urllib3<3,>=1.21.1 in c:\\users\\arche\\appdata\\local\\packages\\pythonsoftwarefoundation.python.3.13_qbz5n2kfra8p0\\localcache\\local-packages\\python313\\site-packages (from requests->neurokit2) (2.3.0)\n",
      "Requirement already satisfied: certifi>=2017.4.17 in c:\\users\\arche\\appdata\\local\\packages\\pythonsoftwarefoundation.python.3.13_qbz5n2kfra8p0\\localcache\\local-packages\\python313\\site-packages (from requests->neurokit2) (2025.1.31)\n",
      "Requirement already satisfied: six>=1.5 in c:\\users\\arche\\appdata\\local\\packages\\pythonsoftwarefoundation.python.3.13_qbz5n2kfra8p0\\localcache\\local-packages\\python313\\site-packages (from python-dateutil>=2.7->matplotlib->neurokit2) (1.17.0)\n",
      "Note: you may need to restart the kernel to use updated packages.\n"
     ]
    },
    {
     "name": "stderr",
     "output_type": "stream",
     "text": [
      "\n",
      "[notice] A new release of pip is available: 25.0.1 -> 25.1\n",
      "[notice] To update, run: C:\\Users\\arche\\AppData\\Local\\Microsoft\\WindowsApps\\PythonSoftwareFoundation.Python.3.13_qbz5n2kfra8p0\\python.exe -m pip install --upgrade pip\n"
     ]
    },
    {
     "name": "stdout",
     "output_type": "stream",
     "text": [
      "Defaulting to user installation because normal site-packages is not writeable\n",
      "Requirement already satisfied: pandas in c:\\users\\arche\\appdata\\local\\packages\\pythonsoftwarefoundation.python.3.13_qbz5n2kfra8p0\\localcache\\local-packages\\python313\\site-packages (2.2.3)\n",
      "Requirement already satisfied: numpy>=1.26.0 in c:\\users\\arche\\appdata\\local\\packages\\pythonsoftwarefoundation.python.3.13_qbz5n2kfra8p0\\localcache\\local-packages\\python313\\site-packages (from pandas) (2.2.4)\n",
      "Requirement already satisfied: python-dateutil>=2.8.2 in c:\\users\\arche\\appdata\\local\\packages\\pythonsoftwarefoundation.python.3.13_qbz5n2kfra8p0\\localcache\\local-packages\\python313\\site-packages (from pandas) (2.9.0.post0)\n",
      "Requirement already satisfied: pytz>=2020.1 in c:\\users\\arche\\appdata\\local\\packages\\pythonsoftwarefoundation.python.3.13_qbz5n2kfra8p0\\localcache\\local-packages\\python313\\site-packages (from pandas) (2025.2)\n",
      "Requirement already satisfied: tzdata>=2022.7 in c:\\users\\arche\\appdata\\local\\packages\\pythonsoftwarefoundation.python.3.13_qbz5n2kfra8p0\\localcache\\local-packages\\python313\\site-packages (from pandas) (2025.2)\n",
      "Requirement already satisfied: six>=1.5 in c:\\users\\arche\\appdata\\local\\packages\\pythonsoftwarefoundation.python.3.13_qbz5n2kfra8p0\\localcache\\local-packages\\python313\\site-packages (from python-dateutil>=2.8.2->pandas) (1.17.0)\n",
      "Note: you may need to restart the kernel to use updated packages.\n"
     ]
    },
    {
     "name": "stderr",
     "output_type": "stream",
     "text": [
      "\n",
      "[notice] A new release of pip is available: 25.0.1 -> 25.1\n",
      "[notice] To update, run: C:\\Users\\arche\\AppData\\Local\\Microsoft\\WindowsApps\\PythonSoftwareFoundation.Python.3.13_qbz5n2kfra8p0\\python.exe -m pip install --upgrade pip\n"
     ]
    },
    {
     "name": "stdout",
     "output_type": "stream",
     "text": [
      "Defaulting to user installation because normal site-packages is not writeable\n",
      "Requirement already satisfied: tqdm in c:\\users\\arche\\appdata\\local\\packages\\pythonsoftwarefoundation.python.3.13_qbz5n2kfra8p0\\localcache\\local-packages\\python313\\site-packages (4.67.1)\n",
      "Requirement already satisfied: colorama in c:\\users\\arche\\appdata\\local\\packages\\pythonsoftwarefoundation.python.3.13_qbz5n2kfra8p0\\localcache\\local-packages\\python313\\site-packages (from tqdm) (0.4.6)\n",
      "Note: you may need to restart the kernel to use updated packages.\n"
     ]
    },
    {
     "name": "stderr",
     "output_type": "stream",
     "text": [
      "\n",
      "[notice] A new release of pip is available: 25.0.1 -> 25.1\n",
      "[notice] To update, run: C:\\Users\\arche\\AppData\\Local\\Microsoft\\WindowsApps\\PythonSoftwareFoundation.Python.3.13_qbz5n2kfra8p0\\python.exe -m pip install --upgrade pip\n"
     ]
    }
   ],
   "source": [
    "%pip install numpy\n",
    "%pip install scipy\n",
    "%pip install matplotlib\n",
    "%pip install neurokit2 \n",
    "%pip install pandas\n",
    "%pip install tqdm"
   ]
  },
  {
   "cell_type": "code",
   "execution_count": 86,
   "id": "3aebcb02",
   "metadata": {},
   "outputs": [],
   "source": [
    "import os\n",
    "import pandas as pd\n",
    "import scipy.io\n",
    "import numpy as np\n",
    "import neurokit2 as nk\n",
    "import matplotlib.pyplot as plt\n",
    "from tqdm import tqdm\n",
    "from scipy.signal import butter, filtfilt\n",
    "\n",
    "def preprocess_signal(signal, original_fs=500, downsample_factor=10):\n",
    "    \"\"\"Preprocess the ECG signal by cleaning, downsampling, and filtering using a Butterworth filter.\"\"\"\n",
    "    try:\n",
    "        # Clean the signal: Replace NaN, inf, and extreme values with 0 or appropriate value\n",
    "        signal = np.nan_to_num(signal, nan=0.0, posinf=0.0, neginf=0.0)\n",
    "\n",
    "        # Optionally remove any extreme values (e.g., values beyond a certain threshold)\n",
    "        signal[signal > 10] = 0\n",
    "        signal[signal < -10] = 0\n",
    "\n",
    "        # Downsample the signal\n",
    "        downsampled_signal = signal[::downsample_factor]\n",
    "\n",
    "        # Now define the new sampling rate\n",
    "        new_fs = original_fs / downsample_factor\n",
    "        nyquist = 0.5 * new_fs\n",
    "\n",
    "        # Define filter cutoffs relative to new sampling rate\n",
    "        low_cutoff = 0.5   # Hz\n",
    "        high_cutoff = 20.0 # Hz (keep a reasonable upper limit after downsampling)\n",
    "        low = low_cutoff / nyquist\n",
    "        high = high_cutoff / nyquist\n",
    "\n",
    "        if high >= 1.0:\n",
    "            high = 0.99  # safety margin if sampling too low\n",
    "\n",
    "        # Design Butterworth bandpass filter\n",
    "        b, a = butter(4, [low, high], btype='band')\n",
    "        filtered_signal = filtfilt(b, a, downsampled_signal)\n",
    "\n",
    "        return filtered_signal\n",
    "    except Exception as e:\n",
    "        print(f\"Error preprocessing signal: {e}\")\n",
    "        return signal  # Return the original signal if preprocessing fails\n",
    "\n",
    "        \n",
    "def plot_ecg(signal, sampling_rate, title=\"ECG Signal\"):\n",
    "    \"\"\"Plot the ECG signal.\"\"\"\n",
    "    try:\n",
    "        time = np.arange(0, len(signal)) / sampling_rate\n",
    "        plt.figure(figsize=(10, 4))\n",
    "        plt.plot(time, signal)\n",
    "        plt.title(title)\n",
    "        plt.xlabel(\"Time (seconds)\")\n",
    "        plt.ylabel(\"Amplitude\")\n",
    "        plt.grid(True)\n",
    "        plt.show()\n",
    "    except Exception as e:\n",
    "        print(f\"Error plotting ECG signal: {e}\")\n",
    "\n",
    "def read_header_info(header_file):\n",
    "    \"\"\"Read metadata from the .hea header file and extract age, sex, and arrhythmia information.\"\"\"\n",
    "    try:\n",
    "        with open(header_file, 'r') as f:\n",
    "            lines = f.readlines()\n",
    "\n",
    "        # Extract age, sex, and arrhythmia condition from the header\n",
    "        age = sex = arrhythmia = None\n",
    "        for line in lines:\n",
    "            if line.startswith(\"#Age:\"):\n",
    "                age = float(line.split(\":\")[1].strip())\n",
    "            elif line.startswith(\"#Sex:\"):\n",
    "                sex = line.split(\":\")[1].strip()\n",
    "            elif line.startswith(\"#Dx:\"):\n",
    "                arrhythmia_codes = line.split(\":\")[1].strip().split(\",\")\n",
    "                arrhythmia = any(code in arrhythmia_codes for code in [\n",
    "                                \"270492004\",  # 1st degree AV block (1AVB)\n",
    "                                \"195042002\",  # 2nd degree AV block (2AVB)\n",
    "                                \"54016002\",   # 2nd degree AV block Type I (2AVB1)\n",
    "                                \"28189009\",   # 2nd degree AV block Type II (2AVB2)\n",
    "                                \"27885002\",   # 3rd degree AV block (3AVB)\n",
    "                                \"251173003\",  # Atrial Bigeminy (ABI)\n",
    "                                \"284470004\",  # Atrial Premature Beats (APB)\n",
    "                                \"233917008\",  # Atrioventricular Block (AVB)\n",
    "                                \"698252002\",  # Intraventricular Block (IVB)\n",
    "                                \"426995002\",  # Junctional Escape Beat (JEB)\n",
    "                                \"251164006\",  # Junctional Premature Beat (JPT)\n",
    "                                \"164909002\",  # Left Bundle Branch Block (LBBB)\n",
    "                                \"59118001\",   # Right Bundle Branch Block (RBBB)\n",
    "                                \"74390002\",   # Wolff-Parkinson-White Syndrome (WPW)\n",
    "                                \"426177001\",  # Sinus Bradycardia (SB)\n",
    "                                \"164889003\",  # Atrial Fibrillation (AFIB)\n",
    "                                \"427084000\",  # Sinus Tachycardia (ST)\n",
    "                                \"164890007\",  # Atrial Flutter (AF)\n",
    "                                \"426761007\",  # Supraventricular Tachycardia (SVT)\n",
    "                                \"713422000\",  # Atrial Tachycardia (AT)\n",
    "                                \"233896004\",  # Atrioventricular Node Reentrant Tachycardia (AVNRT)\n",
    "                                \"233897008\",  # Atrioventricular Reentrant Tachycardia (AVRT)\n",
    "                                \"11157007\",   # Ventricular Bigeminy (VB)\n",
    "                                \"75532003\",   # Ventricular Escape Beat (VEB)\n",
    "                                \"13640000\",   # Ventricular Fusion Wave (VFW)\n",
    "                                \"17338001\",   # Ventricular Premature Beat (VPB)\n",
    "                                \"195060002\",  # Ventricular Preexcitation (VPE)\n",
    "                                \"251180001\"   # Ventricular Escape Trigeminy (VET)\n",
    "                            ])\n",
    "\n",
    "\n",
    "        return {\"Age\": age, \"Sex\": sex, \"Arrhythmia\": arrhythmia}\n",
    "    except Exception as e:\n",
    "        print(f\"Error reading header {header_file}: {e}\")\n",
    "        return None\n",
    "\n",
    "def calculate_heart_features(signal, sampling_rate):\n",
    "    \"\"\"Calculate heart-related features such as BPM, RR intervals, and others using Pan-Tompkins method.\"\"\"\n",
    "    try:\n",
    "        # Detect R-peaks using NeuroKit2's Pan-Tompkins based method (implemented in ECG process)\n",
    "        signals, info = nk.ecg_process(signal, sampling_rate=sampling_rate)\n",
    "        rpeaks = info['ECG_R_Peaks']\n",
    "\n",
    "        # Check if there are enough R-peaks\n",
    "        if len(rpeaks) < 2:\n",
    "            print(f\"Not enough R-peaks detected. Found: {len(rpeaks)}\")\n",
    "            return np.nan, np.nan, np.nan, np.nan, np.nan, np.nan, \"\"\n",
    "\n",
    "        # RR intervals\n",
    "        rr_intervals = np.diff(rpeaks) / sampling_rate\n",
    "\n",
    "        if len(rr_intervals) == 0:\n",
    "            print(\"No RR intervals calculated.\")\n",
    "            return np.nan, np.nan, np.nan, np.nan, np.nan, np.nan, \"\"\n",
    "\n",
    "        # BPM Calculation\n",
    "        bpm = 60 / np.mean(rr_intervals)\n",
    "\n",
    "        # RR Interval stats (average, min, max, median)\n",
    "        average_rr = np.mean(rr_intervals)\n",
    "        min_rr = np.min(rr_intervals)\n",
    "        max_rr = np.max(rr_intervals)\n",
    "        median_rr = np.median(rr_intervals)\n",
    "\n",
    "        # PT Interval (approximate)\n",
    "        pt_interval = average_rr\n",
    "\n",
    "        # Local RR differences (sliding window of 10)\n",
    "        local_rr = [abs(rr_intervals[i] - rr_intervals[i+10]) for i in range(len(rr_intervals)-10)]\n",
    "\n",
    "        return bpm, average_rr, min_rr, max_rr, pt_interval, median_rr, ','.join(map(str, local_rr))\n",
    "\n",
    "    except ZeroDivisionError as e:\n",
    "        print(f\"Error calculating heart features: integer division or modulo by zero\")\n",
    "        return None, None, None, None, None, None, \"integer division or modulo by zero\"\n",
    "\n",
    "    except Exception as e:\n",
    "        print(f\"Error calculating heart features: {e}\")\n",
    "        return None, None, None, None, None, None, str(e)\n",
    "\n",
    "def process_single_ecg(file_path, header_path, sampling_rate=500, downsample_factor=10, plot_signal=False, failed_log_file=\"failed_ecg_files.log\"):\n",
    "    \"\"\"Process one ECG file and return extracted features.\"\"\"\n",
    "    try:\n",
    "        mat_data = scipy.io.loadmat(file_path)\n",
    "        ecg_data = mat_data['val']\n",
    "        \n",
    "        # Select Lead II (assuming second lead)\n",
    "        lead_II = ecg_data[1]\n",
    "\n",
    "        # Preprocess\n",
    "        lead_II = preprocess_signal(lead_II, original_fs=sampling_rate, downsample_factor=downsample_factor)\n",
    "        new_sampling_rate = sampling_rate // downsample_factor\n",
    "\n",
    "        # Extract features\n",
    "        bpm, avg_rr, min_rr, max_rr, pt_interval, median_rr, local_rr = calculate_heart_features(lead_II, new_sampling_rate)\n",
    "\n",
    "        # If R-peak detection failed, log the file and return NaN values\n",
    "        if bpm is None:\n",
    "            with open(failed_log_file, \"a\") as log:\n",
    "                log.write(f\"Failed to process {file_path} - Reason: {local_rr}\\n\")\n",
    "\n",
    "            header_info = read_header_info(header_path)\n",
    "            return {\n",
    "                'PersonID': os.path.splitext(os.path.basename(file_path))[0],\n",
    "                'Age': header_info['Age'],\n",
    "                'Sex': header_info['Sex'],\n",
    "                'Arrhythmia': header_info['Arrhythmia'],\n",
    "                'BPM': np.nan,\n",
    "                'Average_RR_Interval': np.nan,\n",
    "                'Min_RR_Interval': np.nan,\n",
    "                'Max_RR_Interval': np.nan,\n",
    "                'PT_Interval': np.nan,\n",
    "                'RR_Median': np.nan,\n",
    "                'Local_RR_Intervals': np.nan\n",
    "            }\n",
    "\n",
    "        # If successful, proceed with the normal processing\n",
    "        header_info = read_header_info(header_path)\n",
    "\n",
    "        if plot_signal:\n",
    "            plot_ecg(lead_II, new_sampling_rate, title=os.path.basename(file_path))\n",
    "\n",
    "        return {\n",
    "            'PersonID': os.path.splitext(os.path.basename(file_path))[0],\n",
    "            'Age': header_info['Age'],\n",
    "            'Sex': header_info['Sex'],\n",
    "            'Arrhythmia': header_info['Arrhythmia'],\n",
    "            'BPM': bpm,\n",
    "            'Average_RR_Interval': avg_rr,\n",
    "            'Min_RR_Interval': min_rr,\n",
    "            'Max_RR_Interval': max_rr,\n",
    "            'PT_Interval': pt_interval,\n",
    "            'RR_Median': median_rr,\n",
    "            'Local_RR_Intervals': local_rr\n",
    "        }\n",
    "    except Exception as e:\n",
    "        print(f\"Error processing {file_path}: {e}\")\n",
    "        with open(failed_log_file, \"a\") as log:\n",
    "            log.write(f\"Error processing {file_path}: {e}\\n\")\n",
    "        return None\n",
    "\n",
    "def process_all_ecg_files(base_path, downsample_factor=10, output_csv=\"ecg_data_summary.csv\", plot_signals=False):\n",
    "    \"\"\"Recursively process all ECG+Header files in a directory sequentially.\"\"\"\n",
    "    ecg_files = []\n",
    "    header_files = []\n",
    "\n",
    "    # Walk through directories\n",
    "    for root, dirs, files in os.walk(base_path):\n",
    "        for file in files:\n",
    "            if file.endswith('.mat'):\n",
    "                ecg_path = os.path.join(root, file)\n",
    "                header_path = os.path.join(root, file.replace('.mat', '.hea'))\n",
    "                if os.path.exists(header_path):\n",
    "                    ecg_files.append(ecg_path)\n",
    "                    header_files.append(header_path)\n",
    "                else:\n",
    "                    print(f\"Header missing for {ecg_path}\")\n",
    "\n",
    "    print(f\"ECG files found: {len(ecg_files)}\")\n",
    "    print(f\"Header files found: {len(header_files)}\")\n",
    "\n",
    "    if not ecg_files:\n",
    "        print(\"No ECG files found! Exiting.\")\n",
    "        return pd.DataFrame()\n",
    "\n",
    "    results = []\n",
    "\n",
    "    # Add tqdm progress bar here\n",
    "    for ecg_path, header_path in tqdm(zip(ecg_files, header_files), total=len(ecg_files), desc=\"Processing ECG Files\"):\n",
    "        result = process_single_ecg(ecg_path, header_path, downsample_factor=downsample_factor, plot_signal=plot_signals)\n",
    "        if result:\n",
    "            results.append(result)\n",
    "        else:\n",
    "            print(\"Skipped a file due to processing failure\")\n",
    "\n",
    "    if results:\n",
    "        df = pd.DataFrame(results)\n",
    "        df.to_csv(output_csv, index=False)\n",
    "        print(f\"Data saved to {output_csv}\")\n",
    "        return df\n",
    "    else:\n",
    "        print(\"No valid data processed.\")\n",
    "        return pd.DataFrame()"
   ]
  },
  {
   "cell_type": "code",
   "execution_count": null,
   "id": "7b022b47-fea2-4902-86e2-e4b2874b363d",
   "metadata": {},
   "outputs": [
    {
     "name": "stdout",
     "output_type": "stream",
     "text": [
      "Current working directory: C:\\Users\\arche\\AIProject\\ai-ecg-arrhythmia\n",
      "ECG files found: 45152\n",
      "Header files found: 45152\n"
     ]
    },
    {
     "name": "stderr",
     "output_type": "stream",
     "text": [
      "Processing ECG Files:   0%|▍                                                                                                                                                | 128/45152 [00:05<31:46, 23.62it/s]C:\\Users\\arche\\AppData\\Local\\Packages\\PythonSoftwareFoundation.Python.3.13_qbz5n2kfra8p0\\LocalCache\\local-packages\\Python313\\site-packages\\numpy\\_core\\fromnumeric.py:3860: RuntimeWarning: Mean of empty slice.\n",
      "  return _methods._mean(a, axis=axis, dtype=dtype,\n",
      "C:\\Users\\arche\\AppData\\Local\\Packages\\PythonSoftwareFoundation.Python.3.13_qbz5n2kfra8p0\\LocalCache\\local-packages\\Python313\\site-packages\\numpy\\_core\\_methods.py:145: RuntimeWarning: invalid value encountered in scalar divide\n",
      "  ret = ret.dtype.type(ret / rcount)\n",
      "C:\\Users\\arche\\AppData\\Local\\Packages\\PythonSoftwareFoundation.Python.3.13_qbz5n2kfra8p0\\LocalCache\\local-packages\\Python313\\site-packages\\neurokit2\\signal\\signal_period.py:84: NeuroKitWarning: Too few peaks detected to compute the rate. Returning empty vector.\n",
      "  warn(\n",
      "Processing ECG Files:   0%|▍                                                                                                                                                | 135/45152 [00:05<30:31, 24.58it/s]"
     ]
    },
    {
     "name": "stdout",
     "output_type": "stream",
     "text": [
      "Error calculating heart features: cannot convert float NaN to integer\n"
     ]
    },
    {
     "name": "stderr",
     "output_type": "stream",
     "text": [
      "Processing ECG Files:   0%|▍                                                                                                                                                | 141/45152 [00:06<32:10, 23.31it/s]C:\\Users\\arche\\AppData\\Local\\Packages\\PythonSoftwareFoundation.Python.3.13_qbz5n2kfra8p0\\LocalCache\\local-packages\\Python313\\site-packages\\numpy\\_core\\fromnumeric.py:3860: RuntimeWarning: Mean of empty slice.\n",
      "  return _methods._mean(a, axis=axis, dtype=dtype,\n",
      "C:\\Users\\arche\\AppData\\Local\\Packages\\PythonSoftwareFoundation.Python.3.13_qbz5n2kfra8p0\\LocalCache\\local-packages\\Python313\\site-packages\\numpy\\_core\\_methods.py:145: RuntimeWarning: invalid value encountered in scalar divide\n",
      "  ret = ret.dtype.type(ret / rcount)\n",
      "C:\\Users\\arche\\AppData\\Local\\Packages\\PythonSoftwareFoundation.Python.3.13_qbz5n2kfra8p0\\LocalCache\\local-packages\\Python313\\site-packages\\neurokit2\\signal\\signal_period.py:84: NeuroKitWarning: Too few peaks detected to compute the rate. Returning empty vector.\n",
      "  warn(\n",
      "Processing ECG Files:   0%|▍                                                                                                                                                | 148/45152 [00:06<30:07, 24.90it/s]"
     ]
    },
    {
     "name": "stdout",
     "output_type": "stream",
     "text": [
      "Error calculating heart features: cannot convert float NaN to integer\n"
     ]
    },
    {
     "name": "stderr",
     "output_type": "stream",
     "text": [
      "Processing ECG Files:   0%|▋                                                                                                                                                | 217/45152 [00:09<34:44, 21.56it/s]C:\\Users\\arche\\AppData\\Local\\Packages\\PythonSoftwareFoundation.Python.3.13_qbz5n2kfra8p0\\LocalCache\\local-packages\\Python313\\site-packages\\numpy\\_core\\fromnumeric.py:3860: RuntimeWarning: Mean of empty slice.\n",
      "  return _methods._mean(a, axis=axis, dtype=dtype,\n",
      "C:\\Users\\arche\\AppData\\Local\\Packages\\PythonSoftwareFoundation.Python.3.13_qbz5n2kfra8p0\\LocalCache\\local-packages\\Python313\\site-packages\\numpy\\_core\\_methods.py:145: RuntimeWarning: invalid value encountered in scalar divide\n",
      "  ret = ret.dtype.type(ret / rcount)\n",
      "C:\\Users\\arche\\AppData\\Local\\Packages\\PythonSoftwareFoundation.Python.3.13_qbz5n2kfra8p0\\LocalCache\\local-packages\\Python313\\site-packages\\neurokit2\\signal\\signal_period.py:84: NeuroKitWarning: Too few peaks detected to compute the rate. Returning empty vector.\n",
      "  warn(\n",
      "Processing ECG Files:   0%|▋                                                                                                                                                | 221/45152 [00:09<32:20, 23.15it/s]"
     ]
    },
    {
     "name": "stdout",
     "output_type": "stream",
     "text": [
      "Error calculating heart features: integer division or modulo by zero\n"
     ]
    },
    {
     "name": "stderr",
     "output_type": "stream",
     "text": [
      "Processing ECG Files:   1%|█▎                                                                                                                                               | 409/45152 [00:17<32:05, 23.24it/s]C:\\Users\\arche\\AppData\\Local\\Packages\\PythonSoftwareFoundation.Python.3.13_qbz5n2kfra8p0\\LocalCache\\local-packages\\Python313\\site-packages\\neurokit2\\signal\\signal_fixpeaks.py:307: RuntimeWarning: invalid value encountered in divide\n",
      "  mrrs /= th2\n",
      "C:\\Users\\arche\\AppData\\Local\\Packages\\PythonSoftwareFoundation.Python.3.13_qbz5n2kfra8p0\\LocalCache\\local-packages\\Python313\\site-packages\\neurokit2\\signal\\signal_period.py:84: NeuroKitWarning: Too few peaks detected to compute the rate. Returning empty vector.\n",
      "  warn(\n",
      "Processing ECG Files:   1%|█▎                                                                                                                                               | 416/45152 [00:18<30:52, 24.14it/s]"
     ]
    },
    {
     "name": "stdout",
     "output_type": "stream",
     "text": [
      "Error calculating heart features: cannot convert float NaN to integer\n"
     ]
    },
    {
     "name": "stderr",
     "output_type": "stream",
     "text": [
      "Processing ECG Files:   2%|███▏                                                                                                                                             | 985/45152 [00:43<30:26, 24.18it/s]C:\\Users\\arche\\AppData\\Local\\Packages\\PythonSoftwareFoundation.Python.3.13_qbz5n2kfra8p0\\LocalCache\\local-packages\\Python313\\site-packages\\neurokit2\\signal\\signal_fixpeaks.py:307: RuntimeWarning: invalid value encountered in divide\n",
      "  mrrs /= th2\n",
      "C:\\Users\\arche\\AppData\\Local\\Packages\\PythonSoftwareFoundation.Python.3.13_qbz5n2kfra8p0\\LocalCache\\local-packages\\Python313\\site-packages\\neurokit2\\signal\\signal_period.py:84: NeuroKitWarning: Too few peaks detected to compute the rate. Returning empty vector.\n",
      "  warn(\n",
      "Processing ECG Files:   2%|███▏                                                                                                                                             | 992/45152 [00:43<30:21, 24.25it/s]"
     ]
    },
    {
     "name": "stdout",
     "output_type": "stream",
     "text": [
      "Error calculating heart features: cannot convert float NaN to integer\n"
     ]
    },
    {
     "name": "stderr",
     "output_type": "stream",
     "text": [
      "Processing ECG Files:   3%|███▌                                                                                                                                            | 1133/45152 [00:49<32:01, 22.91it/s]C:\\Users\\arche\\AppData\\Local\\Packages\\PythonSoftwareFoundation.Python.3.13_qbz5n2kfra8p0\\LocalCache\\local-packages\\Python313\\site-packages\\neurokit2\\signal\\signal_period.py:84: NeuroKitWarning: Too few peaks detected to compute the rate. Returning empty vector.\n",
      "  warn(\n",
      "Processing ECG Files:   3%|███▌                                                                                                                                            | 1136/45152 [00:49<30:02, 24.42it/s]"
     ]
    },
    {
     "name": "stdout",
     "output_type": "stream",
     "text": [
      "Error calculating heart features: cannot convert float NaN to integer\n"
     ]
    },
    {
     "name": "stderr",
     "output_type": "stream",
     "text": [
      "Processing ECG Files:   3%|███▊                                                                                                                                            | 1205/45152 [00:52<32:53, 22.27it/s]C:\\Users\\arche\\AppData\\Local\\Packages\\PythonSoftwareFoundation.Python.3.13_qbz5n2kfra8p0\\LocalCache\\local-packages\\Python313\\site-packages\\neurokit2\\signal\\signal_fixpeaks.py:307: RuntimeWarning: invalid value encountered in divide\n",
      "  mrrs /= th2\n",
      "C:\\Users\\arche\\AppData\\Local\\Packages\\PythonSoftwareFoundation.Python.3.13_qbz5n2kfra8p0\\LocalCache\\local-packages\\Python313\\site-packages\\neurokit2\\signal\\signal_period.py:84: NeuroKitWarning: Too few peaks detected to compute the rate. Returning empty vector.\n",
      "  warn(\n",
      "Processing ECG Files:   3%|███▊                                                                                                                                            | 1209/45152 [00:52<30:01, 24.40it/s]"
     ]
    },
    {
     "name": "stdout",
     "output_type": "stream",
     "text": [
      "Error calculating heart features: cannot convert float NaN to integer\n"
     ]
    },
    {
     "name": "stderr",
     "output_type": "stream",
     "text": [
      "Processing ECG Files:   3%|███▊                                                                                                                                            | 1212/45152 [00:52<29:26, 24.88it/s]C:\\Users\\arche\\AppData\\Local\\Packages\\PythonSoftwareFoundation.Python.3.13_qbz5n2kfra8p0\\LocalCache\\local-packages\\Python313\\site-packages\\numpy\\_core\\fromnumeric.py:3860: RuntimeWarning: Mean of empty slice.\n",
      "  return _methods._mean(a, axis=axis, dtype=dtype,\n",
      "C:\\Users\\arche\\AppData\\Local\\Packages\\PythonSoftwareFoundation.Python.3.13_qbz5n2kfra8p0\\LocalCache\\local-packages\\Python313\\site-packages\\numpy\\_core\\_methods.py:145: RuntimeWarning: invalid value encountered in scalar divide\n",
      "  ret = ret.dtype.type(ret / rcount)\n",
      "C:\\Users\\arche\\AppData\\Local\\Packages\\PythonSoftwareFoundation.Python.3.13_qbz5n2kfra8p0\\LocalCache\\local-packages\\Python313\\site-packages\\neurokit2\\signal\\signal_period.py:84: NeuroKitWarning: Too few peaks detected to compute the rate. Returning empty vector.\n",
      "  warn(\n",
      "Processing ECG Files:   3%|███▉                                                                                                                                            | 1218/45152 [00:53<29:28, 24.84it/s]"
     ]
    },
    {
     "name": "stdout",
     "output_type": "stream",
     "text": [
      "Error calculating heart features: cannot convert float NaN to integer\n"
     ]
    },
    {
     "name": "stderr",
     "output_type": "stream",
     "text": [
      "Processing ECG Files:   3%|████▍                                                                                                                                           | 1380/45152 [01:00<31:15, 23.33it/s]C:\\Users\\arche\\AppData\\Local\\Packages\\PythonSoftwareFoundation.Python.3.13_qbz5n2kfra8p0\\LocalCache\\local-packages\\Python313\\site-packages\\neurokit2\\signal\\signal_period.py:84: NeuroKitWarning: Too few peaks detected to compute the rate. Returning empty vector.\n",
      "  warn(\n",
      "Processing ECG Files:   3%|████▍                                                                                                                                           | 1384/45152 [01:00<28:00, 26.04it/s]"
     ]
    },
    {
     "name": "stdout",
     "output_type": "stream",
     "text": [
      "Error calculating heart features: cannot convert float NaN to integer\n"
     ]
    },
    {
     "name": "stderr",
     "output_type": "stream",
     "text": [
      "Processing ECG Files:   3%|████▋                                                                                                                                           | 1474/45152 [01:04<30:20, 24.00it/s]C:\\Users\\arche\\AppData\\Local\\Packages\\PythonSoftwareFoundation.Python.3.13_qbz5n2kfra8p0\\LocalCache\\local-packages\\Python313\\site-packages\\neurokit2\\signal\\signal_period.py:84: NeuroKitWarning: Too few peaks detected to compute the rate. Returning empty vector.\n",
      "  warn(\n",
      "Processing ECG Files:   3%|████▋                                                                                                                                           | 1478/45152 [01:04<29:22, 24.79it/s]"
     ]
    },
    {
     "name": "stdout",
     "output_type": "stream",
     "text": [
      "Error calculating heart features: cannot convert float NaN to integer\n"
     ]
    },
    {
     "name": "stderr",
     "output_type": "stream",
     "text": [
      "Processing ECG Files:   4%|█████▏                                                                                                                                          | 1643/45152 [01:11<31:37, 22.93it/s]C:\\Users\\arche\\AppData\\Local\\Packages\\PythonSoftwareFoundation.Python.3.13_qbz5n2kfra8p0\\LocalCache\\local-packages\\Python313\\site-packages\\neurokit2\\signal\\signal_fixpeaks.py:307: RuntimeWarning: invalid value encountered in divide\n",
      "  mrrs /= th2\n",
      "C:\\Users\\arche\\AppData\\Local\\Packages\\PythonSoftwareFoundation.Python.3.13_qbz5n2kfra8p0\\LocalCache\\local-packages\\Python313\\site-packages\\neurokit2\\signal\\signal_period.py:84: NeuroKitWarning: Too few peaks detected to compute the rate. Returning empty vector.\n",
      "  warn(\n",
      "Processing ECG Files:   4%|█████▎                                                                                                                                          | 1650/45152 [01:11<29:29, 24.59it/s]"
     ]
    },
    {
     "name": "stdout",
     "output_type": "stream",
     "text": [
      "Error calculating heart features: cannot convert float NaN to integer\n"
     ]
    },
    {
     "name": "stderr",
     "output_type": "stream",
     "text": [
      "Processing ECG Files:   4%|█████▋                                                                                                                                          | 1767/45152 [01:16<31:26, 22.99it/s]C:\\Users\\arche\\AppData\\Local\\Packages\\PythonSoftwareFoundation.Python.3.13_qbz5n2kfra8p0\\LocalCache\\local-packages\\Python313\\site-packages\\neurokit2\\signal\\signal_period.py:84: NeuroKitWarning: Too few peaks detected to compute the rate. Returning empty vector.\n",
      "  warn(\n",
      "Processing ECG Files:   4%|█████▋                                                                                                                                          | 1774/45152 [01:17<28:12, 25.63it/s]"
     ]
    },
    {
     "name": "stdout",
     "output_type": "stream",
     "text": [
      "Error calculating heart features: cannot convert float NaN to integer\n"
     ]
    },
    {
     "name": "stderr",
     "output_type": "stream",
     "text": [
      "Processing ECG Files:   4%|██████▎                                                                                                                                         | 1969/45152 [01:25<31:46, 22.65it/s]C:\\Users\\arche\\AppData\\Local\\Packages\\PythonSoftwareFoundation.Python.3.13_qbz5n2kfra8p0\\LocalCache\\local-packages\\Python313\\site-packages\\neurokit2\\signal\\signal_period.py:84: NeuroKitWarning: Too few peaks detected to compute the rate. Returning empty vector.\n",
      "  warn(\n",
      "Processing ECG Files:   4%|██████▎                                                                                                                                         | 1973/45152 [01:25<28:55, 24.88it/s]"
     ]
    },
    {
     "name": "stdout",
     "output_type": "stream",
     "text": [
      "Error calculating heart features: cannot convert float NaN to integer\n"
     ]
    },
    {
     "name": "stderr",
     "output_type": "stream",
     "text": [
      "Processing ECG Files:   5%|███████                                                                                                                                         | 2204/45152 [01:35<31:15, 22.90it/s]C:\\Users\\arche\\AppData\\Local\\Packages\\PythonSoftwareFoundation.Python.3.13_qbz5n2kfra8p0\\LocalCache\\local-packages\\Python313\\site-packages\\neurokit2\\signal\\signal_period.py:84: NeuroKitWarning: Too few peaks detected to compute the rate. Returning empty vector.\n",
      "  warn(\n",
      "Processing ECG Files:   5%|███████                                                                                                                                         | 2211/45152 [01:35<27:22, 26.15it/s]"
     ]
    },
    {
     "name": "stdout",
     "output_type": "stream",
     "text": [
      "Error calculating heart features: cannot convert float NaN to integer\n"
     ]
    },
    {
     "name": "stderr",
     "output_type": "stream",
     "text": [
      "Processing ECG Files:   5%|███████▍                                                                                                                                        | 2346/45152 [01:41<29:55, 23.84it/s]C:\\Users\\arche\\AppData\\Local\\Packages\\PythonSoftwareFoundation.Python.3.13_qbz5n2kfra8p0\\LocalCache\\local-packages\\Python313\\site-packages\\neurokit2\\signal\\signal_period.py:84: NeuroKitWarning: Too few peaks detected to compute the rate. Returning empty vector.\n",
      "  warn(\n",
      "Processing ECG Files:   5%|███████▍                                                                                                                                        | 2350/45152 [01:41<27:03, 26.37it/s]"
     ]
    },
    {
     "name": "stdout",
     "output_type": "stream",
     "text": [
      "Error calculating heart features: cannot convert float NaN to integer\n"
     ]
    },
    {
     "name": "stderr",
     "output_type": "stream",
     "text": [
      "Processing ECG Files:   5%|███████▋                                                                                                                                        | 2413/45152 [01:44<28:36, 24.90it/s]C:\\Users\\arche\\AppData\\Local\\Packages\\PythonSoftwareFoundation.Python.3.13_qbz5n2kfra8p0\\LocalCache\\local-packages\\Python313\\site-packages\\numpy\\_core\\fromnumeric.py:3860: RuntimeWarning: Mean of empty slice.\n",
      "  return _methods._mean(a, axis=axis, dtype=dtype,\n",
      "C:\\Users\\arche\\AppData\\Local\\Packages\\PythonSoftwareFoundation.Python.3.13_qbz5n2kfra8p0\\LocalCache\\local-packages\\Python313\\site-packages\\numpy\\_core\\_methods.py:145: RuntimeWarning: invalid value encountered in scalar divide\n",
      "  ret = ret.dtype.type(ret / rcount)\n",
      "C:\\Users\\arche\\AppData\\Local\\Packages\\PythonSoftwareFoundation.Python.3.13_qbz5n2kfra8p0\\LocalCache\\local-packages\\Python313\\site-packages\\neurokit2\\signal\\signal_period.py:84: NeuroKitWarning: Too few peaks detected to compute the rate. Returning empty vector.\n",
      "  warn(\n",
      "Processing ECG Files:   5%|███████▋                                                                                                                                        | 2420/45152 [01:44<27:44, 25.67it/s]"
     ]
    },
    {
     "name": "stdout",
     "output_type": "stream",
     "text": [
      "Error calculating heart features: cannot convert float NaN to integer\n"
     ]
    },
    {
     "name": "stderr",
     "output_type": "stream",
     "text": [
      "Processing ECG Files:   6%|████████▍                                                                                                                                       | 2648/45152 [01:54<28:22, 24.97it/s]C:\\Users\\arche\\AppData\\Local\\Packages\\PythonSoftwareFoundation.Python.3.13_qbz5n2kfra8p0\\LocalCache\\local-packages\\Python313\\site-packages\\neurokit2\\signal\\signal_period.py:84: NeuroKitWarning: Too few peaks detected to compute the rate. Returning empty vector.\n",
      "  warn(\n",
      "Processing ECG Files:   6%|████████▍                                                                                                                                       | 2652/45152 [01:54<25:48, 27.44it/s]"
     ]
    },
    {
     "name": "stdout",
     "output_type": "stream",
     "text": [
      "Error calculating heart features: cannot convert float NaN to integer\n"
     ]
    },
    {
     "name": "stderr",
     "output_type": "stream",
     "text": [
      "Processing ECG Files:   7%|█████████▉                                                                                                                                      | 3105/45152 [02:14<29:23, 23.85it/s]C:\\Users\\arche\\AppData\\Local\\Packages\\PythonSoftwareFoundation.Python.3.13_qbz5n2kfra8p0\\LocalCache\\local-packages\\Python313\\site-packages\\numpy\\_core\\fromnumeric.py:3860: RuntimeWarning: Mean of empty slice.\n",
      "  return _methods._mean(a, axis=axis, dtype=dtype,\n",
      "C:\\Users\\arche\\AppData\\Local\\Packages\\PythonSoftwareFoundation.Python.3.13_qbz5n2kfra8p0\\LocalCache\\local-packages\\Python313\\site-packages\\numpy\\_core\\_methods.py:145: RuntimeWarning: invalid value encountered in scalar divide\n",
      "  ret = ret.dtype.type(ret / rcount)\n",
      "C:\\Users\\arche\\AppData\\Local\\Packages\\PythonSoftwareFoundation.Python.3.13_qbz5n2kfra8p0\\LocalCache\\local-packages\\Python313\\site-packages\\neurokit2\\signal\\signal_period.py:84: NeuroKitWarning: Too few peaks detected to compute the rate. Returning empty vector.\n",
      "  warn(\n",
      "Processing ECG Files:   7%|█████████▉                                                                                                                                      | 3112/45152 [02:14<28:12, 24.84it/s]"
     ]
    },
    {
     "name": "stdout",
     "output_type": "stream",
     "text": [
      "Error calculating heart features: cannot convert float NaN to integer\n"
     ]
    },
    {
     "name": "stderr",
     "output_type": "stream",
     "text": [
      "Processing ECG Files:   7%|██████████▏                                                                                                                                     | 3175/45152 [02:16<28:19, 24.69it/s]C:\\Users\\arche\\AppData\\Local\\Packages\\PythonSoftwareFoundation.Python.3.13_qbz5n2kfra8p0\\LocalCache\\local-packages\\Python313\\site-packages\\neurokit2\\signal\\signal_period.py:84: NeuroKitWarning: Too few peaks detected to compute the rate. Returning empty vector.\n",
      "  warn(\n",
      "Processing ECG Files:   7%|██████████▏                                                                                                                                     | 3182/45152 [02:17<27:01, 25.89it/s]"
     ]
    },
    {
     "name": "stdout",
     "output_type": "stream",
     "text": [
      "Error calculating heart features: cannot convert float NaN to integer\n"
     ]
    },
    {
     "name": "stderr",
     "output_type": "stream",
     "text": [
      "Processing ECG Files:   9%|████████████▊                                                                                                                                   | 4022/45152 [02:52<28:01, 24.46it/s]C:\\Users\\arche\\AppData\\Local\\Packages\\PythonSoftwareFoundation.Python.3.13_qbz5n2kfra8p0\\LocalCache\\local-packages\\Python313\\site-packages\\neurokit2\\signal\\signal_period.py:84: NeuroKitWarning: Too few peaks detected to compute the rate. Returning empty vector.\n",
      "  warn(\n",
      "Processing ECG Files:   9%|████████████▊                                                                                                                                   | 4029/45152 [02:52<25:27, 26.92it/s]"
     ]
    },
    {
     "name": "stdout",
     "output_type": "stream",
     "text": [
      "Error calculating heart features: cannot convert float NaN to integer\n"
     ]
    },
    {
     "name": "stderr",
     "output_type": "stream",
     "text": [
      "Processing ECG Files:   9%|████████████▉                                                                                                                                   | 4038/45152 [02:53<26:08, 26.21it/s]C:\\Users\\arche\\AppData\\Local\\Packages\\PythonSoftwareFoundation.Python.3.13_qbz5n2kfra8p0\\LocalCache\\local-packages\\Python313\\site-packages\\neurokit2\\signal\\signal_period.py:84: NeuroKitWarning: Too few peaks detected to compute the rate. Returning empty vector.\n",
      "  warn(\n",
      "Processing ECG Files:   9%|████████████▉                                                                                                                                   | 4042/45152 [02:53<24:36, 27.84it/s]"
     ]
    },
    {
     "name": "stdout",
     "output_type": "stream",
     "text": [
      "Error calculating heart features: cannot convert float NaN to integer\n"
     ]
    },
    {
     "name": "stderr",
     "output_type": "stream",
     "text": [
      "Processing ECG Files:   9%|█████████████                                                                                                                                   | 4096/45152 [02:55<28:21, 24.13it/s]C:\\Users\\arche\\AppData\\Local\\Packages\\PythonSoftwareFoundation.Python.3.13_qbz5n2kfra8p0\\LocalCache\\local-packages\\Python313\\site-packages\\numpy\\_core\\fromnumeric.py:3860: RuntimeWarning: Mean of empty slice.\n",
      "  return _methods._mean(a, axis=axis, dtype=dtype,\n",
      "C:\\Users\\arche\\AppData\\Local\\Packages\\PythonSoftwareFoundation.Python.3.13_qbz5n2kfra8p0\\LocalCache\\local-packages\\Python313\\site-packages\\numpy\\_core\\_methods.py:145: RuntimeWarning: invalid value encountered in scalar divide\n",
      "  ret = ret.dtype.type(ret / rcount)\n",
      "C:\\Users\\arche\\AppData\\Local\\Packages\\PythonSoftwareFoundation.Python.3.13_qbz5n2kfra8p0\\LocalCache\\local-packages\\Python313\\site-packages\\neurokit2\\signal\\signal_period.py:84: NeuroKitWarning: Too few peaks detected to compute the rate. Returning empty vector.\n",
      "  warn(\n",
      "Processing ECG Files:   9%|█████████████                                                                                                                                   | 4100/45152 [02:55<25:03, 27.31it/s]C:\\Users\\arche\\AppData\\Local\\Packages\\PythonSoftwareFoundation.Python.3.13_qbz5n2kfra8p0\\LocalCache\\local-packages\\Python313\\site-packages\\neurokit2\\signal\\signal_period.py:84: NeuroKitWarning: Too few peaks detected to compute the rate. Returning empty vector.\n",
      "  warn(\n"
     ]
    },
    {
     "name": "stdout",
     "output_type": "stream",
     "text": [
      "Error calculating heart features: cannot convert float NaN to integer\n",
      "Error calculating heart features: cannot convert float NaN to integer\n"
     ]
    },
    {
     "name": "stderr",
     "output_type": "stream",
     "text": [
      "Processing ECG Files:   9%|█████████████▎                                                                                                                                  | 4164/45152 [02:58<26:51, 25.43it/s]C:\\Users\\arche\\AppData\\Local\\Packages\\PythonSoftwareFoundation.Python.3.13_qbz5n2kfra8p0\\LocalCache\\local-packages\\Python313\\site-packages\\neurokit2\\signal\\signal_period.py:84: NeuroKitWarning: Too few peaks detected to compute the rate. Returning empty vector.\n",
      "  warn(\n",
      "Processing ECG Files:   9%|█████████████▎                                                                                                                                  | 4168/45152 [02:58<26:02, 26.23it/s]"
     ]
    },
    {
     "name": "stdout",
     "output_type": "stream",
     "text": [
      "Error calculating heart features: cannot convert float NaN to integer\n"
     ]
    },
    {
     "name": "stderr",
     "output_type": "stream",
     "text": [
      "Processing ECG Files:  10%|██████████████▌                                                                                                                                 | 4551/45152 [03:13<25:09, 26.90it/s]C:\\Users\\arche\\AppData\\Local\\Packages\\PythonSoftwareFoundation.Python.3.13_qbz5n2kfra8p0\\LocalCache\\local-packages\\Python313\\site-packages\\neurokit2\\signal\\signal_fixpeaks.py:307: RuntimeWarning: invalid value encountered in divide\n",
      "  mrrs /= th2\n",
      "C:\\Users\\arche\\AppData\\Local\\Packages\\PythonSoftwareFoundation.Python.3.13_qbz5n2kfra8p0\\LocalCache\\local-packages\\Python313\\site-packages\\neurokit2\\signal\\signal_period.py:84: NeuroKitWarning: Too few peaks detected to compute the rate. Returning empty vector.\n",
      "  warn(\n",
      "Processing ECG Files:  10%|██████████████▌                                                                                                                                 | 4555/45152 [03:13<23:54, 28.29it/s]"
     ]
    },
    {
     "name": "stdout",
     "output_type": "stream",
     "text": [
      "Error calculating heart features: cannot convert float NaN to integer\n"
     ]
    },
    {
     "name": "stderr",
     "output_type": "stream",
     "text": [
      "Processing ECG Files:  10%|██████████████▊                                                                                                                                 | 4634/45152 [03:16<25:56, 26.03it/s]C:\\Users\\arche\\AppData\\Local\\Packages\\PythonSoftwareFoundation.Python.3.13_qbz5n2kfra8p0\\LocalCache\\local-packages\\Python313\\site-packages\\neurokit2\\signal\\signal_fixpeaks.py:307: RuntimeWarning: invalid value encountered in divide\n",
      "  mrrs /= th2\n",
      "C:\\Users\\arche\\AppData\\Local\\Packages\\PythonSoftwareFoundation.Python.3.13_qbz5n2kfra8p0\\LocalCache\\local-packages\\Python313\\site-packages\\neurokit2\\signal\\signal_period.py:84: NeuroKitWarning: Too few peaks detected to compute the rate. Returning empty vector.\n",
      "  warn(\n",
      "Processing ECG Files:  10%|██████████████▊                                                                                                                                 | 4638/45152 [03:16<23:31, 28.70it/s]"
     ]
    },
    {
     "name": "stdout",
     "output_type": "stream",
     "text": [
      "Error calculating heart features: cannot convert float NaN to integer\n"
     ]
    },
    {
     "name": "stderr",
     "output_type": "stream",
     "text": [
      "Processing ECG Files:  11%|███████████████▎                                                                                                                                | 4812/45152 [03:23<27:22, 24.57it/s]C:\\Users\\arche\\AppData\\Local\\Packages\\PythonSoftwareFoundation.Python.3.13_qbz5n2kfra8p0\\LocalCache\\local-packages\\Python313\\site-packages\\neurokit2\\signal\\signal_fixpeaks.py:307: RuntimeWarning: invalid value encountered in divide\n",
      "  mrrs /= th2\n",
      "C:\\Users\\arche\\AppData\\Local\\Packages\\PythonSoftwareFoundation.Python.3.13_qbz5n2kfra8p0\\LocalCache\\local-packages\\Python313\\site-packages\\neurokit2\\signal\\signal_period.py:84: NeuroKitWarning: Too few peaks detected to compute the rate. Returning empty vector.\n",
      "  warn(\n",
      "Processing ECG Files:  11%|███████████████▎                                                                                                                                | 4816/45152 [03:24<25:23, 26.48it/s]"
     ]
    },
    {
     "name": "stdout",
     "output_type": "stream",
     "text": [
      "Error calculating heart features: cannot convert float NaN to integer\n"
     ]
    },
    {
     "name": "stderr",
     "output_type": "stream",
     "text": [
      "Processing ECG Files:  11%|███████████████▌                                                                                                                                | 4882/45152 [03:26<27:04, 24.79it/s]C:\\Users\\arche\\AppData\\Local\\Packages\\PythonSoftwareFoundation.Python.3.13_qbz5n2kfra8p0\\LocalCache\\local-packages\\Python313\\site-packages\\neurokit2\\signal\\signal_fixpeaks.py:307: RuntimeWarning: invalid value encountered in divide\n",
      "  mrrs /= th2\n",
      "C:\\Users\\arche\\AppData\\Local\\Packages\\PythonSoftwareFoundation.Python.3.13_qbz5n2kfra8p0\\LocalCache\\local-packages\\Python313\\site-packages\\neurokit2\\signal\\signal_period.py:84: NeuroKitWarning: Too few peaks detected to compute the rate. Returning empty vector.\n",
      "  warn(\n",
      "Processing ECG Files:  11%|███████████████▌                                                                                                                                | 4889/45152 [03:26<25:29, 26.33it/s]"
     ]
    },
    {
     "name": "stdout",
     "output_type": "stream",
     "text": [
      "Error calculating heart features: cannot convert float NaN to integer\n"
     ]
    },
    {
     "name": "stderr",
     "output_type": "stream",
     "text": [
      "Processing ECG Files:  11%|████████████████                                                                                                                                | 5036/45152 [03:32<27:29, 24.32it/s]C:\\Users\\arche\\AppData\\Local\\Packages\\PythonSoftwareFoundation.Python.3.13_qbz5n2kfra8p0\\LocalCache\\local-packages\\Python313\\site-packages\\neurokit2\\signal\\signal_period.py:84: NeuroKitWarning: Too few peaks detected to compute the rate. Returning empty vector.\n",
      "  warn(\n",
      "Processing ECG Files:  11%|████████████████                                                                                                                                | 5040/45152 [03:32<24:37, 27.14it/s]"
     ]
    },
    {
     "name": "stdout",
     "output_type": "stream",
     "text": [
      "Error calculating heart features: cannot convert float NaN to integer\n"
     ]
    },
    {
     "name": "stderr",
     "output_type": "stream",
     "text": [
      "Processing ECG Files:  11%|████████████████▎                                                                                                                               | 5100/45152 [03:35<26:06, 25.57it/s]C:\\Users\\arche\\AppData\\Local\\Packages\\PythonSoftwareFoundation.Python.3.13_qbz5n2kfra8p0\\LocalCache\\local-packages\\Python313\\site-packages\\neurokit2\\signal\\signal_period.py:84: NeuroKitWarning: Too few peaks detected to compute the rate. Returning empty vector.\n",
      "  warn(\n",
      "Processing ECG Files:  11%|████████████████▎                                                                                                                               | 5107/45152 [03:35<25:07, 26.56it/s]"
     ]
    },
    {
     "name": "stdout",
     "output_type": "stream",
     "text": [
      "Error calculating heart features: cannot convert float NaN to integer\n"
     ]
    },
    {
     "name": "stderr",
     "output_type": "stream",
     "text": [
      "Processing ECG Files:  11%|████████████████▎                                                                                                                               | 5134/45152 [03:36<27:47, 24.00it/s]C:\\Users\\arche\\AppData\\Local\\Packages\\PythonSoftwareFoundation.Python.3.13_qbz5n2kfra8p0\\LocalCache\\local-packages\\Python313\\site-packages\\neurokit2\\signal\\signal_fixpeaks.py:307: RuntimeWarning: invalid value encountered in divide\n",
      "  mrrs /= th2\n",
      "C:\\Users\\arche\\AppData\\Local\\Packages\\PythonSoftwareFoundation.Python.3.13_qbz5n2kfra8p0\\LocalCache\\local-packages\\Python313\\site-packages\\neurokit2\\signal\\signal_period.py:84: NeuroKitWarning: Too few peaks detected to compute the rate. Returning empty vector.\n",
      "  warn(\n",
      "Processing ECG Files:  11%|████████████████▍                                                                                                                               | 5141/45152 [03:36<25:43, 25.92it/s]"
     ]
    },
    {
     "name": "stdout",
     "output_type": "stream",
     "text": [
      "Error calculating heart features: cannot convert float NaN to integer\n"
     ]
    },
    {
     "name": "stderr",
     "output_type": "stream",
     "text": [
      "Processing ECG Files:  12%|█████████████████▎                                                                                                                              | 5444/45152 [03:48<25:32, 25.92it/s]C:\\Users\\arche\\AppData\\Local\\Packages\\PythonSoftwareFoundation.Python.3.13_qbz5n2kfra8p0\\LocalCache\\local-packages\\Python313\\site-packages\\neurokit2\\signal\\signal_period.py:84: NeuroKitWarning: Too few peaks detected to compute the rate. Returning empty vector.\n",
      "  warn(\n",
      "Processing ECG Files:  12%|█████████████████▎                                                                                                                              | 5448/45152 [03:49<23:50, 27.75it/s]"
     ]
    },
    {
     "name": "stdout",
     "output_type": "stream",
     "text": [
      "Error calculating heart features: cannot convert float NaN to integer\n"
     ]
    },
    {
     "name": "stderr",
     "output_type": "stream",
     "text": [
      "Processing ECG Files:  12%|█████████████████▍                                                                                                                              | 5454/45152 [03:49<24:55, 26.55it/s]C:\\Users\\arche\\AppData\\Local\\Packages\\PythonSoftwareFoundation.Python.3.13_qbz5n2kfra8p0\\LocalCache\\local-packages\\Python313\\site-packages\\neurokit2\\signal\\signal_period.py:84: NeuroKitWarning: Too few peaks detected to compute the rate. Returning empty vector.\n",
      "  warn(\n",
      "Processing ECG Files:  12%|█████████████████▍                                                                                                                              | 5458/45152 [03:49<23:14, 28.46it/s]"
     ]
    },
    {
     "name": "stdout",
     "output_type": "stream",
     "text": [
      "Error calculating heart features: cannot convert float NaN to integer\n"
     ]
    },
    {
     "name": "stderr",
     "output_type": "stream",
     "text": [
      "Processing ECG Files:  12%|█████████████████▌                                                                                                                              | 5503/45152 [03:51<31:50, 20.75it/s]C:\\Users\\arche\\AppData\\Local\\Packages\\PythonSoftwareFoundation.Python.3.13_qbz5n2kfra8p0\\LocalCache\\local-packages\\Python313\\site-packages\\neurokit2\\signal\\signal_fixpeaks.py:307: RuntimeWarning: invalid value encountered in divide\n",
      "  mrrs /= th2\n",
      "C:\\Users\\arche\\AppData\\Local\\Packages\\PythonSoftwareFoundation.Python.3.13_qbz5n2kfra8p0\\LocalCache\\local-packages\\Python313\\site-packages\\neurokit2\\signal\\signal_period.py:84: NeuroKitWarning: Too few peaks detected to compute the rate. Returning empty vector.\n",
      "  warn(\n",
      "Processing ECG Files:  12%|█████████████████▌                                                                                                                              | 5506/45152 [03:51<28:56, 22.83it/s]"
     ]
    },
    {
     "name": "stdout",
     "output_type": "stream",
     "text": [
      "Error calculating heart features: cannot convert float NaN to integer\n"
     ]
    },
    {
     "name": "stderr",
     "output_type": "stream",
     "text": [
      "Processing ECG Files:  13%|██████████████████▋                                                                                                                             | 5848/45152 [04:05<28:32, 22.95it/s]C:\\Users\\arche\\AppData\\Local\\Packages\\PythonSoftwareFoundation.Python.3.13_qbz5n2kfra8p0\\LocalCache\\local-packages\\Python313\\site-packages\\neurokit2\\signal\\signal_fixpeaks.py:307: RuntimeWarning: invalid value encountered in divide\n",
      "  mrrs /= th2\n",
      "C:\\Users\\arche\\AppData\\Local\\Packages\\PythonSoftwareFoundation.Python.3.13_qbz5n2kfra8p0\\LocalCache\\local-packages\\Python313\\site-packages\\neurokit2\\signal\\signal_period.py:84: NeuroKitWarning: Too few peaks detected to compute the rate. Returning empty vector.\n",
      "  warn(\n",
      "Processing ECG Files:  13%|██████████████████▋                                                                                                                             | 5852/45152 [04:05<26:14, 24.97it/s]"
     ]
    },
    {
     "name": "stdout",
     "output_type": "stream",
     "text": [
      "Error calculating heart features: cannot convert float NaN to integer\n"
     ]
    },
    {
     "name": "stderr",
     "output_type": "stream",
     "text": [
      "Processing ECG Files:  13%|███████████████████▎                                                                                                                            | 6065/45152 [04:14<25:28, 25.57it/s]C:\\Users\\arche\\AppData\\Local\\Packages\\PythonSoftwareFoundation.Python.3.13_qbz5n2kfra8p0\\LocalCache\\local-packages\\Python313\\site-packages\\neurokit2\\signal\\signal_period.py:84: NeuroKitWarning: Too few peaks detected to compute the rate. Returning empty vector.\n",
      "  warn(\n",
      "Processing ECG Files:  13%|███████████████████▎                                                                                                                            | 6069/45152 [04:14<23:35, 27.60it/s]"
     ]
    },
    {
     "name": "stdout",
     "output_type": "stream",
     "text": [
      "Error calculating heart features: cannot convert float NaN to integer\n"
     ]
    },
    {
     "name": "stderr",
     "output_type": "stream",
     "text": [
      "Processing ECG Files:  14%|████████████████████                                                                                                                            | 6298/45152 [04:23<25:37, 25.27it/s]C:\\Users\\arche\\AppData\\Local\\Packages\\PythonSoftwareFoundation.Python.3.13_qbz5n2kfra8p0\\LocalCache\\local-packages\\Python313\\site-packages\\neurokit2\\signal\\signal_fixpeaks.py:307: RuntimeWarning: invalid value encountered in divide\n",
      "  mrrs /= th2\n",
      "C:\\Users\\arche\\AppData\\Local\\Packages\\PythonSoftwareFoundation.Python.3.13_qbz5n2kfra8p0\\LocalCache\\local-packages\\Python313\\site-packages\\neurokit2\\signal\\signal_period.py:84: NeuroKitWarning: Too few peaks detected to compute the rate. Returning empty vector.\n",
      "  warn(\n",
      "Processing ECG Files:  14%|████████████████████                                                                                                                            | 6305/45152 [04:24<24:38, 26.27it/s]"
     ]
    },
    {
     "name": "stdout",
     "output_type": "stream",
     "text": [
      "Error calculating heart features: cannot convert float NaN to integer\n"
     ]
    },
    {
     "name": "stderr",
     "output_type": "stream",
     "text": [
      "Processing ECG Files:  14%|████████████████████▎                                                                                                                           | 6350/45152 [04:25<25:50, 25.03it/s]C:\\Users\\arche\\AppData\\Local\\Packages\\PythonSoftwareFoundation.Python.3.13_qbz5n2kfra8p0\\LocalCache\\local-packages\\Python313\\site-packages\\neurokit2\\signal\\signal_period.py:84: NeuroKitWarning: Too few peaks detected to compute the rate. Returning empty vector.\n",
      "  warn(\n",
      "Processing ECG Files:  14%|████████████████████▎                                                                                                                           | 6357/45152 [04:26<25:08, 25.73it/s]"
     ]
    },
    {
     "name": "stdout",
     "output_type": "stream",
     "text": [
      "Error calculating heart features: cannot convert float NaN to integer\n"
     ]
    },
    {
     "name": "stderr",
     "output_type": "stream",
     "text": [
      "Processing ECG Files:  15%|█████████████████████                                                                                                                           | 6615/45152 [04:37<26:53, 23.88it/s]C:\\Users\\arche\\AppData\\Local\\Packages\\PythonSoftwareFoundation.Python.3.13_qbz5n2kfra8p0\\LocalCache\\local-packages\\Python313\\site-packages\\neurokit2\\signal\\signal_period.py:84: NeuroKitWarning: Too few peaks detected to compute the rate. Returning empty vector.\n",
      "  warn(\n",
      "Processing ECG Files:  15%|█████████████████████                                                                                                                           | 6619/45152 [04:37<24:00, 26.74it/s]"
     ]
    },
    {
     "name": "stdout",
     "output_type": "stream",
     "text": [
      "Error calculating heart features: cannot convert float NaN to integer\n"
     ]
    },
    {
     "name": "stderr",
     "output_type": "stream",
     "text": [
      "Processing ECG Files:  15%|█████████████████████▎                                                                                                                          | 6676/45152 [04:39<28:44, 22.31it/s]C:\\Users\\arche\\AppData\\Local\\Packages\\PythonSoftwareFoundation.Python.3.13_qbz5n2kfra8p0\\LocalCache\\local-packages\\Python313\\site-packages\\neurokit2\\signal\\signal_period.py:84: NeuroKitWarning: Too few peaks detected to compute the rate. Returning empty vector.\n",
      "  warn(\n",
      "Processing ECG Files:  15%|█████████████████████▎                                                                                                                          | 6679/45152 [04:39<27:04, 23.69it/s]"
     ]
    },
    {
     "name": "stdout",
     "output_type": "stream",
     "text": [
      "Error calculating heart features: cannot convert float NaN to integer\n"
     ]
    },
    {
     "name": "stderr",
     "output_type": "stream",
     "text": [
      "Processing ECG Files:  15%|█████████████████████▎                                                                                                                          | 6692/45152 [04:40<25:11, 25.45it/s]C:\\Users\\arche\\AppData\\Local\\Packages\\PythonSoftwareFoundation.Python.3.13_qbz5n2kfra8p0\\LocalCache\\local-packages\\Python313\\site-packages\\numpy\\_core\\fromnumeric.py:3860: RuntimeWarning: Mean of empty slice.\n",
      "  return _methods._mean(a, axis=axis, dtype=dtype,\n",
      "C:\\Users\\arche\\AppData\\Local\\Packages\\PythonSoftwareFoundation.Python.3.13_qbz5n2kfra8p0\\LocalCache\\local-packages\\Python313\\site-packages\\numpy\\_core\\_methods.py:145: RuntimeWarning: invalid value encountered in scalar divide\n",
      "  ret = ret.dtype.type(ret / rcount)\n",
      "C:\\Users\\arche\\AppData\\Local\\Packages\\PythonSoftwareFoundation.Python.3.13_qbz5n2kfra8p0\\LocalCache\\local-packages\\Python313\\site-packages\\neurokit2\\signal\\signal_period.py:84: NeuroKitWarning: Too few peaks detected to compute the rate. Returning empty vector.\n",
      "  warn(\n",
      "Processing ECG Files:  15%|█████████████████████▎                                                                                                                          | 6696/45152 [04:40<22:52, 28.01it/s]"
     ]
    },
    {
     "name": "stdout",
     "output_type": "stream",
     "text": [
      "Error calculating heart features: integer division or modulo by zero\n"
     ]
    },
    {
     "name": "stderr",
     "output_type": "stream",
     "text": [
      "Processing ECG Files:  15%|█████████████████████▍                                                                                                                          | 6711/45152 [04:41<25:11, 25.43it/s]C:\\Users\\arche\\AppData\\Local\\Packages\\PythonSoftwareFoundation.Python.3.13_qbz5n2kfra8p0\\LocalCache\\local-packages\\Python313\\site-packages\\neurokit2\\signal\\signal_period.py:84: NeuroKitWarning: Too few peaks detected to compute the rate. Returning empty vector.\n",
      "  warn(\n",
      "Processing ECG Files:  15%|█████████████████████▍                                                                                                                          | 6718/45152 [04:41<22:26, 28.54it/s]"
     ]
    },
    {
     "name": "stdout",
     "output_type": "stream",
     "text": [
      "Error calculating heart features: cannot convert float NaN to integer\n"
     ]
    },
    {
     "name": "stderr",
     "output_type": "stream",
     "text": [
      "Processing ECG Files:  16%|██████████████████████▌                                                                                                                         | 7090/45152 [04:55<26:03, 24.34it/s]C:\\Users\\arche\\AppData\\Local\\Packages\\PythonSoftwareFoundation.Python.3.13_qbz5n2kfra8p0\\LocalCache\\local-packages\\Python313\\site-packages\\neurokit2\\signal\\signal_period.py:84: NeuroKitWarning: Too few peaks detected to compute the rate. Returning empty vector.\n",
      "  warn(\n",
      "Processing ECG Files:  16%|██████████████████████▌                                                                                                                         | 7094/45152 [04:56<23:13, 27.32it/s]"
     ]
    },
    {
     "name": "stdout",
     "output_type": "stream",
     "text": [
      "Error calculating heart features: cannot convert float NaN to integer\n"
     ]
    },
    {
     "name": "stderr",
     "output_type": "stream",
     "text": [
      "Processing ECG Files:  17%|████████████████████████                                                                                                                        | 7531/45152 [05:13<24:36, 25.49it/s]C:\\Users\\arche\\AppData\\Local\\Packages\\PythonSoftwareFoundation.Python.3.13_qbz5n2kfra8p0\\LocalCache\\local-packages\\Python313\\site-packages\\numpy\\_core\\fromnumeric.py:3860: RuntimeWarning: Mean of empty slice.\n",
      "  return _methods._mean(a, axis=axis, dtype=dtype,\n",
      "C:\\Users\\arche\\AppData\\Local\\Packages\\PythonSoftwareFoundation.Python.3.13_qbz5n2kfra8p0\\LocalCache\\local-packages\\Python313\\site-packages\\numpy\\_core\\_methods.py:145: RuntimeWarning: invalid value encountered in scalar divide\n",
      "  ret = ret.dtype.type(ret / rcount)\n",
      "C:\\Users\\arche\\AppData\\Local\\Packages\\PythonSoftwareFoundation.Python.3.13_qbz5n2kfra8p0\\LocalCache\\local-packages\\Python313\\site-packages\\neurokit2\\signal\\signal_period.py:84: NeuroKitWarning: Too few peaks detected to compute the rate. Returning empty vector.\n",
      "  warn(\n",
      "Processing ECG Files:  17%|████████████████████████                                                                                                                        | 7535/45152 [05:13<22:56, 27.33it/s]"
     ]
    },
    {
     "name": "stdout",
     "output_type": "stream",
     "text": [
      "Error calculating heart features: integer division or modulo by zero\n"
     ]
    },
    {
     "name": "stderr",
     "output_type": "stream",
     "text": [
      "Processing ECG Files:  17%|████████████████████████▋                                                                                                                       | 7732/45152 [05:21<24:57, 24.99it/s]C:\\Users\\arche\\AppData\\Local\\Packages\\PythonSoftwareFoundation.Python.3.13_qbz5n2kfra8p0\\LocalCache\\local-packages\\Python313\\site-packages\\neurokit2\\signal\\signal_fixpeaks.py:307: RuntimeWarning: invalid value encountered in divide\n",
      "  mrrs /= th2\n",
      "C:\\Users\\arche\\AppData\\Local\\Packages\\PythonSoftwareFoundation.Python.3.13_qbz5n2kfra8p0\\LocalCache\\local-packages\\Python313\\site-packages\\neurokit2\\signal\\signal_period.py:84: NeuroKitWarning: Too few peaks detected to compute the rate. Returning empty vector.\n",
      "  warn(\n",
      "Processing ECG Files:  17%|████████████████████████▋                                                                                                                       | 7739/45152 [05:21<23:21, 26.70it/s]"
     ]
    },
    {
     "name": "stdout",
     "output_type": "stream",
     "text": [
      "Error calculating heart features: cannot convert float NaN to integer\n"
     ]
    },
    {
     "name": "stderr",
     "output_type": "stream",
     "text": [
      "Processing ECG Files:  17%|█████████████████████████                                                                                                                       | 7874/45152 [05:26<25:12, 24.64it/s]C:\\Users\\arche\\AppData\\Local\\Packages\\PythonSoftwareFoundation.Python.3.13_qbz5n2kfra8p0\\LocalCache\\local-packages\\Python313\\site-packages\\neurokit2\\signal\\signal_period.py:84: NeuroKitWarning: Too few peaks detected to compute the rate. Returning empty vector.\n",
      "  warn(\n",
      "Processing ECG Files:  17%|█████████████████████████▏                                                                                                                      | 7881/45152 [05:27<23:26, 26.49it/s]"
     ]
    },
    {
     "name": "stdout",
     "output_type": "stream",
     "text": [
      "Error calculating heart features: cannot convert float NaN to integer\n"
     ]
    },
    {
     "name": "stderr",
     "output_type": "stream",
     "text": [
      "Processing ECG Files:  18%|█████████████████████████▍                                                                                                                      | 7965/45152 [05:30<23:50, 25.99it/s]C:\\Users\\arche\\AppData\\Local\\Packages\\PythonSoftwareFoundation.Python.3.13_qbz5n2kfra8p0\\LocalCache\\local-packages\\Python313\\site-packages\\neurokit2\\signal\\signal_period.py:84: NeuroKitWarning: Too few peaks detected to compute the rate. Returning empty vector.\n",
      "  warn(\n",
      "Processing ECG Files:  18%|█████████████████████████▍                                                                                                                      | 7973/45152 [05:30<21:16, 29.12it/s]"
     ]
    },
    {
     "name": "stdout",
     "output_type": "stream",
     "text": [
      "Error calculating heart features: cannot convert float NaN to integer\n"
     ]
    },
    {
     "name": "stderr",
     "output_type": "stream",
     "text": [
      "Processing ECG Files:  18%|█████████████████████████▌                                                                                                                      | 8024/45152 [05:32<24:01, 25.77it/s]C:\\Users\\arche\\AppData\\Local\\Packages\\PythonSoftwareFoundation.Python.3.13_qbz5n2kfra8p0\\LocalCache\\local-packages\\Python313\\site-packages\\numpy\\_core\\fromnumeric.py:3860: RuntimeWarning: Mean of empty slice.\n",
      "  return _methods._mean(a, axis=axis, dtype=dtype,\n",
      "C:\\Users\\arche\\AppData\\Local\\Packages\\PythonSoftwareFoundation.Python.3.13_qbz5n2kfra8p0\\LocalCache\\local-packages\\Python313\\site-packages\\numpy\\_core\\_methods.py:145: RuntimeWarning: invalid value encountered in scalar divide\n",
      "  ret = ret.dtype.type(ret / rcount)\n",
      "C:\\Users\\arche\\AppData\\Local\\Packages\\PythonSoftwareFoundation.Python.3.13_qbz5n2kfra8p0\\LocalCache\\local-packages\\Python313\\site-packages\\neurokit2\\signal\\signal_period.py:84: NeuroKitWarning: Too few peaks detected to compute the rate. Returning empty vector.\n",
      "  warn(\n",
      "Processing ECG Files:  18%|█████████████████████████▌                                                                                                                      | 8028/45152 [05:32<22:26, 27.57it/s]"
     ]
    },
    {
     "name": "stdout",
     "output_type": "stream",
     "text": [
      "Error calculating heart features: cannot convert float NaN to integer\n"
     ]
    },
    {
     "name": "stderr",
     "output_type": "stream",
     "text": [
      "Processing ECG Files:  18%|██████████████████████████▏                                                                                                                     | 8205/45152 [05:39<23:04, 26.68it/s]C:\\Users\\arche\\AppData\\Local\\Packages\\PythonSoftwareFoundation.Python.3.13_qbz5n2kfra8p0\\LocalCache\\local-packages\\Python313\\site-packages\\neurokit2\\signal\\signal_fixpeaks.py:307: RuntimeWarning: invalid value encountered in divide\n",
      "  mrrs /= th2\n",
      "C:\\Users\\arche\\AppData\\Local\\Packages\\PythonSoftwareFoundation.Python.3.13_qbz5n2kfra8p0\\LocalCache\\local-packages\\Python313\\site-packages\\neurokit2\\signal\\signal_period.py:84: NeuroKitWarning: Too few peaks detected to compute the rate. Returning empty vector.\n",
      "  warn(\n",
      "Processing ECG Files:  18%|██████████████████████████▏                                                                                                                     | 8212/45152 [05:40<22:44, 27.06it/s]"
     ]
    },
    {
     "name": "stdout",
     "output_type": "stream",
     "text": [
      "Error calculating heart features: cannot convert float NaN to integer\n"
     ]
    },
    {
     "name": "stderr",
     "output_type": "stream",
     "text": [
      "Processing ECG Files:  18%|██████████████████████████▍                                                                                                                     | 8278/45152 [05:42<24:05, 25.51it/s]C:\\Users\\arche\\AppData\\Local\\Packages\\PythonSoftwareFoundation.Python.3.13_qbz5n2kfra8p0\\LocalCache\\local-packages\\Python313\\site-packages\\neurokit2\\signal\\signal_fixpeaks.py:307: RuntimeWarning: invalid value encountered in divide\n",
      "  mrrs /= th2\n",
      "C:\\Users\\arche\\AppData\\Local\\Packages\\PythonSoftwareFoundation.Python.3.13_qbz5n2kfra8p0\\LocalCache\\local-packages\\Python313\\site-packages\\neurokit2\\signal\\signal_period.py:84: NeuroKitWarning: Too few peaks detected to compute the rate. Returning empty vector.\n",
      "  warn(\n",
      "Processing ECG Files:  18%|██████████████████████████▍                                                                                                                     | 8285/45152 [05:42<22:03, 27.85it/s]"
     ]
    },
    {
     "name": "stdout",
     "output_type": "stream",
     "text": [
      "Error calculating heart features: cannot convert float NaN to integer\n"
     ]
    },
    {
     "name": "stderr",
     "output_type": "stream",
     "text": [
      "Processing ECG Files:  18%|██████████████████████████▋                                                                                                                     | 8351/45152 [05:45<26:15, 23.35it/s]C:\\Users\\arche\\AppData\\Local\\Packages\\PythonSoftwareFoundation.Python.3.13_qbz5n2kfra8p0\\LocalCache\\local-packages\\Python313\\site-packages\\neurokit2\\signal\\signal_period.py:84: NeuroKitWarning: Too few peaks detected to compute the rate. Returning empty vector.\n",
      "  warn(\n",
      "Processing ECG Files:  19%|██████████████████████████▋                                                                                                                     | 8358/45152 [05:45<24:25, 25.10it/s]"
     ]
    },
    {
     "name": "stdout",
     "output_type": "stream",
     "text": [
      "Error calculating heart features: cannot convert float NaN to integer\n"
     ]
    },
    {
     "name": "stderr",
     "output_type": "stream",
     "text": [
      "Processing ECG Files:  19%|███████████████████████████                                                                                                                     | 8475/45152 [05:50<24:25, 25.02it/s]C:\\Users\\arche\\AppData\\Local\\Packages\\PythonSoftwareFoundation.Python.3.13_qbz5n2kfra8p0\\LocalCache\\local-packages\\Python313\\site-packages\\neurokit2\\signal\\signal_fixpeaks.py:307: RuntimeWarning: invalid value encountered in divide\n",
      "  mrrs /= th2\n",
      "C:\\Users\\arche\\AppData\\Local\\Packages\\PythonSoftwareFoundation.Python.3.13_qbz5n2kfra8p0\\LocalCache\\local-packages\\Python313\\site-packages\\neurokit2\\signal\\signal_period.py:84: NeuroKitWarning: Too few peaks detected to compute the rate. Returning empty vector.\n",
      "  warn(\n",
      "Processing ECG Files:  19%|███████████████████████████                                                                                                                     | 8479/45152 [05:50<23:40, 25.82it/s]"
     ]
    },
    {
     "name": "stdout",
     "output_type": "stream",
     "text": [
      "Error calculating heart features: cannot convert float NaN to integer\n"
     ]
    },
    {
     "name": "stderr",
     "output_type": "stream",
     "text": [
      "Processing ECG Files:  19%|███████████████████████████▏                                                                                                                    | 8521/45152 [05:52<25:24, 24.03it/s]"
     ]
    }
   ],
   "source": [
    "def main():\n",
    "    print(\"Current working directory:\", os.getcwd())\n",
    "\n",
    "    df = process_all_ecg_files(\n",
    "        base_path=\"physionet.org\",   # your main folder\n",
    "        downsample_factor=10,\n",
    "        output_csv=\"ecg_data_summary1.csv\",\n",
    "        plot_signals=False,\n",
    "    )\n",
    "    print(df.head())\n",
    "\n",
    "if __name__ == \"__main__\":\n",
    "    main()"
   ]
  }
 ],
 "metadata": {
  "kernelspec": {
   "display_name": "Python 3 (ipykernel)",
   "language": "python",
   "name": "python3"
  },
  "language_info": {
   "codemirror_mode": {
    "name": "ipython",
    "version": 3
   },
   "file_extension": ".py",
   "mimetype": "text/x-python",
   "name": "python",
   "nbconvert_exporter": "python",
   "pygments_lexer": "ipython3",
   "version": "3.13.3"
  }
 },
 "nbformat": 4,
 "nbformat_minor": 5
}
