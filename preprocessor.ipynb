{
 "cells": [
  {
   "cell_type": "code",
   "execution_count": 82,
   "id": "18484770",
   "metadata": {},
   "outputs": [
    {
     "name": "stdout",
     "output_type": "stream",
     "text": [
      "Defaulting to user installation because normal site-packages is not writeable\n",
      "Requirement already satisfied: numpy in c:\\users\\arche\\appdata\\local\\packages\\pythonsoftwarefoundation.python.3.13_qbz5n2kfra8p0\\localcache\\local-packages\\python313\\site-packages (2.2.4)\n",
      "Note: you may need to restart the kernel to use updated packages.\n"
     ]
    },
    {
     "name": "stderr",
     "output_type": "stream",
     "text": [
      "\n",
      "[notice] A new release of pip is available: 25.0.1 -> 25.1\n",
      "[notice] To update, run: C:\\Users\\arche\\AppData\\Local\\Microsoft\\WindowsApps\\PythonSoftwareFoundation.Python.3.13_qbz5n2kfra8p0\\python.exe -m pip install --upgrade pip\n"
     ]
    },
    {
     "name": "stdout",
     "output_type": "stream",
     "text": [
      "Defaulting to user installation because normal site-packages is not writeable\n",
      "Requirement already satisfied: scipy in c:\\users\\arche\\appdata\\local\\packages\\pythonsoftwarefoundation.python.3.13_qbz5n2kfra8p0\\localcache\\local-packages\\python313\\site-packages (1.15.2)\n",
      "Requirement already satisfied: numpy<2.5,>=1.23.5 in c:\\users\\arche\\appdata\\local\\packages\\pythonsoftwarefoundation.python.3.13_qbz5n2kfra8p0\\localcache\\local-packages\\python313\\site-packages (from scipy) (2.2.4)\n",
      "Note: you may need to restart the kernel to use updated packages.\n"
     ]
    },
    {
     "name": "stderr",
     "output_type": "stream",
     "text": [
      "\n",
      "[notice] A new release of pip is available: 25.0.1 -> 25.1\n",
      "[notice] To update, run: C:\\Users\\arche\\AppData\\Local\\Microsoft\\WindowsApps\\PythonSoftwareFoundation.Python.3.13_qbz5n2kfra8p0\\python.exe -m pip install --upgrade pip\n"
     ]
    },
    {
     "name": "stdout",
     "output_type": "stream",
     "text": [
      "Defaulting to user installation because normal site-packages is not writeable\n",
      "Requirement already satisfied: matplotlib in c:\\users\\arche\\appdata\\local\\packages\\pythonsoftwarefoundation.python.3.13_qbz5n2kfra8p0\\localcache\\local-packages\\python313\\site-packages (3.10.1)\n",
      "Requirement already satisfied: contourpy>=1.0.1 in c:\\users\\arche\\appdata\\local\\packages\\pythonsoftwarefoundation.python.3.13_qbz5n2kfra8p0\\localcache\\local-packages\\python313\\site-packages (from matplotlib) (1.3.2)\n",
      "Requirement already satisfied: cycler>=0.10 in c:\\users\\arche\\appdata\\local\\packages\\pythonsoftwarefoundation.python.3.13_qbz5n2kfra8p0\\localcache\\local-packages\\python313\\site-packages (from matplotlib) (0.12.1)\n",
      "Requirement already satisfied: fonttools>=4.22.0 in c:\\users\\arche\\appdata\\local\\packages\\pythonsoftwarefoundation.python.3.13_qbz5n2kfra8p0\\localcache\\local-packages\\python313\\site-packages (from matplotlib) (4.57.0)\n",
      "Requirement already satisfied: kiwisolver>=1.3.1 in c:\\users\\arche\\appdata\\local\\packages\\pythonsoftwarefoundation.python.3.13_qbz5n2kfra8p0\\localcache\\local-packages\\python313\\site-packages (from matplotlib) (1.4.8)\n",
      "Requirement already satisfied: numpy>=1.23 in c:\\users\\arche\\appdata\\local\\packages\\pythonsoftwarefoundation.python.3.13_qbz5n2kfra8p0\\localcache\\local-packages\\python313\\site-packages (from matplotlib) (2.2.4)\n",
      "Requirement already satisfied: packaging>=20.0 in c:\\users\\arche\\appdata\\local\\packages\\pythonsoftwarefoundation.python.3.13_qbz5n2kfra8p0\\localcache\\local-packages\\python313\\site-packages (from matplotlib) (24.2)\n",
      "Requirement already satisfied: pillow>=8 in c:\\users\\arche\\appdata\\local\\packages\\pythonsoftwarefoundation.python.3.13_qbz5n2kfra8p0\\localcache\\local-packages\\python313\\site-packages (from matplotlib) (11.2.1)\n",
      "Requirement already satisfied: pyparsing>=2.3.1 in c:\\users\\arche\\appdata\\local\\packages\\pythonsoftwarefoundation.python.3.13_qbz5n2kfra8p0\\localcache\\local-packages\\python313\\site-packages (from matplotlib) (3.2.3)\n",
      "Requirement already satisfied: python-dateutil>=2.7 in c:\\users\\arche\\appdata\\local\\packages\\pythonsoftwarefoundation.python.3.13_qbz5n2kfra8p0\\localcache\\local-packages\\python313\\site-packages (from matplotlib) (2.9.0.post0)\n",
      "Requirement already satisfied: six>=1.5 in c:\\users\\arche\\appdata\\local\\packages\\pythonsoftwarefoundation.python.3.13_qbz5n2kfra8p0\\localcache\\local-packages\\python313\\site-packages (from python-dateutil>=2.7->matplotlib) (1.17.0)\n",
      "Note: you may need to restart the kernel to use updated packages.\n"
     ]
    },
    {
     "name": "stderr",
     "output_type": "stream",
     "text": [
      "\n",
      "[notice] A new release of pip is available: 25.0.1 -> 25.1\n",
      "[notice] To update, run: C:\\Users\\arche\\AppData\\Local\\Microsoft\\WindowsApps\\PythonSoftwareFoundation.Python.3.13_qbz5n2kfra8p0\\python.exe -m pip install --upgrade pip\n"
     ]
    },
    {
     "name": "stdout",
     "output_type": "stream",
     "text": [
      "Defaulting to user installation because normal site-packages is not writeable\n",
      "Requirement already satisfied: neurokit2 in c:\\users\\arche\\appdata\\local\\packages\\pythonsoftwarefoundation.python.3.13_qbz5n2kfra8p0\\localcache\\local-packages\\python313\\site-packages (0.2.10)\n",
      "Requirement already satisfied: requests in c:\\users\\arche\\appdata\\local\\packages\\pythonsoftwarefoundation.python.3.13_qbz5n2kfra8p0\\localcache\\local-packages\\python313\\site-packages (from neurokit2) (2.32.3)\n",
      "Requirement already satisfied: numpy in c:\\users\\arche\\appdata\\local\\packages\\pythonsoftwarefoundation.python.3.13_qbz5n2kfra8p0\\localcache\\local-packages\\python313\\site-packages (from neurokit2) (2.2.4)\n",
      "Requirement already satisfied: pandas in c:\\users\\arche\\appdata\\local\\packages\\pythonsoftwarefoundation.python.3.13_qbz5n2kfra8p0\\localcache\\local-packages\\python313\\site-packages (from neurokit2) (2.2.3)\n",
      "Requirement already satisfied: scipy in c:\\users\\arche\\appdata\\local\\packages\\pythonsoftwarefoundation.python.3.13_qbz5n2kfra8p0\\localcache\\local-packages\\python313\\site-packages (from neurokit2) (1.15.2)\n",
      "Requirement already satisfied: scikit-learn>=1.0.0 in c:\\users\\arche\\appdata\\local\\packages\\pythonsoftwarefoundation.python.3.13_qbz5n2kfra8p0\\localcache\\local-packages\\python313\\site-packages (from neurokit2) (1.6.1)\n",
      "Requirement already satisfied: matplotlib in c:\\users\\arche\\appdata\\local\\packages\\pythonsoftwarefoundation.python.3.13_qbz5n2kfra8p0\\localcache\\local-packages\\python313\\site-packages (from neurokit2) (3.10.1)\n",
      "Requirement already satisfied: joblib>=1.2.0 in c:\\users\\arche\\appdata\\local\\packages\\pythonsoftwarefoundation.python.3.13_qbz5n2kfra8p0\\localcache\\local-packages\\python313\\site-packages (from scikit-learn>=1.0.0->neurokit2) (1.4.2)\n",
      "Requirement already satisfied: threadpoolctl>=3.1.0 in c:\\users\\arche\\appdata\\local\\packages\\pythonsoftwarefoundation.python.3.13_qbz5n2kfra8p0\\localcache\\local-packages\\python313\\site-packages (from scikit-learn>=1.0.0->neurokit2) (3.6.0)\n",
      "Requirement already satisfied: contourpy>=1.0.1 in c:\\users\\arche\\appdata\\local\\packages\\pythonsoftwarefoundation.python.3.13_qbz5n2kfra8p0\\localcache\\local-packages\\python313\\site-packages (from matplotlib->neurokit2) (1.3.2)\n",
      "Requirement already satisfied: cycler>=0.10 in c:\\users\\arche\\appdata\\local\\packages\\pythonsoftwarefoundation.python.3.13_qbz5n2kfra8p0\\localcache\\local-packages\\python313\\site-packages (from matplotlib->neurokit2) (0.12.1)\n",
      "Requirement already satisfied: fonttools>=4.22.0 in c:\\users\\arche\\appdata\\local\\packages\\pythonsoftwarefoundation.python.3.13_qbz5n2kfra8p0\\localcache\\local-packages\\python313\\site-packages (from matplotlib->neurokit2) (4.57.0)\n",
      "Requirement already satisfied: kiwisolver>=1.3.1 in c:\\users\\arche\\appdata\\local\\packages\\pythonsoftwarefoundation.python.3.13_qbz5n2kfra8p0\\localcache\\local-packages\\python313\\site-packages (from matplotlib->neurokit2) (1.4.8)\n",
      "Requirement already satisfied: packaging>=20.0 in c:\\users\\arche\\appdata\\local\\packages\\pythonsoftwarefoundation.python.3.13_qbz5n2kfra8p0\\localcache\\local-packages\\python313\\site-packages (from matplotlib->neurokit2) (24.2)\n",
      "Requirement already satisfied: pillow>=8 in c:\\users\\arche\\appdata\\local\\packages\\pythonsoftwarefoundation.python.3.13_qbz5n2kfra8p0\\localcache\\local-packages\\python313\\site-packages (from matplotlib->neurokit2) (11.2.1)\n",
      "Requirement already satisfied: pyparsing>=2.3.1 in c:\\users\\arche\\appdata\\local\\packages\\pythonsoftwarefoundation.python.3.13_qbz5n2kfra8p0\\localcache\\local-packages\\python313\\site-packages (from matplotlib->neurokit2) (3.2.3)\n",
      "Requirement already satisfied: python-dateutil>=2.7 in c:\\users\\arche\\appdata\\local\\packages\\pythonsoftwarefoundation.python.3.13_qbz5n2kfra8p0\\localcache\\local-packages\\python313\\site-packages (from matplotlib->neurokit2) (2.9.0.post0)\n",
      "Requirement already satisfied: pytz>=2020.1 in c:\\users\\arche\\appdata\\local\\packages\\pythonsoftwarefoundation.python.3.13_qbz5n2kfra8p0\\localcache\\local-packages\\python313\\site-packages (from pandas->neurokit2) (2025.2)\n",
      "Requirement already satisfied: tzdata>=2022.7 in c:\\users\\arche\\appdata\\local\\packages\\pythonsoftwarefoundation.python.3.13_qbz5n2kfra8p0\\localcache\\local-packages\\python313\\site-packages (from pandas->neurokit2) (2025.2)\n",
      "Requirement already satisfied: charset-normalizer<4,>=2 in c:\\users\\arche\\appdata\\local\\packages\\pythonsoftwarefoundation.python.3.13_qbz5n2kfra8p0\\localcache\\local-packages\\python313\\site-packages (from requests->neurokit2) (3.4.1)\n",
      "Requirement already satisfied: idna<4,>=2.5 in c:\\users\\arche\\appdata\\local\\packages\\pythonsoftwarefoundation.python.3.13_qbz5n2kfra8p0\\localcache\\local-packages\\python313\\site-packages (from requests->neurokit2) (3.10)\n",
      "Requirement already satisfied: urllib3<3,>=1.21.1 in c:\\users\\arche\\appdata\\local\\packages\\pythonsoftwarefoundation.python.3.13_qbz5n2kfra8p0\\localcache\\local-packages\\python313\\site-packages (from requests->neurokit2) (2.3.0)\n",
      "Requirement already satisfied: certifi>=2017.4.17 in c:\\users\\arche\\appdata\\local\\packages\\pythonsoftwarefoundation.python.3.13_qbz5n2kfra8p0\\localcache\\local-packages\\python313\\site-packages (from requests->neurokit2) (2025.1.31)\n",
      "Requirement already satisfied: six>=1.5 in c:\\users\\arche\\appdata\\local\\packages\\pythonsoftwarefoundation.python.3.13_qbz5n2kfra8p0\\localcache\\local-packages\\python313\\site-packages (from python-dateutil>=2.7->matplotlib->neurokit2) (1.17.0)\n",
      "Note: you may need to restart the kernel to use updated packages.\n"
     ]
    },
    {
     "name": "stderr",
     "output_type": "stream",
     "text": [
      "\n",
      "[notice] A new release of pip is available: 25.0.1 -> 25.1\n",
      "[notice] To update, run: C:\\Users\\arche\\AppData\\Local\\Microsoft\\WindowsApps\\PythonSoftwareFoundation.Python.3.13_qbz5n2kfra8p0\\python.exe -m pip install --upgrade pip\n"
     ]
    },
    {
     "name": "stdout",
     "output_type": "stream",
     "text": [
      "Defaulting to user installation because normal site-packages is not writeable\n",
      "Requirement already satisfied: pandas in c:\\users\\arche\\appdata\\local\\packages\\pythonsoftwarefoundation.python.3.13_qbz5n2kfra8p0\\localcache\\local-packages\\python313\\site-packages (2.2.3)\n",
      "Requirement already satisfied: numpy>=1.26.0 in c:\\users\\arche\\appdata\\local\\packages\\pythonsoftwarefoundation.python.3.13_qbz5n2kfra8p0\\localcache\\local-packages\\python313\\site-packages (from pandas) (2.2.4)\n",
      "Requirement already satisfied: python-dateutil>=2.8.2 in c:\\users\\arche\\appdata\\local\\packages\\pythonsoftwarefoundation.python.3.13_qbz5n2kfra8p0\\localcache\\local-packages\\python313\\site-packages (from pandas) (2.9.0.post0)\n",
      "Requirement already satisfied: pytz>=2020.1 in c:\\users\\arche\\appdata\\local\\packages\\pythonsoftwarefoundation.python.3.13_qbz5n2kfra8p0\\localcache\\local-packages\\python313\\site-packages (from pandas) (2025.2)\n",
      "Requirement already satisfied: tzdata>=2022.7 in c:\\users\\arche\\appdata\\local\\packages\\pythonsoftwarefoundation.python.3.13_qbz5n2kfra8p0\\localcache\\local-packages\\python313\\site-packages (from pandas) (2025.2)\n",
      "Requirement already satisfied: six>=1.5 in c:\\users\\arche\\appdata\\local\\packages\\pythonsoftwarefoundation.python.3.13_qbz5n2kfra8p0\\localcache\\local-packages\\python313\\site-packages (from python-dateutil>=2.8.2->pandas) (1.17.0)\n",
      "Note: you may need to restart the kernel to use updated packages.\n"
     ]
    },
    {
     "name": "stderr",
     "output_type": "stream",
     "text": [
      "\n",
      "[notice] A new release of pip is available: 25.0.1 -> 25.1\n",
      "[notice] To update, run: C:\\Users\\arche\\AppData\\Local\\Microsoft\\WindowsApps\\PythonSoftwareFoundation.Python.3.13_qbz5n2kfra8p0\\python.exe -m pip install --upgrade pip\n"
     ]
    },
    {
     "name": "stdout",
     "output_type": "stream",
     "text": [
      "Defaulting to user installation because normal site-packages is not writeable\n",
      "Requirement already satisfied: tqdm in c:\\users\\arche\\appdata\\local\\packages\\pythonsoftwarefoundation.python.3.13_qbz5n2kfra8p0\\localcache\\local-packages\\python313\\site-packages (4.67.1)\n",
      "Requirement already satisfied: colorama in c:\\users\\arche\\appdata\\local\\packages\\pythonsoftwarefoundation.python.3.13_qbz5n2kfra8p0\\localcache\\local-packages\\python313\\site-packages (from tqdm) (0.4.6)\n",
      "Note: you may need to restart the kernel to use updated packages.\n"
     ]
    },
    {
     "name": "stderr",
     "output_type": "stream",
     "text": [
      "\n",
      "[notice] A new release of pip is available: 25.0.1 -> 25.1\n",
      "[notice] To update, run: C:\\Users\\arche\\AppData\\Local\\Microsoft\\WindowsApps\\PythonSoftwareFoundation.Python.3.13_qbz5n2kfra8p0\\python.exe -m pip install --upgrade pip\n"
     ]
    }
   ],
   "source": [
    "%pip install numpy\n",
    "%pip install scipy\n",
    "%pip install matplotlib\n",
    "%pip install neurokit2 \n",
    "%pip install pandas\n",
    "%pip install tqdm"
   ]
  },
  {
   "cell_type": "code",
   "execution_count": 83,
   "id": "3aebcb02",
   "metadata": {},
   "outputs": [],
   "source": [
    "import os\n",
    "import pandas as pd\n",
    "import scipy.io\n",
    "import numpy as np\n",
    "import neurokit2 as nk\n",
    "import matplotlib.pyplot as plt\n",
    "from tqdm import tqdm\n",
    "from scipy.signal import butter, filtfilt\n",
    "\n",
    "def preprocess_signal(signal, original_fs=500, downsample_factor=10):\n",
    "    \"\"\"Preprocess the ECG signal by cleaning, downsampling, and filtering using a Butterworth filter.\"\"\"\n",
    "    try:\n",
    "        # Clean the signal: Replace NaN, inf, and extreme values with 0 or appropriate value\n",
    "        signal = np.nan_to_num(signal, nan=0.0, posinf=0.0, neginf=0.0)\n",
    "\n",
    "        # Optionally remove any extreme values (e.g., values beyond a certain threshold)\n",
    "        signal[signal > 10] = 0\n",
    "        signal[signal < -10] = 0\n",
    "\n",
    "        # Downsample the signal\n",
    "        downsampled_signal = signal[::downsample_factor]\n",
    "\n",
    "        # Now define the new sampling rate\n",
    "        new_fs = original_fs / downsample_factor\n",
    "        nyquist = 0.5 * new_fs\n",
    "\n",
    "        # Define filter cutoffs relative to new sampling rate\n",
    "        low_cutoff = 0.5   # Hz\n",
    "        high_cutoff = 20.0 # Hz (keep a reasonable upper limit after downsampling)\n",
    "        low = low_cutoff / nyquist\n",
    "        high = high_cutoff / nyquist\n",
    "\n",
    "        if high >= 1.0:\n",
    "            high = 0.99  # safety margin if sampling too low\n",
    "\n",
    "        # Design Butterworth bandpass filter\n",
    "        b, a = butter(4, [low, high], btype='band')\n",
    "        filtered_signal = filtfilt(b, a, downsampled_signal)\n",
    "\n",
    "        return filtered_signal\n",
    "    except Exception as e:\n",
    "        print(f\"Error preprocessing signal: {e}\")\n",
    "        return signal  # Return the original signal if preprocessing fails\n",
    "\n",
    "        \n",
    "def plot_ecg(signal, sampling_rate, title=\"ECG Signal\"):\n",
    "    \"\"\"Plot the ECG signal.\"\"\"\n",
    "    try:\n",
    "        time = np.arange(0, len(signal)) / sampling_rate\n",
    "        plt.figure(figsize=(10, 4))\n",
    "        plt.plot(time, signal)\n",
    "        plt.title(title)\n",
    "        plt.xlabel(\"Time (seconds)\")\n",
    "        plt.ylabel(\"Amplitude\")\n",
    "        plt.grid(True)\n",
    "        plt.show()\n",
    "    except Exception as e:\n",
    "        print(f\"Error plotting ECG signal: {e}\")\n",
    "\n",
    "def read_header_info(header_file):\n",
    "    \"\"\"Read metadata from the .hea header file and extract age, sex, and arrhythmia information.\"\"\"\n",
    "    try:\n",
    "        with open(header_file, 'r') as f:\n",
    "            lines = f.readlines()\n",
    "\n",
    "        # Extract age, sex, and arrhythmia condition from the header\n",
    "        age = sex = arrhythmia = None\n",
    "        for line in lines:\n",
    "            if line.startswith(\"#Age:\"):\n",
    "                age = float(line.split(\":\")[1].strip())\n",
    "            elif line.startswith(\"#Sex:\"):\n",
    "                sex = line.split(\":\")[1].strip()\n",
    "            elif line.startswith(\"#Dx:\"):\n",
    "                arrhythmia_codes = line.split(\":\")[1].strip().split(\",\")\n",
    "                arrhythmia = any(code in arrhythmia_codes for code in [\n",
    "                        \"164889003\",  # Atrial Fibrillation (AFIB)\n",
    "                        \"164890007\",  # Atrial Flutter (AF)\n",
    "                        \"426761007\",  # Supraventricular Tachycardia (SVT)\n",
    "                        \"713422000\",  # Atrial Tachycardia (AT)\n",
    "                        \"233896004\",  # Atrioventricular Node Reentrant Tachycardia (AVNRT)\n",
    "                        \"233897008\",  # Atrioventricular Reentrant Tachycardia (AVRT)\n",
    "                        \"11157007\",   # Ventricular Bigeminy (VB)\n",
    "                        \"75532003\",   # Ventricular Escape Beat (VEB)\n",
    "                        \"17338001\",   # Ventricular Premature Beat (VPB)\n",
    "                        \"195060002\",  # Ventricular Preexcitation (VPE)\n",
    "                        \"251180001\",  # Ventricular Escape Trigeminy (VET)\n",
    "                        \"74390002\"    # Wolff-Parkinson-White Syndrome (WPW)\n",
    "                    ])\n",
    "\n",
    "        return {\"Age\": age, \"Sex\": sex, \"Arrhythmia\": arrhythmia}\n",
    "    except Exception as e:\n",
    "        print(f\"Error reading header {header_file}: {e}\")\n",
    "        return None\n",
    "\n",
    "def calculate_heart_features(signal, sampling_rate):\n",
    "    \"\"\"Calculate heart-related features such as BPM, RR intervals, and others using Pan-Tompkins method.\"\"\"\n",
    "    try:\n",
    "        # Detect R-peaks using NeuroKit2's Pan-Tompkins based method (implemented in ECG process)\n",
    "        signals, info = nk.ecg_process(signal, sampling_rate=sampling_rate)\n",
    "        rpeaks = info['ECG_R_Peaks']\n",
    "\n",
    "        # Check if there are enough R-peaks\n",
    "        if len(rpeaks) < 2:\n",
    "            print(f\"Not enough R-peaks detected. Found: {len(rpeaks)}\")\n",
    "            return np.nan, np.nan, np.nan, np.nan, np.nan, np.nan, \"\"\n",
    "\n",
    "        # RR intervals\n",
    "        rr_intervals = np.diff(rpeaks) / sampling_rate\n",
    "\n",
    "        if len(rr_intervals) == 0:\n",
    "            print(\"No RR intervals calculated.\")\n",
    "            return np.nan, np.nan, np.nan, np.nan, np.nan, np.nan, \"\"\n",
    "\n",
    "        # BPM Calculation\n",
    "        bpm = 60 / np.mean(rr_intervals)\n",
    "\n",
    "        # RR Interval stats (average, min, max, median)\n",
    "        average_rr = np.mean(rr_intervals)\n",
    "        min_rr = np.min(rr_intervals)\n",
    "        max_rr = np.max(rr_intervals)\n",
    "        median_rr = np.median(rr_intervals)\n",
    "\n",
    "        # PT Interval (approximate)\n",
    "        pt_interval = average_rr\n",
    "\n",
    "        # Local RR differences (sliding window of 10)\n",
    "        local_rr = [abs(rr_intervals[i] - rr_intervals[i+10]) for i in range(len(rr_intervals)-10)]\n",
    "\n",
    "        return bpm, average_rr, min_rr, max_rr, pt_interval, median_rr, ','.join(map(str, local_rr))\n",
    "\n",
    "    except ZeroDivisionError as e:\n",
    "        print(f\"Error calculating heart features: integer division or modulo by zero\")\n",
    "        return None, None, None, None, None, None, \"integer division or modulo by zero\"\n",
    "\n",
    "    except Exception as e:\n",
    "        print(f\"Error calculating heart features: {e}\")\n",
    "        return None, None, None, None, None, None, str(e)\n",
    "\n",
    "def process_single_ecg(file_path, header_path, sampling_rate=500, downsample_factor=10, plot_signal=False, failed_log_file=\"failed_ecg_files.log\"):\n",
    "    \"\"\"Process one ECG file and return extracted features.\"\"\"\n",
    "    try:\n",
    "        mat_data = scipy.io.loadmat(file_path)\n",
    "        ecg_data = mat_data['val']\n",
    "        \n",
    "        # Select Lead II (assuming second lead)\n",
    "        lead_II = ecg_data[1]\n",
    "\n",
    "        # Preprocess\n",
    "        lead_II = preprocess_signal(lead_II, original_fs=sampling_rate, downsample_factor=downsample_factor)\n",
    "        new_sampling_rate = sampling_rate // downsample_factor\n",
    "\n",
    "        # Extract features\n",
    "        bpm, avg_rr, min_rr, max_rr, pt_interval, median_rr, local_rr = calculate_heart_features(lead_II, new_sampling_rate)\n",
    "\n",
    "        # If R-peak detection failed, log the file and return NaN values\n",
    "        if bpm is None:\n",
    "            with open(failed_log_file, \"a\") as log:\n",
    "                log.write(f\"Failed to process {file_path} - Reason: {local_rr}\\n\")\n",
    "\n",
    "            header_info = read_header_info(header_path)\n",
    "            return {\n",
    "                'PersonID': os.path.splitext(os.path.basename(file_path))[0],\n",
    "                'Age': header_info['Age'],\n",
    "                'Sex': header_info['Sex'],\n",
    "                'Arrhythmia': header_info['Arrhythmia'],\n",
    "                'BPM': np.nan,\n",
    "                'Average_RR_Interval': np.nan,\n",
    "                'Min_RR_Interval': np.nan,\n",
    "                'Max_RR_Interval': np.nan,\n",
    "                'PT_Interval': np.nan,\n",
    "                'RR_Median': np.nan,\n",
    "                'Local_RR_Intervals': np.nan\n",
    "            }\n",
    "\n",
    "        # If successful, proceed with the normal processing\n",
    "        header_info = read_header_info(header_path)\n",
    "\n",
    "        if plot_signal:\n",
    "            plot_ecg(lead_II, new_sampling_rate, title=os.path.basename(file_path))\n",
    "\n",
    "        return {\n",
    "            'PersonID': os.path.splitext(os.path.basename(file_path))[0],\n",
    "            'Age': header_info['Age'],\n",
    "            'Sex': header_info['Sex'],\n",
    "            'Arrhythmia': header_info['Arrhythmia'],\n",
    "            'BPM': bpm,\n",
    "            'Average_RR_Interval': avg_rr,\n",
    "            'Min_RR_Interval': min_rr,\n",
    "            'Max_RR_Interval': max_rr,\n",
    "            'PT_Interval': pt_interval,\n",
    "            'RR_Median': median_rr,\n",
    "            'Local_RR_Intervals': local_rr\n",
    "        }\n",
    "    except Exception as e:\n",
    "        print(f\"Error processing {file_path}: {e}\")\n",
    "        with open(failed_log_file, \"a\") as log:\n",
    "            log.write(f\"Error processing {file_path}: {e}\\n\")\n",
    "        return None\n",
    "\n",
    "def process_all_ecg_files(base_path, downsample_factor=10, output_csv=\"ecg_data_summary.csv\", plot_signals=False):\n",
    "    \"\"\"Recursively process all ECG+Header files in a directory sequentially.\"\"\"\n",
    "    ecg_files = []\n",
    "    header_files = []\n",
    "\n",
    "    # Walk through directories\n",
    "    for root, dirs, files in os.walk(base_path):\n",
    "        for file in files:\n",
    "            if file.endswith('.mat'):\n",
    "                ecg_path = os.path.join(root, file)\n",
    "                header_path = os.path.join(root, file.replace('.mat', '.hea'))\n",
    "                if os.path.exists(header_path):\n",
    "                    ecg_files.append(ecg_path)\n",
    "                    header_files.append(header_path)\n",
    "                else:\n",
    "                    print(f\"Header missing for {ecg_path}\")\n",
    "\n",
    "    print(f\"ECG files found: {len(ecg_files)}\")\n",
    "    print(f\"Header files found: {len(header_files)}\")\n",
    "\n",
    "    if not ecg_files:\n",
    "        print(\"No ECG files found! Exiting.\")\n",
    "        return pd.DataFrame()\n",
    "\n",
    "    results = []\n",
    "\n",
    "    # Add tqdm progress bar here\n",
    "    for ecg_path, header_path in tqdm(zip(ecg_files, header_files), total=len(ecg_files), desc=\"Processing ECG Files\"):\n",
    "        result = process_single_ecg(ecg_path, header_path, downsample_factor=downsample_factor, plot_signal=plot_signals)\n",
    "        if result:\n",
    "            results.append(result)\n",
    "        else:\n",
    "            print(\"Skipped a file due to processing failure\")\n",
    "\n",
    "    if results:\n",
    "        df = pd.DataFrame(results)\n",
    "        df.to_csv(output_csv, index=False)\n",
    "        print(f\"Data saved to {output_csv}\")\n",
    "        return df\n",
    "    else:\n",
    "        print(\"No valid data processed.\")\n",
    "        return pd.DataFrame()"
   ]
  },
  {
   "cell_type": "code",
   "execution_count": null,
   "id": "7b022b47-fea2-4902-86e2-e4b2874b363d",
   "metadata": {},
   "outputs": [
    {
     "name": "stdout",
     "output_type": "stream",
     "text": [
      "Current working directory: C:\\Users\\arche\\AIProject\\ai-ecg-arrhythmia\n",
      "ECG files found: 45152\n",
      "Header files found: 45152\n"
     ]
    },
    {
     "name": "stderr",
     "output_type": "stream",
     "text": [
      "Processing ECG Files:   0%|▍                                                                                                                                                | 129/45152 [00:05<30:29, 24.61it/s]C:\\Users\\arche\\AppData\\Local\\Packages\\PythonSoftwareFoundation.Python.3.13_qbz5n2kfra8p0\\LocalCache\\local-packages\\Python313\\site-packages\\numpy\\_core\\fromnumeric.py:3860: RuntimeWarning: Mean of empty slice.\n",
      "  return _methods._mean(a, axis=axis, dtype=dtype,\n",
      "C:\\Users\\arche\\AppData\\Local\\Packages\\PythonSoftwareFoundation.Python.3.13_qbz5n2kfra8p0\\LocalCache\\local-packages\\Python313\\site-packages\\numpy\\_core\\_methods.py:145: RuntimeWarning: invalid value encountered in scalar divide\n",
      "  ret = ret.dtype.type(ret / rcount)\n",
      "C:\\Users\\arche\\AppData\\Local\\Packages\\PythonSoftwareFoundation.Python.3.13_qbz5n2kfra8p0\\LocalCache\\local-packages\\Python313\\site-packages\\neurokit2\\signal\\signal_period.py:84: NeuroKitWarning: Too few peaks detected to compute the rate. Returning empty vector.\n",
      "  warn(\n",
      "Processing ECG Files:   0%|▍                                                                                                                                                | 136/45152 [00:05<29:12, 25.69it/s]"
     ]
    },
    {
     "name": "stdout",
     "output_type": "stream",
     "text": [
      "Error calculating heart features: cannot convert float NaN to integer\n"
     ]
    },
    {
     "name": "stderr",
     "output_type": "stream",
     "text": [
      "Processing ECG Files:   0%|▍                                                                                                                                                | 142/45152 [00:05<29:03, 25.82it/s]C:\\Users\\arche\\AppData\\Local\\Packages\\PythonSoftwareFoundation.Python.3.13_qbz5n2kfra8p0\\LocalCache\\local-packages\\Python313\\site-packages\\numpy\\_core\\fromnumeric.py:3860: RuntimeWarning: Mean of empty slice.\n",
      "  return _methods._mean(a, axis=axis, dtype=dtype,\n",
      "C:\\Users\\arche\\AppData\\Local\\Packages\\PythonSoftwareFoundation.Python.3.13_qbz5n2kfra8p0\\LocalCache\\local-packages\\Python313\\site-packages\\numpy\\_core\\_methods.py:145: RuntimeWarning: invalid value encountered in scalar divide\n",
      "  ret = ret.dtype.type(ret / rcount)\n",
      "C:\\Users\\arche\\AppData\\Local\\Packages\\PythonSoftwareFoundation.Python.3.13_qbz5n2kfra8p0\\LocalCache\\local-packages\\Python313\\site-packages\\neurokit2\\signal\\signal_period.py:84: NeuroKitWarning: Too few peaks detected to compute the rate. Returning empty vector.\n",
      "  warn(\n",
      "Processing ECG Files:   0%|▍                                                                                                                                                | 149/45152 [00:06<27:58, 26.81it/s]"
     ]
    },
    {
     "name": "stdout",
     "output_type": "stream",
     "text": [
      "Error calculating heart features: cannot convert float NaN to integer\n"
     ]
    },
    {
     "name": "stderr",
     "output_type": "stream",
     "text": [
      "Processing ECG Files:   0%|▋                                                                                                                                                | 215/45152 [00:08<29:57, 25.00it/s]C:\\Users\\arche\\AppData\\Local\\Packages\\PythonSoftwareFoundation.Python.3.13_qbz5n2kfra8p0\\LocalCache\\local-packages\\Python313\\site-packages\\numpy\\_core\\fromnumeric.py:3860: RuntimeWarning: Mean of empty slice.\n",
      "  return _methods._mean(a, axis=axis, dtype=dtype,\n",
      "C:\\Users\\arche\\AppData\\Local\\Packages\\PythonSoftwareFoundation.Python.3.13_qbz5n2kfra8p0\\LocalCache\\local-packages\\Python313\\site-packages\\numpy\\_core\\_methods.py:145: RuntimeWarning: invalid value encountered in scalar divide\n",
      "  ret = ret.dtype.type(ret / rcount)\n",
      "C:\\Users\\arche\\AppData\\Local\\Packages\\PythonSoftwareFoundation.Python.3.13_qbz5n2kfra8p0\\LocalCache\\local-packages\\Python313\\site-packages\\neurokit2\\signal\\signal_period.py:84: NeuroKitWarning: Too few peaks detected to compute the rate. Returning empty vector.\n",
      "  warn(\n",
      "Processing ECG Files:   0%|▋                                                                                                                                                | 219/45152 [00:08<27:39, 27.08it/s]"
     ]
    },
    {
     "name": "stdout",
     "output_type": "stream",
     "text": [
      "Error calculating heart features: integer division or modulo by zero\n"
     ]
    },
    {
     "name": "stderr",
     "output_type": "stream",
     "text": [
      "Processing ECG Files:   1%|█▎                                                                                                                                               | 411/45152 [00:16<29:51, 24.97it/s]C:\\Users\\arche\\AppData\\Local\\Packages\\PythonSoftwareFoundation.Python.3.13_qbz5n2kfra8p0\\LocalCache\\local-packages\\Python313\\site-packages\\neurokit2\\signal\\signal_fixpeaks.py:307: RuntimeWarning: invalid value encountered in divide\n",
      "  mrrs /= th2\n",
      "C:\\Users\\arche\\AppData\\Local\\Packages\\PythonSoftwareFoundation.Python.3.13_qbz5n2kfra8p0\\LocalCache\\local-packages\\Python313\\site-packages\\neurokit2\\signal\\signal_period.py:84: NeuroKitWarning: Too few peaks detected to compute the rate. Returning empty vector.\n",
      "  warn(\n",
      "Processing ECG Files:   1%|█▎                                                                                                                                               | 415/45152 [00:16<28:15, 26.39it/s]"
     ]
    },
    {
     "name": "stdout",
     "output_type": "stream",
     "text": [
      "Error calculating heart features: cannot convert float NaN to integer\n"
     ]
    },
    {
     "name": "stderr",
     "output_type": "stream",
     "text": [
      "Processing ECG Files:   2%|███▏                                                                                                                                             | 985/45152 [00:39<28:12, 26.10it/s]C:\\Users\\arche\\AppData\\Local\\Packages\\PythonSoftwareFoundation.Python.3.13_qbz5n2kfra8p0\\LocalCache\\local-packages\\Python313\\site-packages\\neurokit2\\signal\\signal_fixpeaks.py:307: RuntimeWarning: invalid value encountered in divide\n",
      "  mrrs /= th2\n",
      "C:\\Users\\arche\\AppData\\Local\\Packages\\PythonSoftwareFoundation.Python.3.13_qbz5n2kfra8p0\\LocalCache\\local-packages\\Python313\\site-packages\\neurokit2\\signal\\signal_period.py:84: NeuroKitWarning: Too few peaks detected to compute the rate. Returning empty vector.\n",
      "  warn(\n",
      "Processing ECG Files:   2%|███▏                                                                                                                                             | 992/45152 [00:40<28:57, 25.41it/s]"
     ]
    },
    {
     "name": "stdout",
     "output_type": "stream",
     "text": [
      "Error calculating heart features: cannot convert float NaN to integer\n"
     ]
    },
    {
     "name": "stderr",
     "output_type": "stream",
     "text": [
      "Processing ECG Files:   3%|███▌                                                                                                                                            | 1133/45152 [00:45<30:15, 24.24it/s]C:\\Users\\arche\\AppData\\Local\\Packages\\PythonSoftwareFoundation.Python.3.13_qbz5n2kfra8p0\\LocalCache\\local-packages\\Python313\\site-packages\\neurokit2\\signal\\signal_period.py:84: NeuroKitWarning: Too few peaks detected to compute the rate. Returning empty vector.\n",
      "  warn(\n",
      "Processing ECG Files:   3%|███▋                                                                                                                                            | 1137/45152 [00:46<28:22, 25.86it/s]"
     ]
    },
    {
     "name": "stdout",
     "output_type": "stream",
     "text": [
      "Error calculating heart features: cannot convert float NaN to integer\n"
     ]
    },
    {
     "name": "stderr",
     "output_type": "stream",
     "text": [
      "Processing ECG Files:   3%|███▊                                                                                                                                            | 1203/45152 [00:48<29:15, 25.04it/s]C:\\Users\\arche\\AppData\\Local\\Packages\\PythonSoftwareFoundation.Python.3.13_qbz5n2kfra8p0\\LocalCache\\local-packages\\Python313\\site-packages\\neurokit2\\signal\\signal_fixpeaks.py:307: RuntimeWarning: invalid value encountered in divide\n",
      "  mrrs /= th2\n",
      "C:\\Users\\arche\\AppData\\Local\\Packages\\PythonSoftwareFoundation.Python.3.13_qbz5n2kfra8p0\\LocalCache\\local-packages\\Python313\\site-packages\\neurokit2\\signal\\signal_period.py:84: NeuroKitWarning: Too few peaks detected to compute the rate. Returning empty vector.\n",
      "  warn(\n",
      "Processing ECG Files:   3%|███▊                                                                                                                                            | 1210/45152 [00:48<27:31, 26.60it/s]"
     ]
    },
    {
     "name": "stdout",
     "output_type": "stream",
     "text": [
      "Error calculating heart features: cannot convert float NaN to integer\n"
     ]
    },
    {
     "name": "stderr",
     "output_type": "stream",
     "text": [
      "Processing ECG Files:   3%|███▊                                                                                                                                            | 1213/45152 [00:49<28:40, 25.54it/s]C:\\Users\\arche\\AppData\\Local\\Packages\\PythonSoftwareFoundation.Python.3.13_qbz5n2kfra8p0\\LocalCache\\local-packages\\Python313\\site-packages\\numpy\\_core\\fromnumeric.py:3860: RuntimeWarning: Mean of empty slice.\n",
      "  return _methods._mean(a, axis=axis, dtype=dtype,\n",
      "C:\\Users\\arche\\AppData\\Local\\Packages\\PythonSoftwareFoundation.Python.3.13_qbz5n2kfra8p0\\LocalCache\\local-packages\\Python313\\site-packages\\numpy\\_core\\_methods.py:145: RuntimeWarning: invalid value encountered in scalar divide\n",
      "  ret = ret.dtype.type(ret / rcount)\n",
      "C:\\Users\\arche\\AppData\\Local\\Packages\\PythonSoftwareFoundation.Python.3.13_qbz5n2kfra8p0\\LocalCache\\local-packages\\Python313\\site-packages\\neurokit2\\signal\\signal_period.py:84: NeuroKitWarning: Too few peaks detected to compute the rate. Returning empty vector.\n",
      "  warn(\n",
      "Processing ECG Files:   3%|███▉                                                                                                                                            | 1217/45152 [00:49<26:17, 27.85it/s]"
     ]
    },
    {
     "name": "stdout",
     "output_type": "stream",
     "text": [
      "Error calculating heart features: cannot convert float NaN to integer\n"
     ]
    },
    {
     "name": "stderr",
     "output_type": "stream",
     "text": [
      "Processing ECG Files:   3%|████▍                                                                                                                                           | 1379/45152 [00:55<28:55, 25.22it/s]C:\\Users\\arche\\AppData\\Local\\Packages\\PythonSoftwareFoundation.Python.3.13_qbz5n2kfra8p0\\LocalCache\\local-packages\\Python313\\site-packages\\neurokit2\\signal\\signal_period.py:84: NeuroKitWarning: Too few peaks detected to compute the rate. Returning empty vector.\n",
      "  warn(\n",
      "Processing ECG Files:   3%|████▍                                                                                                                                           | 1386/45152 [00:55<27:07, 26.90it/s]"
     ]
    },
    {
     "name": "stdout",
     "output_type": "stream",
     "text": [
      "Error calculating heart features: cannot convert float NaN to integer\n"
     ]
    },
    {
     "name": "stderr",
     "output_type": "stream",
     "text": [
      "Processing ECG Files:   3%|████▋                                                                                                                                           | 1473/45152 [00:59<30:50, 23.60it/s]C:\\Users\\arche\\AppData\\Local\\Packages\\PythonSoftwareFoundation.Python.3.13_qbz5n2kfra8p0\\LocalCache\\local-packages\\Python313\\site-packages\\neurokit2\\signal\\signal_period.py:84: NeuroKitWarning: Too few peaks detected to compute the rate. Returning empty vector.\n",
      "  warn(\n",
      "Processing ECG Files:   3%|████▋                                                                                                                                           | 1480/45152 [00:59<28:36, 25.44it/s]"
     ]
    },
    {
     "name": "stdout",
     "output_type": "stream",
     "text": [
      "Error calculating heart features: cannot convert float NaN to integer\n"
     ]
    },
    {
     "name": "stderr",
     "output_type": "stream",
     "text": [
      "Processing ECG Files:   4%|█████▏                                                                                                                                          | 1645/45152 [01:06<28:41, 25.27it/s]C:\\Users\\arche\\AppData\\Local\\Packages\\PythonSoftwareFoundation.Python.3.13_qbz5n2kfra8p0\\LocalCache\\local-packages\\Python313\\site-packages\\neurokit2\\signal\\signal_fixpeaks.py:307: RuntimeWarning: invalid value encountered in divide\n",
      "  mrrs /= th2\n",
      "C:\\Users\\arche\\AppData\\Local\\Packages\\PythonSoftwareFoundation.Python.3.13_qbz5n2kfra8p0\\LocalCache\\local-packages\\Python313\\site-packages\\neurokit2\\signal\\signal_period.py:84: NeuroKitWarning: Too few peaks detected to compute the rate. Returning empty vector.\n",
      "  warn(\n",
      "Processing ECG Files:   4%|█████▎                                                                                                                                          | 1649/45152 [01:06<25:36, 28.32it/s]"
     ]
    },
    {
     "name": "stdout",
     "output_type": "stream",
     "text": [
      "Error calculating heart features: cannot convert float NaN to integer\n"
     ]
    },
    {
     "name": "stderr",
     "output_type": "stream",
     "text": [
      "Processing ECG Files:   4%|█████▋                                                                                                                                          | 1769/45152 [01:11<29:49, 24.25it/s]C:\\Users\\arche\\AppData\\Local\\Packages\\PythonSoftwareFoundation.Python.3.13_qbz5n2kfra8p0\\LocalCache\\local-packages\\Python313\\site-packages\\neurokit2\\signal\\signal_period.py:84: NeuroKitWarning: Too few peaks detected to compute the rate. Returning empty vector.\n",
      "  warn(\n",
      "Processing ECG Files:   4%|█████▋                                                                                                                                          | 1773/45152 [01:11<27:22, 26.40it/s]"
     ]
    },
    {
     "name": "stdout",
     "output_type": "stream",
     "text": [
      "Error calculating heart features: cannot convert float NaN to integer\n"
     ]
    },
    {
     "name": "stderr",
     "output_type": "stream",
     "text": [
      "Processing ECG Files:   4%|██████▎                                                                                                                                         | 1968/45152 [01:19<29:04, 24.75it/s]C:\\Users\\arche\\AppData\\Local\\Packages\\PythonSoftwareFoundation.Python.3.13_qbz5n2kfra8p0\\LocalCache\\local-packages\\Python313\\site-packages\\neurokit2\\signal\\signal_period.py:84: NeuroKitWarning: Too few peaks detected to compute the rate. Returning empty vector.\n",
      "  warn(\n",
      "Processing ECG Files:   4%|██████▎                                                                                                                                         | 1972/45152 [01:19<27:10, 26.48it/s]"
     ]
    },
    {
     "name": "stdout",
     "output_type": "stream",
     "text": [
      "Error calculating heart features: cannot convert float NaN to integer\n"
     ]
    },
    {
     "name": "stderr",
     "output_type": "stream",
     "text": [
      "Processing ECG Files:   5%|███████                                                                                                                                         | 2203/45152 [01:29<28:48, 24.85it/s]C:\\Users\\arche\\AppData\\Local\\Packages\\PythonSoftwareFoundation.Python.3.13_qbz5n2kfra8p0\\LocalCache\\local-packages\\Python313\\site-packages\\neurokit2\\signal\\signal_period.py:84: NeuroKitWarning: Too few peaks detected to compute the rate. Returning empty vector.\n",
      "  warn(\n",
      "Processing ECG Files:   5%|███████                                                                                                                                         | 2210/45152 [01:29<25:38, 27.91it/s]"
     ]
    },
    {
     "name": "stdout",
     "output_type": "stream",
     "text": [
      "Error calculating heart features: cannot convert float NaN to integer\n"
     ]
    },
    {
     "name": "stderr",
     "output_type": "stream",
     "text": [
      "Processing ECG Files:   5%|███████▍                                                                                                                                        | 2345/45152 [01:34<28:08, 25.35it/s]C:\\Users\\arche\\AppData\\Local\\Packages\\PythonSoftwareFoundation.Python.3.13_qbz5n2kfra8p0\\LocalCache\\local-packages\\Python313\\site-packages\\neurokit2\\signal\\signal_period.py:84: NeuroKitWarning: Too few peaks detected to compute the rate. Returning empty vector.\n",
      "  warn(\n",
      "Processing ECG Files:   5%|███████▌                                                                                                                                        | 2352/45152 [01:34<25:19, 28.16it/s]"
     ]
    },
    {
     "name": "stdout",
     "output_type": "stream",
     "text": [
      "Error calculating heart features: cannot convert float NaN to integer\n"
     ]
    },
    {
     "name": "stderr",
     "output_type": "stream",
     "text": [
      "Processing ECG Files:   5%|███████▋                                                                                                                                        | 2413/45152 [01:37<26:03, 27.33it/s]C:\\Users\\arche\\AppData\\Local\\Packages\\PythonSoftwareFoundation.Python.3.13_qbz5n2kfra8p0\\LocalCache\\local-packages\\Python313\\site-packages\\numpy\\_core\\fromnumeric.py:3860: RuntimeWarning: Mean of empty slice.\n",
      "  return _methods._mean(a, axis=axis, dtype=dtype,\n",
      "C:\\Users\\arche\\AppData\\Local\\Packages\\PythonSoftwareFoundation.Python.3.13_qbz5n2kfra8p0\\LocalCache\\local-packages\\Python313\\site-packages\\numpy\\_core\\_methods.py:145: RuntimeWarning: invalid value encountered in scalar divide\n",
      "  ret = ret.dtype.type(ret / rcount)\n",
      "C:\\Users\\arche\\AppData\\Local\\Packages\\PythonSoftwareFoundation.Python.3.13_qbz5n2kfra8p0\\LocalCache\\local-packages\\Python313\\site-packages\\neurokit2\\signal\\signal_period.py:84: NeuroKitWarning: Too few peaks detected to compute the rate. Returning empty vector.\n",
      "  warn(\n",
      "Processing ECG Files:   5%|███████▋                                                                                                                                        | 2420/45152 [01:37<25:32, 27.88it/s]"
     ]
    },
    {
     "name": "stdout",
     "output_type": "stream",
     "text": [
      "Error calculating heart features: cannot convert float NaN to integer\n"
     ]
    },
    {
     "name": "stderr",
     "output_type": "stream",
     "text": [
      "Processing ECG Files:   6%|████████▍                                                                                                                                       | 2648/45152 [01:47<29:41, 23.86it/s]C:\\Users\\arche\\AppData\\Local\\Packages\\PythonSoftwareFoundation.Python.3.13_qbz5n2kfra8p0\\LocalCache\\local-packages\\Python313\\site-packages\\neurokit2\\signal\\signal_period.py:84: NeuroKitWarning: Too few peaks detected to compute the rate. Returning empty vector.\n",
      "  warn(\n",
      "Processing ECG Files:   6%|████████▍                                                                                                                                       | 2652/45152 [01:47<26:26, 26.79it/s]"
     ]
    },
    {
     "name": "stdout",
     "output_type": "stream",
     "text": [
      "Error calculating heart features: cannot convert float NaN to integer\n"
     ]
    },
    {
     "name": "stderr",
     "output_type": "stream",
     "text": [
      "Processing ECG Files:   7%|█████████▉                                                                                                                                      | 3106/45152 [02:07<39:54, 17.56it/s]C:\\Users\\arche\\AppData\\Local\\Packages\\PythonSoftwareFoundation.Python.3.13_qbz5n2kfra8p0\\LocalCache\\local-packages\\Python313\\site-packages\\numpy\\_core\\fromnumeric.py:3860: RuntimeWarning: Mean of empty slice.\n",
      "  return _methods._mean(a, axis=axis, dtype=dtype,\n",
      "C:\\Users\\arche\\AppData\\Local\\Packages\\PythonSoftwareFoundation.Python.3.13_qbz5n2kfra8p0\\LocalCache\\local-packages\\Python313\\site-packages\\numpy\\_core\\_methods.py:145: RuntimeWarning: invalid value encountered in scalar divide\n",
      "  ret = ret.dtype.type(ret / rcount)\n",
      "C:\\Users\\arche\\AppData\\Local\\Packages\\PythonSoftwareFoundation.Python.3.13_qbz5n2kfra8p0\\LocalCache\\local-packages\\Python313\\site-packages\\neurokit2\\signal\\signal_period.py:84: NeuroKitWarning: Too few peaks detected to compute the rate. Returning empty vector.\n",
      "  warn(\n",
      "Processing ECG Files:   7%|█████████▉                                                                                                                                      | 3111/45152 [02:07<39:30, 17.74it/s]"
     ]
    },
    {
     "name": "stdout",
     "output_type": "stream",
     "text": [
      "Error calculating heart features: cannot convert float NaN to integer\n"
     ]
    },
    {
     "name": "stderr",
     "output_type": "stream",
     "text": [
      "Processing ECG Files:   7%|██████████▏                                                                                                                                     | 3176/45152 [02:10<34:12, 20.45it/s]C:\\Users\\arche\\AppData\\Local\\Packages\\PythonSoftwareFoundation.Python.3.13_qbz5n2kfra8p0\\LocalCache\\local-packages\\Python313\\site-packages\\neurokit2\\signal\\signal_period.py:84: NeuroKitWarning: Too few peaks detected to compute the rate. Returning empty vector.\n",
      "  warn(\n",
      "Processing ECG Files:   7%|██████████▏                                                                                                                                     | 3180/45152 [02:10<30:04, 23.26it/s]"
     ]
    },
    {
     "name": "stdout",
     "output_type": "stream",
     "text": [
      "Error calculating heart features: cannot convert float NaN to integer\n"
     ]
    },
    {
     "name": "stderr",
     "output_type": "stream",
     "text": [
      "Processing ECG Files:   9%|████████████▊                                                                                                                                   | 4023/45152 [02:50<32:43, 20.95it/s]C:\\Users\\arche\\AppData\\Local\\Packages\\PythonSoftwareFoundation.Python.3.13_qbz5n2kfra8p0\\LocalCache\\local-packages\\Python313\\site-packages\\neurokit2\\signal\\signal_period.py:84: NeuroKitWarning: Too few peaks detected to compute the rate. Returning empty vector.\n",
      "  warn(\n",
      "Processing ECG Files:   9%|████████████▊                                                                                                                                   | 4027/45152 [02:50<28:27, 24.09it/s]"
     ]
    },
    {
     "name": "stdout",
     "output_type": "stream",
     "text": [
      "Error calculating heart features: cannot convert float NaN to integer\n"
     ]
    },
    {
     "name": "stderr",
     "output_type": "stream",
     "text": [
      "Processing ECG Files:   9%|████████████▊                                                                                                                                   | 4036/45152 [02:50<29:44, 23.04it/s]C:\\Users\\arche\\AppData\\Local\\Packages\\PythonSoftwareFoundation.Python.3.13_qbz5n2kfra8p0\\LocalCache\\local-packages\\Python313\\site-packages\\neurokit2\\signal\\signal_period.py:84: NeuroKitWarning: Too few peaks detected to compute the rate. Returning empty vector.\n",
      "  warn(\n",
      "Processing ECG Files:   9%|████████████▉                                                                                                                                   | 4043/45152 [02:50<27:38, 24.79it/s]"
     ]
    },
    {
     "name": "stdout",
     "output_type": "stream",
     "text": [
      "Error calculating heart features: cannot convert float NaN to integer\n"
     ]
    },
    {
     "name": "stderr",
     "output_type": "stream",
     "text": [
      "Processing ECG Files:   9%|█████████████                                                                                                                                   | 4094/45152 [02:53<29:03, 23.55it/s]C:\\Users\\arche\\AppData\\Local\\Packages\\PythonSoftwareFoundation.Python.3.13_qbz5n2kfra8p0\\LocalCache\\local-packages\\Python313\\site-packages\\numpy\\_core\\fromnumeric.py:3860: RuntimeWarning: Mean of empty slice.\n",
      "  return _methods._mean(a, axis=axis, dtype=dtype,\n",
      "C:\\Users\\arche\\AppData\\Local\\Packages\\PythonSoftwareFoundation.Python.3.13_qbz5n2kfra8p0\\LocalCache\\local-packages\\Python313\\site-packages\\numpy\\_core\\_methods.py:145: RuntimeWarning: invalid value encountered in scalar divide\n",
      "  ret = ret.dtype.type(ret / rcount)\n",
      "C:\\Users\\arche\\AppData\\Local\\Packages\\PythonSoftwareFoundation.Python.3.13_qbz5n2kfra8p0\\LocalCache\\local-packages\\Python313\\site-packages\\neurokit2\\signal\\signal_period.py:84: NeuroKitWarning: Too few peaks detected to compute the rate. Returning empty vector.\n",
      "  warn(\n",
      "Processing ECG Files:   9%|█████████████                                                                                                                                   | 4101/45152 [02:53<25:28, 26.86it/s]C:\\Users\\arche\\AppData\\Local\\Packages\\PythonSoftwareFoundation.Python.3.13_qbz5n2kfra8p0\\LocalCache\\local-packages\\Python313\\site-packages\\neurokit2\\signal\\signal_period.py:84: NeuroKitWarning: Too few peaks detected to compute the rate. Returning empty vector.\n",
      "  warn(\n"
     ]
    },
    {
     "name": "stdout",
     "output_type": "stream",
     "text": [
      "Error calculating heart features: cannot convert float NaN to integer\n",
      "Error calculating heart features: cannot convert float NaN to integer\n"
     ]
    },
    {
     "name": "stderr",
     "output_type": "stream",
     "text": [
      "Processing ECG Files:   9%|█████████████▎                                                                                                                                  | 4164/45152 [02:56<31:20, 21.79it/s]C:\\Users\\arche\\AppData\\Local\\Packages\\PythonSoftwareFoundation.Python.3.13_qbz5n2kfra8p0\\LocalCache\\local-packages\\Python313\\site-packages\\neurokit2\\signal\\signal_period.py:84: NeuroKitWarning: Too few peaks detected to compute the rate. Returning empty vector.\n",
      "  warn(\n",
      "Processing ECG Files:   9%|█████████████▎                                                                                                                                  | 4168/45152 [02:56<28:53, 23.65it/s]"
     ]
    },
    {
     "name": "stdout",
     "output_type": "stream",
     "text": [
      "Error calculating heart features: cannot convert float NaN to integer\n"
     ]
    },
    {
     "name": "stderr",
     "output_type": "stream",
     "text": [
      "Processing ECG Files:  10%|██████████████▌                                                                                                                                 | 4549/45152 [03:13<30:53, 21.90it/s]C:\\Users\\arche\\AppData\\Local\\Packages\\PythonSoftwareFoundation.Python.3.13_qbz5n2kfra8p0\\LocalCache\\local-packages\\Python313\\site-packages\\neurokit2\\signal\\signal_fixpeaks.py:307: RuntimeWarning: invalid value encountered in divide\n",
      "  mrrs /= th2\n",
      "C:\\Users\\arche\\AppData\\Local\\Packages\\PythonSoftwareFoundation.Python.3.13_qbz5n2kfra8p0\\LocalCache\\local-packages\\Python313\\site-packages\\neurokit2\\signal\\signal_period.py:84: NeuroKitWarning: Too few peaks detected to compute the rate. Returning empty vector.\n",
      "  warn(\n",
      "Processing ECG Files:  10%|██████████████▌                                                                                                                                 | 4556/45152 [03:13<27:14, 24.84it/s]"
     ]
    },
    {
     "name": "stdout",
     "output_type": "stream",
     "text": [
      "Error calculating heart features: cannot convert float NaN to integer\n"
     ]
    },
    {
     "name": "stderr",
     "output_type": "stream",
     "text": [
      "Processing ECG Files:  10%|██████████████▊                                                                                                                                 | 4634/45152 [03:16<27:16, 24.76it/s]C:\\Users\\arche\\AppData\\Local\\Packages\\PythonSoftwareFoundation.Python.3.13_qbz5n2kfra8p0\\LocalCache\\local-packages\\Python313\\site-packages\\neurokit2\\signal\\signal_fixpeaks.py:307: RuntimeWarning: invalid value encountered in divide\n",
      "  mrrs /= th2\n",
      "C:\\Users\\arche\\AppData\\Local\\Packages\\PythonSoftwareFoundation.Python.3.13_qbz5n2kfra8p0\\LocalCache\\local-packages\\Python313\\site-packages\\neurokit2\\signal\\signal_period.py:84: NeuroKitWarning: Too few peaks detected to compute the rate. Returning empty vector.\n",
      "  warn(\n",
      "Processing ECG Files:  10%|██████████████▊                                                                                                                                 | 4638/45152 [03:16<25:07, 26.87it/s]"
     ]
    },
    {
     "name": "stdout",
     "output_type": "stream",
     "text": [
      "Error calculating heart features: cannot convert float NaN to integer\n"
     ]
    },
    {
     "name": "stderr",
     "output_type": "stream",
     "text": [
      "Processing ECG Files:  11%|███████████████▎                                                                                                                                | 4812/45152 [03:24<28:50, 23.31it/s]C:\\Users\\arche\\AppData\\Local\\Packages\\PythonSoftwareFoundation.Python.3.13_qbz5n2kfra8p0\\LocalCache\\local-packages\\Python313\\site-packages\\neurokit2\\signal\\signal_fixpeaks.py:307: RuntimeWarning: invalid value encountered in divide\n",
      "  mrrs /= th2\n",
      "C:\\Users\\arche\\AppData\\Local\\Packages\\PythonSoftwareFoundation.Python.3.13_qbz5n2kfra8p0\\LocalCache\\local-packages\\Python313\\site-packages\\neurokit2\\signal\\signal_period.py:84: NeuroKitWarning: Too few peaks detected to compute the rate. Returning empty vector.\n",
      "  warn(\n",
      "Processing ECG Files:  11%|███████████████▎                                                                                                                                | 4816/45152 [03:24<26:50, 25.04it/s]"
     ]
    },
    {
     "name": "stdout",
     "output_type": "stream",
     "text": [
      "Error calculating heart features: cannot convert float NaN to integer\n"
     ]
    },
    {
     "name": "stderr",
     "output_type": "stream",
     "text": [
      "Processing ECG Files:  11%|███████████████▌                                                                                                                                | 4882/45152 [03:27<28:22, 23.66it/s]C:\\Users\\arche\\AppData\\Local\\Packages\\PythonSoftwareFoundation.Python.3.13_qbz5n2kfra8p0\\LocalCache\\local-packages\\Python313\\site-packages\\neurokit2\\signal\\signal_fixpeaks.py:307: RuntimeWarning: invalid value encountered in divide\n",
      "  mrrs /= th2\n",
      "C:\\Users\\arche\\AppData\\Local\\Packages\\PythonSoftwareFoundation.Python.3.13_qbz5n2kfra8p0\\LocalCache\\local-packages\\Python313\\site-packages\\neurokit2\\signal\\signal_period.py:84: NeuroKitWarning: Too few peaks detected to compute the rate. Returning empty vector.\n",
      "  warn(\n",
      "Processing ECG Files:  11%|███████████████▌                                                                                                                                | 4889/45152 [03:27<27:43, 24.20it/s]"
     ]
    },
    {
     "name": "stdout",
     "output_type": "stream",
     "text": [
      "Error calculating heart features: cannot convert float NaN to integer\n"
     ]
    },
    {
     "name": "stderr",
     "output_type": "stream",
     "text": [
      "Processing ECG Files:  11%|████████████████                                                                                                                                | 5036/45152 [03:33<28:23, 23.56it/s]C:\\Users\\arche\\AppData\\Local\\Packages\\PythonSoftwareFoundation.Python.3.13_qbz5n2kfra8p0\\LocalCache\\local-packages\\Python313\\site-packages\\neurokit2\\signal\\signal_period.py:84: NeuroKitWarning: Too few peaks detected to compute the rate. Returning empty vector.\n",
      "  warn(\n",
      "Processing ECG Files:  11%|████████████████                                                                                                                                | 5043/45152 [03:34<26:13, 25.49it/s]"
     ]
    },
    {
     "name": "stdout",
     "output_type": "stream",
     "text": [
      "Error calculating heart features: cannot convert float NaN to integer\n"
     ]
    },
    {
     "name": "stderr",
     "output_type": "stream",
     "text": [
      "Processing ECG Files:  11%|████████████████▎                                                                                                                               | 5100/45152 [03:36<28:17, 23.60it/s]C:\\Users\\arche\\AppData\\Local\\Packages\\PythonSoftwareFoundation.Python.3.13_qbz5n2kfra8p0\\LocalCache\\local-packages\\Python313\\site-packages\\neurokit2\\signal\\signal_period.py:84: NeuroKitWarning: Too few peaks detected to compute the rate. Returning empty vector.\n",
      "  warn(\n",
      "Processing ECG Files:  11%|████████████████▎                                                                                                                               | 5107/45152 [03:36<26:38, 25.05it/s]"
     ]
    },
    {
     "name": "stdout",
     "output_type": "stream",
     "text": [
      "Error calculating heart features: cannot convert float NaN to integer\n"
     ]
    },
    {
     "name": "stderr",
     "output_type": "stream",
     "text": [
      "Processing ECG Files:  11%|████████████████▎                                                                                                                               | 5134/45152 [03:37<28:39, 23.28it/s]C:\\Users\\arche\\AppData\\Local\\Packages\\PythonSoftwareFoundation.Python.3.13_qbz5n2kfra8p0\\LocalCache\\local-packages\\Python313\\site-packages\\neurokit2\\signal\\signal_fixpeaks.py:307: RuntimeWarning: invalid value encountered in divide\n",
      "  mrrs /= th2\n",
      "C:\\Users\\arche\\AppData\\Local\\Packages\\PythonSoftwareFoundation.Python.3.13_qbz5n2kfra8p0\\LocalCache\\local-packages\\Python313\\site-packages\\neurokit2\\signal\\signal_period.py:84: NeuroKitWarning: Too few peaks detected to compute the rate. Returning empty vector.\n",
      "  warn(\n",
      "Processing ECG Files:  11%|████████████████▍                                                                                                                               | 5140/45152 [03:38<28:34, 23.34it/s]"
     ]
    },
    {
     "name": "stdout",
     "output_type": "stream",
     "text": [
      "Error calculating heart features: cannot convert float NaN to integer\n"
     ]
    },
    {
     "name": "stderr",
     "output_type": "stream",
     "text": [
      "Processing ECG Files:  12%|█████████████████▎                                                                                                                              | 5443/45152 [03:50<27:44, 23.86it/s]C:\\Users\\arche\\AppData\\Local\\Packages\\PythonSoftwareFoundation.Python.3.13_qbz5n2kfra8p0\\LocalCache\\local-packages\\Python313\\site-packages\\neurokit2\\signal\\signal_period.py:84: NeuroKitWarning: Too few peaks detected to compute the rate. Returning empty vector.\n",
      "  warn(\n",
      "Processing ECG Files:  12%|█████████████████▍                                                                                                                              | 5450/45152 [03:51<25:43, 25.72it/s]"
     ]
    },
    {
     "name": "stdout",
     "output_type": "stream",
     "text": [
      "Error calculating heart features: cannot convert float NaN to integer\n"
     ]
    },
    {
     "name": "stderr",
     "output_type": "stream",
     "text": [
      "Processing ECG Files:  12%|█████████████████▍                                                                                                                              | 5453/45152 [03:51<26:26, 25.02it/s]C:\\Users\\arche\\AppData\\Local\\Packages\\PythonSoftwareFoundation.Python.3.13_qbz5n2kfra8p0\\LocalCache\\local-packages\\Python313\\site-packages\\neurokit2\\signal\\signal_period.py:84: NeuroKitWarning: Too few peaks detected to compute the rate. Returning empty vector.\n",
      "  warn(\n",
      "Processing ECG Files:  12%|█████████████████▍                                                                                                                              | 5457/45152 [03:51<25:17, 26.15it/s]"
     ]
    },
    {
     "name": "stdout",
     "output_type": "stream",
     "text": [
      "Error calculating heart features: cannot convert float NaN to integer\n"
     ]
    },
    {
     "name": "stderr",
     "output_type": "stream",
     "text": [
      "Processing ECG Files:  12%|█████████████████▌                                                                                                                              | 5502/45152 [03:53<31:22, 21.06it/s]C:\\Users\\arche\\AppData\\Local\\Packages\\PythonSoftwareFoundation.Python.3.13_qbz5n2kfra8p0\\LocalCache\\local-packages\\Python313\\site-packages\\neurokit2\\signal\\signal_fixpeaks.py:307: RuntimeWarning: invalid value encountered in divide\n",
      "  mrrs /= th2\n",
      "C:\\Users\\arche\\AppData\\Local\\Packages\\PythonSoftwareFoundation.Python.3.13_qbz5n2kfra8p0\\LocalCache\\local-packages\\Python313\\site-packages\\neurokit2\\signal\\signal_period.py:84: NeuroKitWarning: Too few peaks detected to compute the rate. Returning empty vector.\n",
      "  warn(\n",
      "Processing ECG Files:  12%|█████████████████▌                                                                                                                              | 5506/45152 [03:53<27:42, 23.85it/s]"
     ]
    },
    {
     "name": "stdout",
     "output_type": "stream",
     "text": [
      "Error calculating heart features: cannot convert float NaN to integer\n"
     ]
    },
    {
     "name": "stderr",
     "output_type": "stream",
     "text": [
      "Processing ECG Files:  13%|██████████████████▋                                                                                                                             | 5848/45152 [04:08<28:36, 22.90it/s]C:\\Users\\arche\\AppData\\Local\\Packages\\PythonSoftwareFoundation.Python.3.13_qbz5n2kfra8p0\\LocalCache\\local-packages\\Python313\\site-packages\\neurokit2\\signal\\signal_fixpeaks.py:307: RuntimeWarning: invalid value encountered in divide\n",
      "  mrrs /= th2\n",
      "C:\\Users\\arche\\AppData\\Local\\Packages\\PythonSoftwareFoundation.Python.3.13_qbz5n2kfra8p0\\LocalCache\\local-packages\\Python313\\site-packages\\neurokit2\\signal\\signal_period.py:84: NeuroKitWarning: Too few peaks detected to compute the rate. Returning empty vector.\n",
      "  warn(\n",
      "Processing ECG Files:  13%|██████████████████▋                                                                                                                             | 5851/45152 [04:08<27:04, 24.19it/s]"
     ]
    },
    {
     "name": "stdout",
     "output_type": "stream",
     "text": [
      "Error calculating heart features: cannot convert float NaN to integer\n"
     ]
    },
    {
     "name": "stderr",
     "output_type": "stream",
     "text": [
      "Processing ECG Files:  13%|███████████████████▎                                                                                                                            | 6064/45152 [04:17<27:28, 23.72it/s]C:\\Users\\arche\\AppData\\Local\\Packages\\PythonSoftwareFoundation.Python.3.13_qbz5n2kfra8p0\\LocalCache\\local-packages\\Python313\\site-packages\\neurokit2\\signal\\signal_period.py:84: NeuroKitWarning: Too few peaks detected to compute the rate. Returning empty vector.\n",
      "  warn(\n",
      "Processing ECG Files:  13%|███████████████████▎                                                                                                                            | 6071/45152 [04:18<25:37, 25.43it/s]"
     ]
    },
    {
     "name": "stdout",
     "output_type": "stream",
     "text": [
      "Error calculating heart features: cannot convert float NaN to integer\n"
     ]
    },
    {
     "name": "stderr",
     "output_type": "stream",
     "text": [
      "Processing ECG Files:  14%|████████████████████                                                                                                                            | 6299/45152 [04:27<28:24, 22.80it/s]C:\\Users\\arche\\AppData\\Local\\Packages\\PythonSoftwareFoundation.Python.3.13_qbz5n2kfra8p0\\LocalCache\\local-packages\\Python313\\site-packages\\neurokit2\\signal\\signal_fixpeaks.py:307: RuntimeWarning: invalid value encountered in divide\n",
      "  mrrs /= th2\n",
      "C:\\Users\\arche\\AppData\\Local\\Packages\\PythonSoftwareFoundation.Python.3.13_qbz5n2kfra8p0\\LocalCache\\local-packages\\Python313\\site-packages\\neurokit2\\signal\\signal_period.py:84: NeuroKitWarning: Too few peaks detected to compute the rate. Returning empty vector.\n",
      "  warn(\n",
      "Processing ECG Files:  14%|████████████████████                                                                                                                            | 6303/45152 [04:27<25:22, 25.52it/s]"
     ]
    },
    {
     "name": "stdout",
     "output_type": "stream",
     "text": [
      "Error calculating heart features: cannot convert float NaN to integer\n"
     ]
    },
    {
     "name": "stderr",
     "output_type": "stream",
     "text": [
      "Processing ECG Files:  14%|████████████████████▎                                                                                                                           | 6351/45152 [04:30<28:01, 23.07it/s]C:\\Users\\arche\\AppData\\Local\\Packages\\PythonSoftwareFoundation.Python.3.13_qbz5n2kfra8p0\\LocalCache\\local-packages\\Python313\\site-packages\\neurokit2\\signal\\signal_period.py:84: NeuroKitWarning: Too few peaks detected to compute the rate. Returning empty vector.\n",
      "  warn(\n",
      "Processing ECG Files:  14%|████████████████████▎                                                                                                                           | 6355/45152 [04:30<26:19, 24.57it/s]"
     ]
    },
    {
     "name": "stdout",
     "output_type": "stream",
     "text": [
      "Error calculating heart features: cannot convert float NaN to integer\n"
     ]
    },
    {
     "name": "stderr",
     "output_type": "stream",
     "text": [
      "Processing ECG Files:  15%|█████████████████████                                                                                                                           | 6613/45152 [04:41<27:22, 23.46it/s]C:\\Users\\arche\\AppData\\Local\\Packages\\PythonSoftwareFoundation.Python.3.13_qbz5n2kfra8p0\\LocalCache\\local-packages\\Python313\\site-packages\\neurokit2\\signal\\signal_period.py:84: NeuroKitWarning: Too few peaks detected to compute the rate. Returning empty vector.\n",
      "  warn(\n",
      "Processing ECG Files:  15%|█████████████████████                                                                                                                           | 6620/45152 [04:41<24:04, 26.68it/s]"
     ]
    },
    {
     "name": "stdout",
     "output_type": "stream",
     "text": [
      "Error calculating heart features: cannot convert float NaN to integer\n"
     ]
    },
    {
     "name": "stderr",
     "output_type": "stream",
     "text": [
      "Processing ECG Files:  15%|█████████████████████▎                                                                                                                          | 6674/45152 [04:43<27:42, 23.14it/s]C:\\Users\\arche\\AppData\\Local\\Packages\\PythonSoftwareFoundation.Python.3.13_qbz5n2kfra8p0\\LocalCache\\local-packages\\Python313\\site-packages\\neurokit2\\signal\\signal_period.py:84: NeuroKitWarning: Too few peaks detected to compute the rate. Returning empty vector.\n",
      "  warn(\n",
      "Processing ECG Files:  15%|█████████████████████▎                                                                                                                          | 6681/45152 [04:43<26:52, 23.86it/s]"
     ]
    },
    {
     "name": "stdout",
     "output_type": "stream",
     "text": [
      "Error calculating heart features: cannot convert float NaN to integer\n"
     ]
    },
    {
     "name": "stderr",
     "output_type": "stream",
     "text": [
      "Processing ECG Files:  15%|█████████████████████▎                                                                                                                          | 6690/45152 [04:44<27:06, 23.65it/s]C:\\Users\\arche\\AppData\\Local\\Packages\\PythonSoftwareFoundation.Python.3.13_qbz5n2kfra8p0\\LocalCache\\local-packages\\Python313\\site-packages\\numpy\\_core\\fromnumeric.py:3860: RuntimeWarning: Mean of empty slice.\n",
      "  return _methods._mean(a, axis=axis, dtype=dtype,\n",
      "C:\\Users\\arche\\AppData\\Local\\Packages\\PythonSoftwareFoundation.Python.3.13_qbz5n2kfra8p0\\LocalCache\\local-packages\\Python313\\site-packages\\numpy\\_core\\_methods.py:145: RuntimeWarning: invalid value encountered in scalar divide\n",
      "  ret = ret.dtype.type(ret / rcount)\n",
      "C:\\Users\\arche\\AppData\\Local\\Packages\\PythonSoftwareFoundation.Python.3.13_qbz5n2kfra8p0\\LocalCache\\local-packages\\Python313\\site-packages\\neurokit2\\signal\\signal_period.py:84: NeuroKitWarning: Too few peaks detected to compute the rate. Returning empty vector.\n",
      "  warn(\n",
      "Processing ECG Files:  15%|█████████████████████▎                                                                                                                          | 6697/45152 [04:44<23:58, 26.74it/s]"
     ]
    },
    {
     "name": "stdout",
     "output_type": "stream",
     "text": [
      "Error calculating heart features: integer division or modulo by zero\n"
     ]
    },
    {
     "name": "stderr",
     "output_type": "stream",
     "text": [
      "Processing ECG Files:  15%|█████████████████████▍                                                                                                                          | 6712/45152 [04:45<24:50, 25.79it/s]C:\\Users\\arche\\AppData\\Local\\Packages\\PythonSoftwareFoundation.Python.3.13_qbz5n2kfra8p0\\LocalCache\\local-packages\\Python313\\site-packages\\neurokit2\\signal\\signal_period.py:84: NeuroKitWarning: Too few peaks detected to compute the rate. Returning empty vector.\n",
      "  warn(\n",
      "Processing ECG Files:  15%|█████████████████████▍                                                                                                                          | 6719/45152 [04:45<22:52, 28.01it/s]"
     ]
    },
    {
     "name": "stdout",
     "output_type": "stream",
     "text": [
      "Error calculating heart features: cannot convert float NaN to integer\n"
     ]
    },
    {
     "name": "stderr",
     "output_type": "stream",
     "text": [
      "Processing ECG Files:  16%|██████████████████████▌                                                                                                                         | 7089/45152 [05:00<30:17, 20.94it/s]C:\\Users\\arche\\AppData\\Local\\Packages\\PythonSoftwareFoundation.Python.3.13_qbz5n2kfra8p0\\LocalCache\\local-packages\\Python313\\site-packages\\neurokit2\\signal\\signal_period.py:84: NeuroKitWarning: Too few peaks detected to compute the rate. Returning empty vector.\n",
      "  warn(\n",
      "Processing ECG Files:  16%|██████████████████████▋                                                                                                                         | 7096/45152 [05:01<26:02, 24.36it/s]"
     ]
    },
    {
     "name": "stdout",
     "output_type": "stream",
     "text": [
      "Error calculating heart features: cannot convert float NaN to integer\n"
     ]
    },
    {
     "name": "stderr",
     "output_type": "stream",
     "text": [
      "Processing ECG Files:  17%|████████████████████████                                                                                                                        | 7531/45152 [05:19<26:50, 23.36it/s]C:\\Users\\arche\\AppData\\Local\\Packages\\PythonSoftwareFoundation.Python.3.13_qbz5n2kfra8p0\\LocalCache\\local-packages\\Python313\\site-packages\\numpy\\_core\\fromnumeric.py:3860: RuntimeWarning: Mean of empty slice.\n",
      "  return _methods._mean(a, axis=axis, dtype=dtype,\n",
      "C:\\Users\\arche\\AppData\\Local\\Packages\\PythonSoftwareFoundation.Python.3.13_qbz5n2kfra8p0\\LocalCache\\local-packages\\Python313\\site-packages\\numpy\\_core\\_methods.py:145: RuntimeWarning: invalid value encountered in scalar divide\n",
      "  ret = ret.dtype.type(ret / rcount)\n",
      "C:\\Users\\arche\\AppData\\Local\\Packages\\PythonSoftwareFoundation.Python.3.13_qbz5n2kfra8p0\\LocalCache\\local-packages\\Python313\\site-packages\\neurokit2\\signal\\signal_period.py:84: NeuroKitWarning: Too few peaks detected to compute the rate. Returning empty vector.\n",
      "  warn(\n",
      "Processing ECG Files:  17%|████████████████████████                                                                                                                        | 7534/45152 [05:19<27:38, 22.68it/s]"
     ]
    },
    {
     "name": "stdout",
     "output_type": "stream",
     "text": [
      "Error calculating heart features: integer division or modulo by zero\n"
     ]
    },
    {
     "name": "stderr",
     "output_type": "stream",
     "text": [
      "Processing ECG Files:  17%|████████████████████████▋                                                                                                                       | 7732/45152 [05:28<26:24, 23.62it/s]C:\\Users\\arche\\AppData\\Local\\Packages\\PythonSoftwareFoundation.Python.3.13_qbz5n2kfra8p0\\LocalCache\\local-packages\\Python313\\site-packages\\neurokit2\\signal\\signal_fixpeaks.py:307: RuntimeWarning: invalid value encountered in divide\n",
      "  mrrs /= th2\n",
      "C:\\Users\\arche\\AppData\\Local\\Packages\\PythonSoftwareFoundation.Python.3.13_qbz5n2kfra8p0\\LocalCache\\local-packages\\Python313\\site-packages\\neurokit2\\signal\\signal_period.py:84: NeuroKitWarning: Too few peaks detected to compute the rate. Returning empty vector.\n",
      "  warn(\n",
      "Processing ECG Files:  17%|████████████████████████▋                                                                                                                       | 7739/45152 [05:28<24:51, 25.09it/s]"
     ]
    },
    {
     "name": "stdout",
     "output_type": "stream",
     "text": [
      "Error calculating heart features: cannot convert float NaN to integer\n"
     ]
    },
    {
     "name": "stderr",
     "output_type": "stream",
     "text": [
      "Processing ECG Files:  17%|█████████████████████████                                                                                                                       | 7874/45152 [05:34<27:28, 22.62it/s]C:\\Users\\arche\\AppData\\Local\\Packages\\PythonSoftwareFoundation.Python.3.13_qbz5n2kfra8p0\\LocalCache\\local-packages\\Python313\\site-packages\\neurokit2\\signal\\signal_period.py:84: NeuroKitWarning: Too few peaks detected to compute the rate. Returning empty vector.\n",
      "  warn(\n",
      "Processing ECG Files:  17%|█████████████████████████                                                                                                                       | 7878/45152 [05:34<25:19, 24.53it/s]"
     ]
    },
    {
     "name": "stdout",
     "output_type": "stream",
     "text": [
      "Error calculating heart features: cannot convert float NaN to integer\n"
     ]
    },
    {
     "name": "stderr",
     "output_type": "stream",
     "text": [
      "Processing ECG Files:  18%|█████████████████████████▍                                                                                                                      | 7965/45152 [05:38<26:07, 23.72it/s]C:\\Users\\arche\\AppData\\Local\\Packages\\PythonSoftwareFoundation.Python.3.13_qbz5n2kfra8p0\\LocalCache\\local-packages\\Python313\\site-packages\\neurokit2\\signal\\signal_period.py:84: NeuroKitWarning: Too few peaks detected to compute the rate. Returning empty vector.\n",
      "  warn(\n",
      "Processing ECG Files:  18%|█████████████████████████▍                                                                                                                      | 7972/45152 [05:38<23:31, 26.34it/s]"
     ]
    },
    {
     "name": "stdout",
     "output_type": "stream",
     "text": [
      "Error calculating heart features: cannot convert float NaN to integer\n"
     ]
    },
    {
     "name": "stderr",
     "output_type": "stream",
     "text": [
      "Processing ECG Files:  18%|█████████████████████████▌                                                                                                                      | 8023/45152 [05:40<25:15, 24.50it/s]C:\\Users\\arche\\AppData\\Local\\Packages\\PythonSoftwareFoundation.Python.3.13_qbz5n2kfra8p0\\LocalCache\\local-packages\\Python313\\site-packages\\numpy\\_core\\fromnumeric.py:3860: RuntimeWarning: Mean of empty slice.\n",
      "  return _methods._mean(a, axis=axis, dtype=dtype,\n",
      "C:\\Users\\arche\\AppData\\Local\\Packages\\PythonSoftwareFoundation.Python.3.13_qbz5n2kfra8p0\\LocalCache\\local-packages\\Python313\\site-packages\\numpy\\_core\\_methods.py:145: RuntimeWarning: invalid value encountered in scalar divide\n",
      "  ret = ret.dtype.type(ret / rcount)\n",
      "C:\\Users\\arche\\AppData\\Local\\Packages\\PythonSoftwareFoundation.Python.3.13_qbz5n2kfra8p0\\LocalCache\\local-packages\\Python313\\site-packages\\neurokit2\\signal\\signal_period.py:84: NeuroKitWarning: Too few peaks detected to compute the rate. Returning empty vector.\n",
      "  warn(\n",
      "Processing ECG Files:  18%|█████████████████████████▌                                                                                                                      | 8029/45152 [05:40<24:41, 25.05it/s]"
     ]
    },
    {
     "name": "stdout",
     "output_type": "stream",
     "text": [
      "Error calculating heart features: cannot convert float NaN to integer\n"
     ]
    },
    {
     "name": "stderr",
     "output_type": "stream",
     "text": [
      "Processing ECG Files:  18%|██████████████████████████▏                                                                                                                     | 8206/45152 [05:48<24:22, 25.26it/s]C:\\Users\\arche\\AppData\\Local\\Packages\\PythonSoftwareFoundation.Python.3.13_qbz5n2kfra8p0\\LocalCache\\local-packages\\Python313\\site-packages\\neurokit2\\signal\\signal_fixpeaks.py:307: RuntimeWarning: invalid value encountered in divide\n",
      "  mrrs /= th2\n",
      "C:\\Users\\arche\\AppData\\Local\\Packages\\PythonSoftwareFoundation.Python.3.13_qbz5n2kfra8p0\\LocalCache\\local-packages\\Python313\\site-packages\\neurokit2\\signal\\signal_period.py:84: NeuroKitWarning: Too few peaks detected to compute the rate. Returning empty vector.\n",
      "  warn(\n",
      "Processing ECG Files:  18%|██████████████████████████▏                                                                                                                     | 8213/45152 [05:48<23:19, 26.39it/s]"
     ]
    },
    {
     "name": "stdout",
     "output_type": "stream",
     "text": [
      "Error calculating heart features: cannot convert float NaN to integer\n"
     ]
    },
    {
     "name": "stderr",
     "output_type": "stream",
     "text": [
      "Processing ECG Files:  18%|██████████████████████████▍                                                                                                                     | 8279/45152 [05:51<25:27, 24.15it/s]C:\\Users\\arche\\AppData\\Local\\Packages\\PythonSoftwareFoundation.Python.3.13_qbz5n2kfra8p0\\LocalCache\\local-packages\\Python313\\site-packages\\neurokit2\\signal\\signal_fixpeaks.py:307: RuntimeWarning: invalid value encountered in divide\n",
      "  mrrs /= th2\n",
      "C:\\Users\\arche\\AppData\\Local\\Packages\\PythonSoftwareFoundation.Python.3.13_qbz5n2kfra8p0\\LocalCache\\local-packages\\Python313\\site-packages\\neurokit2\\signal\\signal_period.py:84: NeuroKitWarning: Too few peaks detected to compute the rate. Returning empty vector.\n",
      "  warn(\n",
      "Processing ECG Files:  18%|██████████████████████████▍                                                                                                                     | 8286/45152 [05:51<23:44, 25.88it/s]"
     ]
    },
    {
     "name": "stdout",
     "output_type": "stream",
     "text": [
      "Error calculating heart features: cannot convert float NaN to integer\n"
     ]
    },
    {
     "name": "stderr",
     "output_type": "stream",
     "text": [
      "Processing ECG Files:  18%|██████████████████████████▋                                                                                                                     | 8352/45152 [05:54<27:39, 22.17it/s]C:\\Users\\arche\\AppData\\Local\\Packages\\PythonSoftwareFoundation.Python.3.13_qbz5n2kfra8p0\\LocalCache\\local-packages\\Python313\\site-packages\\neurokit2\\signal\\signal_period.py:84: NeuroKitWarning: Too few peaks detected to compute the rate. Returning empty vector.\n",
      "  warn(\n",
      "Processing ECG Files:  19%|██████████████████████████▋                                                                                                                     | 8356/45152 [05:54<25:01, 24.50it/s]"
     ]
    },
    {
     "name": "stdout",
     "output_type": "stream",
     "text": [
      "Error calculating heart features: cannot convert float NaN to integer\n"
     ]
    },
    {
     "name": "stderr",
     "output_type": "stream",
     "text": [
      "Processing ECG Files:  19%|███████████████████████████                                                                                                                     | 8473/45152 [05:59<27:53, 21.92it/s]C:\\Users\\arche\\AppData\\Local\\Packages\\PythonSoftwareFoundation.Python.3.13_qbz5n2kfra8p0\\LocalCache\\local-packages\\Python313\\site-packages\\neurokit2\\signal\\signal_fixpeaks.py:307: RuntimeWarning: invalid value encountered in divide\n",
      "  mrrs /= th2\n",
      "C:\\Users\\arche\\AppData\\Local\\Packages\\PythonSoftwareFoundation.Python.3.13_qbz5n2kfra8p0\\LocalCache\\local-packages\\Python313\\site-packages\\neurokit2\\signal\\signal_period.py:84: NeuroKitWarning: Too few peaks detected to compute the rate. Returning empty vector.\n",
      "  warn(\n",
      "Processing ECG Files:  19%|███████████████████████████                                                                                                                     | 8480/45152 [05:59<27:06, 22.54it/s]"
     ]
    },
    {
     "name": "stdout",
     "output_type": "stream",
     "text": [
      "Error calculating heart features: cannot convert float NaN to integer\n"
     ]
    },
    {
     "name": "stderr",
     "output_type": "stream",
     "text": [
      "Processing ECG Files:  19%|███████████████████████████▎                                                                                                                    | 8549/45152 [06:02<27:58, 21.80it/s]C:\\Users\\arche\\AppData\\Local\\Packages\\PythonSoftwareFoundation.Python.3.13_qbz5n2kfra8p0\\LocalCache\\local-packages\\Python313\\site-packages\\numpy\\_core\\fromnumeric.py:3860: RuntimeWarning: Mean of empty slice.\n",
      "  return _methods._mean(a, axis=axis, dtype=dtype,\n",
      "C:\\Users\\arche\\AppData\\Local\\Packages\\PythonSoftwareFoundation.Python.3.13_qbz5n2kfra8p0\\LocalCache\\local-packages\\Python313\\site-packages\\numpy\\_core\\_methods.py:145: RuntimeWarning: invalid value encountered in scalar divide\n",
      "  ret = ret.dtype.type(ret / rcount)\n",
      "C:\\Users\\arche\\AppData\\Local\\Packages\\PythonSoftwareFoundation.Python.3.13_qbz5n2kfra8p0\\LocalCache\\local-packages\\Python313\\site-packages\\neurokit2\\signal\\signal_period.py:84: NeuroKitWarning: Too few peaks detected to compute the rate. Returning empty vector.\n",
      "  warn(\n",
      "Processing ECG Files:  19%|███████████████████████████▎                                                                                                                    | 8556/45152 [06:03<24:52, 24.52it/s]"
     ]
    },
    {
     "name": "stdout",
     "output_type": "stream",
     "text": [
      "Error calculating heart features: cannot convert float NaN to integer\n"
     ]
    },
    {
     "name": "stderr",
     "output_type": "stream",
     "text": [
      "Processing ECG Files:  20%|████████████████████████████▎                                                                                                                   | 8886/45152 [06:17<26:45, 22.59it/s]C:\\Users\\arche\\AppData\\Local\\Packages\\PythonSoftwareFoundation.Python.3.13_qbz5n2kfra8p0\\LocalCache\\local-packages\\Python313\\site-packages\\neurokit2\\signal\\signal_period.py:84: NeuroKitWarning: Too few peaks detected to compute the rate. Returning empty vector.\n",
      "  warn(\n",
      "Processing ECG Files:  20%|████████████████████████████▎                                                                                                                   | 8890/45152 [06:17<24:00, 25.17it/s]"
     ]
    },
    {
     "name": "stdout",
     "output_type": "stream",
     "text": [
      "Error calculating heart features: cannot convert float NaN to integer\n"
     ]
    },
    {
     "name": "stderr",
     "output_type": "stream",
     "text": [
      "Processing ECG Files:  20%|████████████████████████████▍                                                                                                                   | 8899/45152 [06:18<26:01, 23.22it/s]C:\\Users\\arche\\AppData\\Local\\Packages\\PythonSoftwareFoundation.Python.3.13_qbz5n2kfra8p0\\LocalCache\\local-packages\\Python313\\site-packages\\neurokit2\\signal\\signal_period.py:84: NeuroKitWarning: Too few peaks detected to compute the rate. Returning empty vector.\n",
      "  warn(\n",
      "Processing ECG Files:  20%|████████████████████████████▍                                                                                                                   | 8903/45152 [06:18<22:58, 26.29it/s]C:\\Users\\arche\\AppData\\Local\\Packages\\PythonSoftwareFoundation.Python.3.13_qbz5n2kfra8p0\\LocalCache\\local-packages\\Python313\\site-packages\\numpy\\_core\\fromnumeric.py:3860: RuntimeWarning: Mean of empty slice.\n",
      "  return _methods._mean(a, axis=axis, dtype=dtype,\n"
     ]
    },
    {
     "name": "stdout",
     "output_type": "stream",
     "text": [
      "Error calculating heart features: cannot convert float NaN to integer\n",
      "Error calculating heart features: cannot convert float NaN to integer\n"
     ]
    },
    {
     "name": "stderr",
     "output_type": "stream",
     "text": [
      "C:\\Users\\arche\\AppData\\Local\\Packages\\PythonSoftwareFoundation.Python.3.13_qbz5n2kfra8p0\\LocalCache\\local-packages\\Python313\\site-packages\\numpy\\_core\\_methods.py:145: RuntimeWarning: invalid value encountered in scalar divide\n",
      "  ret = ret.dtype.type(ret / rcount)\n",
      "C:\\Users\\arche\\AppData\\Local\\Packages\\PythonSoftwareFoundation.Python.3.13_qbz5n2kfra8p0\\LocalCache\\local-packages\\Python313\\site-packages\\neurokit2\\signal\\signal_period.py:84: NeuroKitWarning: Too few peaks detected to compute the rate. Returning empty vector.\n",
      "  warn(\n",
      "Processing ECG Files:  20%|████████████████████████████▍                                                                                                                   | 8919/45152 [06:18<24:22, 24.77it/s]C:\\Users\\arche\\AppData\\Local\\Packages\\PythonSoftwareFoundation.Python.3.13_qbz5n2kfra8p0\\LocalCache\\local-packages\\Python313\\site-packages\\neurokit2\\signal\\signal_fixpeaks.py:307: RuntimeWarning: invalid value encountered in divide\n",
      "  mrrs /= th2\n",
      "C:\\Users\\arche\\AppData\\Local\\Packages\\PythonSoftwareFoundation.Python.3.13_qbz5n2kfra8p0\\LocalCache\\local-packages\\Python313\\site-packages\\neurokit2\\signal\\signal_period.py:84: NeuroKitWarning: Too few peaks detected to compute the rate. Returning empty vector.\n",
      "  warn(\n",
      "Processing ECG Files:  20%|████████████████████████████▍                                                                                                                   | 8923/45152 [06:18<23:07, 26.10it/s]"
     ]
    },
    {
     "name": "stdout",
     "output_type": "stream",
     "text": [
      "Error calculating heart features: cannot convert float NaN to integer\n"
     ]
    },
    {
     "name": "stderr",
     "output_type": "stream",
     "text": [
      "Processing ECG Files:  20%|████████████████████████████▌                                                                                                                   | 8962/45152 [06:20<24:48, 24.31it/s]C:\\Users\\arche\\AppData\\Local\\Packages\\PythonSoftwareFoundation.Python.3.13_qbz5n2kfra8p0\\LocalCache\\local-packages\\Python313\\site-packages\\neurokit2\\signal\\signal_period.py:84: NeuroKitWarning: Too few peaks detected to compute the rate. Returning empty vector.\n",
      "  warn(\n",
      "Processing ECG Files:  20%|████████████████████████████▌                                                                                                                   | 8966/45152 [06:20<22:50, 26.40it/s]"
     ]
    },
    {
     "name": "stdout",
     "output_type": "stream",
     "text": [
      "Error calculating heart features: cannot convert float NaN to integer\n"
     ]
    },
    {
     "name": "stderr",
     "output_type": "stream",
     "text": [
      "Processing ECG Files:  20%|████████████████████████████▊                                                                                                                   | 9041/45152 [06:23<24:32, 24.52it/s]C:\\Users\\arche\\AppData\\Local\\Packages\\PythonSoftwareFoundation.Python.3.13_qbz5n2kfra8p0\\LocalCache\\local-packages\\Python313\\site-packages\\neurokit2\\signal\\signal_fixpeaks.py:307: RuntimeWarning: invalid value encountered in divide\n",
      "  mrrs /= th2\n",
      "C:\\Users\\arche\\AppData\\Local\\Packages\\PythonSoftwareFoundation.Python.3.13_qbz5n2kfra8p0\\LocalCache\\local-packages\\Python313\\site-packages\\neurokit2\\signal\\signal_period.py:84: NeuroKitWarning: Too few peaks detected to compute the rate. Returning empty vector.\n",
      "  warn(\n",
      "Processing ECG Files:  20%|████████████████████████████▊                                                                                                                   | 9045/45152 [06:24<23:02, 26.11it/s]"
     ]
    },
    {
     "name": "stdout",
     "output_type": "stream",
     "text": [
      "Error calculating heart features: cannot convert float NaN to integer\n"
     ]
    },
    {
     "name": "stderr",
     "output_type": "stream",
     "text": [
      "Processing ECG Files:  21%|█████████████████████████████▌                                                                                                                  | 9258/45152 [06:33<25:42, 23.26it/s]C:\\Users\\arche\\AppData\\Local\\Packages\\PythonSoftwareFoundation.Python.3.13_qbz5n2kfra8p0\\LocalCache\\local-packages\\Python313\\site-packages\\numpy\\_core\\fromnumeric.py:3860: RuntimeWarning: Mean of empty slice.\n",
      "  return _methods._mean(a, axis=axis, dtype=dtype,\n",
      "C:\\Users\\arche\\AppData\\Local\\Packages\\PythonSoftwareFoundation.Python.3.13_qbz5n2kfra8p0\\LocalCache\\local-packages\\Python313\\site-packages\\numpy\\_core\\_methods.py:145: RuntimeWarning: invalid value encountered in scalar divide\n",
      "  ret = ret.dtype.type(ret / rcount)\n",
      "C:\\Users\\arche\\AppData\\Local\\Packages\\PythonSoftwareFoundation.Python.3.13_qbz5n2kfra8p0\\LocalCache\\local-packages\\Python313\\site-packages\\neurokit2\\signal\\signal_period.py:84: NeuroKitWarning: Too few peaks detected to compute the rate. Returning empty vector.\n",
      "  warn(\n",
      "Processing ECG Files:  21%|█████████████████████████████▌                                                                                                                  | 9262/45152 [06:33<23:57, 24.97it/s]"
     ]
    },
    {
     "name": "stdout",
     "output_type": "stream",
     "text": [
      "Error calculating heart features: integer division or modulo by zero\n"
     ]
    },
    {
     "name": "stderr",
     "output_type": "stream",
     "text": [
      "Processing ECG Files:  21%|█████████████████████████████▋                                                                                                                  | 9292/45152 [06:34<26:32, 22.52it/s]C:\\Users\\arche\\AppData\\Local\\Packages\\PythonSoftwareFoundation.Python.3.13_qbz5n2kfra8p0\\LocalCache\\local-packages\\Python313\\site-packages\\neurokit2\\signal\\signal_period.py:84: NeuroKitWarning: Too few peaks detected to compute the rate. Returning empty vector.\n",
      "  warn(\n",
      "Processing ECG Files:  21%|█████████████████████████████▋                                                                                                                  | 9296/45152 [06:34<24:54, 23.99it/s]"
     ]
    },
    {
     "name": "stdout",
     "output_type": "stream",
     "text": [
      "Error calculating heart features: cannot convert float NaN to integer\n"
     ]
    },
    {
     "name": "stderr",
     "output_type": "stream",
     "text": [
      "Processing ECG Files:  21%|██████████████████████████████▎                                                                                                                 | 9524/45152 [06:44<28:36, 20.76it/s]C:\\Users\\arche\\AppData\\Local\\Packages\\PythonSoftwareFoundation.Python.3.13_qbz5n2kfra8p0\\LocalCache\\local-packages\\Python313\\site-packages\\neurokit2\\signal\\signal_fixpeaks.py:307: RuntimeWarning: invalid value encountered in divide\n",
      "  mrrs /= th2\n",
      "C:\\Users\\arche\\AppData\\Local\\Packages\\PythonSoftwareFoundation.Python.3.13_qbz5n2kfra8p0\\LocalCache\\local-packages\\Python313\\site-packages\\neurokit2\\signal\\signal_period.py:84: NeuroKitWarning: Too few peaks detected to compute the rate. Returning empty vector.\n",
      "  warn(\n",
      "C:\\Users\\arche\\AppData\\Local\\Packages\\PythonSoftwareFoundation.Python.3.13_qbz5n2kfra8p0\\LocalCache\\local-packages\\Python313\\site-packages\\numpy\\_core\\fromnumeric.py:3860: RuntimeWarning: Mean of empty slice.\n",
      "  return _methods._mean(a, axis=axis, dtype=dtype,\n",
      "C:\\Users\\arche\\AppData\\Local\\Packages\\PythonSoftwareFoundation.Python.3.13_qbz5n2kfra8p0\\LocalCache\\local-packages\\Python313\\site-packages\\numpy\\_core\\_methods.py:145: RuntimeWarning: invalid value encountered in scalar divide\n",
      "  ret = ret.dtype.type(ret / rcount)\n",
      "C:\\Users\\arche\\AppData\\Local\\Packages\\PythonSoftwareFoundation.Python.3.13_qbz5n2kfra8p0\\LocalCache\\local-packages\\Python313\\site-packages\\neurokit2\\signal\\signal_period.py:84: NeuroKitWarning: Too few peaks detected to compute the rate. Returning empty vector.\n",
      "  warn(\n",
      "Processing ECG Files:  21%|██████████████████████████████▍                                                                                                                 | 9529/45152 [06:44<23:06, 25.70it/s]"
     ]
    },
    {
     "name": "stdout",
     "output_type": "stream",
     "text": [
      "Error calculating heart features: cannot convert float NaN to integer\n",
      "Error calculating heart features: cannot convert float NaN to integer\n"
     ]
    },
    {
     "name": "stderr",
     "output_type": "stream",
     "text": [
      "Processing ECG Files:  21%|██████████████████████████████▍                                                                                                                 | 9535/45152 [06:44<24:55, 23.82it/s]C:\\Users\\arche\\AppData\\Local\\Packages\\PythonSoftwareFoundation.Python.3.13_qbz5n2kfra8p0\\LocalCache\\local-packages\\Python313\\site-packages\\neurokit2\\signal\\signal_fixpeaks.py:307: RuntimeWarning: invalid value encountered in divide\n",
      "  mrrs /= th2\n",
      "C:\\Users\\arche\\AppData\\Local\\Packages\\PythonSoftwareFoundation.Python.3.13_qbz5n2kfra8p0\\LocalCache\\local-packages\\Python313\\site-packages\\neurokit2\\signal\\signal_period.py:84: NeuroKitWarning: Too few peaks detected to compute the rate. Returning empty vector.\n",
      "  warn(\n",
      "Processing ECG Files:  21%|██████████████████████████████▍                                                                                                                 | 9539/45152 [06:44<23:10, 25.61it/s]"
     ]
    },
    {
     "name": "stdout",
     "output_type": "stream",
     "text": [
      "Error calculating heart features: cannot convert float NaN to integer\n"
     ]
    },
    {
     "name": "stderr",
     "output_type": "stream",
     "text": [
      "Processing ECG Files:  21%|██████████████████████████████▍                                                                                                                 | 9560/45152 [06:45<24:25, 24.29it/s]C:\\Users\\arche\\AppData\\Local\\Packages\\PythonSoftwareFoundation.Python.3.13_qbz5n2kfra8p0\\LocalCache\\local-packages\\Python313\\site-packages\\neurokit2\\signal\\signal_fixpeaks.py:307: RuntimeWarning: invalid value encountered in divide\n",
      "  mrrs /= th2\n",
      "C:\\Users\\arche\\AppData\\Local\\Packages\\PythonSoftwareFoundation.Python.3.13_qbz5n2kfra8p0\\LocalCache\\local-packages\\Python313\\site-packages\\neurokit2\\signal\\signal_period.py:84: NeuroKitWarning: Too few peaks detected to compute the rate. Returning empty vector.\n",
      "  warn(\n",
      "Processing ECG Files:  21%|██████████████████████████████▌                                                                                                                 | 9564/45152 [06:46<22:15, 26.65it/s]"
     ]
    },
    {
     "name": "stdout",
     "output_type": "stream",
     "text": [
      "Error calculating heart features: cannot convert float NaN to integer\n"
     ]
    },
    {
     "name": "stderr",
     "output_type": "stream",
     "text": [
      "Processing ECG Files:  22%|███████████████████████████████                                                                                                                 | 9721/45152 [06:52<23:56, 24.67it/s]C:\\Users\\arche\\AppData\\Local\\Packages\\PythonSoftwareFoundation.Python.3.13_qbz5n2kfra8p0\\LocalCache\\local-packages\\Python313\\site-packages\\neurokit2\\signal\\signal_period.py:84: NeuroKitWarning: Too few peaks detected to compute the rate. Returning empty vector.\n",
      "  warn(\n",
      "Processing ECG Files:  22%|███████████████████████████████                                                                                                                 | 9725/45152 [06:52<22:56, 25.75it/s]"
     ]
    },
    {
     "name": "stdout",
     "output_type": "stream",
     "text": [
      "Error calculating heart features: cannot convert float NaN to integer\n"
     ]
    },
    {
     "name": "stderr",
     "output_type": "stream",
     "text": [
      "Processing ECG Files:  22%|███████████████████████████████▌                                                                                                                | 9893/45152 [07:00<26:03, 22.55it/s]C:\\Users\\arche\\AppData\\Local\\Packages\\PythonSoftwareFoundation.Python.3.13_qbz5n2kfra8p0\\LocalCache\\local-packages\\Python313\\site-packages\\neurokit2\\signal\\signal_period.py:84: NeuroKitWarning: Too few peaks detected to compute the rate. Returning empty vector.\n",
      "  warn(\n",
      "Processing ECG Files:  22%|███████████████████████████████▌                                                                                                                | 9897/45152 [07:00<24:52, 23.61it/s]"
     ]
    },
    {
     "name": "stdout",
     "output_type": "stream",
     "text": [
      "Error calculating heart features: cannot convert float NaN to integer\n"
     ]
    },
    {
     "name": "stderr",
     "output_type": "stream",
     "text": [
      "Processing ECG Files:  22%|███████████████████████████████▌                                                                                                                | 9906/45152 [07:00<23:04, 25.45it/s]C:\\Users\\arche\\AppData\\Local\\Packages\\PythonSoftwareFoundation.Python.3.13_qbz5n2kfra8p0\\LocalCache\\local-packages\\Python313\\site-packages\\numpy\\_core\\fromnumeric.py:3860: RuntimeWarning: Mean of empty slice.\n",
      "  return _methods._mean(a, axis=axis, dtype=dtype,\n",
      "C:\\Users\\arche\\AppData\\Local\\Packages\\PythonSoftwareFoundation.Python.3.13_qbz5n2kfra8p0\\LocalCache\\local-packages\\Python313\\site-packages\\numpy\\_core\\_methods.py:145: RuntimeWarning: invalid value encountered in scalar divide\n",
      "  ret = ret.dtype.type(ret / rcount)\n",
      "C:\\Users\\arche\\AppData\\Local\\Packages\\PythonSoftwareFoundation.Python.3.13_qbz5n2kfra8p0\\LocalCache\\local-packages\\Python313\\site-packages\\neurokit2\\signal\\signal_period.py:84: NeuroKitWarning: Too few peaks detected to compute the rate. Returning empty vector.\n",
      "  warn(\n",
      "Processing ECG Files:  22%|███████████████████████████████▌                                                                                                                | 9910/45152 [07:00<21:23, 27.45it/s]"
     ]
    },
    {
     "name": "stdout",
     "output_type": "stream",
     "text": [
      "Error calculating heart features: cannot convert float NaN to integer\n"
     ]
    },
    {
     "name": "stderr",
     "output_type": "stream",
     "text": [
      "Processing ECG Files:  22%|███████████████████████████████▌                                                                                                                | 9916/45152 [07:00<22:11, 26.46it/s]C:\\Users\\arche\\AppData\\Local\\Packages\\PythonSoftwareFoundation.Python.3.13_qbz5n2kfra8p0\\LocalCache\\local-packages\\Python313\\site-packages\\neurokit2\\signal\\signal_fixpeaks.py:307: RuntimeWarning: invalid value encountered in divide\n",
      "  mrrs /= th2\n",
      "C:\\Users\\arche\\AppData\\Local\\Packages\\PythonSoftwareFoundation.Python.3.13_qbz5n2kfra8p0\\LocalCache\\local-packages\\Python313\\site-packages\\neurokit2\\signal\\signal_period.py:84: NeuroKitWarning: Too few peaks detected to compute the rate. Returning empty vector.\n",
      "  warn(\n",
      "C:\\Users\\arche\\AppData\\Local\\Packages\\PythonSoftwareFoundation.Python.3.13_qbz5n2kfra8p0\\LocalCache\\local-packages\\Python313\\site-packages\\neurokit2\\signal\\signal_period.py:84: NeuroKitWarning: Too few peaks detected to compute the rate. Returning empty vector.\n",
      "  warn(\n",
      "Processing ECG Files:  22%|███████████████████████████████▋                                                                                                                | 9921/45152 [07:01<19:23, 30.28it/s]"
     ]
    },
    {
     "name": "stdout",
     "output_type": "stream",
     "text": [
      "Error calculating heart features: cannot convert float NaN to integer\n",
      "Error calculating heart features: cannot convert float NaN to integer\n"
     ]
    },
    {
     "name": "stderr",
     "output_type": "stream",
     "text": [
      "Processing ECG Files:  22%|███████████████████████████████▋                                                                                                                | 9937/45152 [07:01<22:27, 26.13it/s]C:\\Users\\arche\\AppData\\Local\\Packages\\PythonSoftwareFoundation.Python.3.13_qbz5n2kfra8p0\\LocalCache\\local-packages\\Python313\\site-packages\\neurokit2\\signal\\signal_period.py:84: NeuroKitWarning: Too few peaks detected to compute the rate. Returning empty vector.\n",
      "  warn(\n",
      "Processing ECG Files:  22%|███████████████████████████████▋                                                                                                                | 9944/45152 [07:01<21:03, 27.87it/s]"
     ]
    },
    {
     "name": "stdout",
     "output_type": "stream",
     "text": [
      "Error calculating heart features: cannot convert float NaN to integer\n"
     ]
    },
    {
     "name": "stderr",
     "output_type": "stream",
     "text": [
      "C:\\Users\\arche\\AppData\\Local\\Packages\\PythonSoftwareFoundation.Python.3.13_qbz5n2kfra8p0\\LocalCache\\local-packages\\Python313\\site-packages\\neurokit2\\signal\\signal_period.py:84: NeuroKitWarning: Too few peaks detected to compute the rate. Returning empty vector.\n",
      "  warn(\n",
      "Processing ECG Files:  22%|███████████████████████████████▋                                                                                                                | 9948/45152 [07:01<19:15, 30.46it/s]"
     ]
    },
    {
     "name": "stdout",
     "output_type": "stream",
     "text": [
      "Error calculating heart features: cannot convert float NaN to integer\n"
     ]
    },
    {
     "name": "stderr",
     "output_type": "stream",
     "text": [
      "Processing ECG Files:  22%|███████████████████████████████▊                                                                                                                | 9967/45152 [07:02<23:02, 25.44it/s]C:\\Users\\arche\\AppData\\Local\\Packages\\PythonSoftwareFoundation.Python.3.13_qbz5n2kfra8p0\\LocalCache\\local-packages\\Python313\\site-packages\\numpy\\_core\\fromnumeric.py:3860: RuntimeWarning: Mean of empty slice.\n",
      "  return _methods._mean(a, axis=axis, dtype=dtype,\n",
      "C:\\Users\\arche\\AppData\\Local\\Packages\\PythonSoftwareFoundation.Python.3.13_qbz5n2kfra8p0\\LocalCache\\local-packages\\Python313\\site-packages\\numpy\\_core\\_methods.py:145: RuntimeWarning: invalid value encountered in scalar divide\n",
      "  ret = ret.dtype.type(ret / rcount)\n",
      "C:\\Users\\arche\\AppData\\Local\\Packages\\PythonSoftwareFoundation.Python.3.13_qbz5n2kfra8p0\\LocalCache\\local-packages\\Python313\\site-packages\\neurokit2\\signal\\signal_period.py:84: NeuroKitWarning: Too few peaks detected to compute the rate. Returning empty vector.\n",
      "  warn(\n",
      "C:\\Users\\arche\\AppData\\Local\\Packages\\PythonSoftwareFoundation.Python.3.13_qbz5n2kfra8p0\\LocalCache\\local-packages\\Python313\\site-packages\\numpy\\_core\\fromnumeric.py:3860: RuntimeWarning: Mean of empty slice.\n",
      "  return _methods._mean(a, axis=axis, dtype=dtype,\n",
      "C:\\Users\\arche\\AppData\\Local\\Packages\\PythonSoftwareFoundation.Python.3.13_qbz5n2kfra8p0\\LocalCache\\local-packages\\Python313\\site-packages\\numpy\\_core\\_methods.py:145: RuntimeWarning: invalid value encountered in scalar divide\n",
      "  ret = ret.dtype.type(ret / rcount)\n",
      "C:\\Users\\arche\\AppData\\Local\\Packages\\PythonSoftwareFoundation.Python.3.13_qbz5n2kfra8p0\\LocalCache\\local-packages\\Python313\\site-packages\\neurokit2\\signal\\signal_period.py:84: NeuroKitWarning: Too few peaks detected to compute the rate. Returning empty vector.\n",
      "  warn(\n",
      "Processing ECG Files:  22%|███████████████████████████████▊                                                                                                                | 9972/45152 [07:02<19:21, 30.28it/s]"
     ]
    },
    {
     "name": "stdout",
     "output_type": "stream",
     "text": [
      "Error calculating heart features: integer division or modulo by zero\n",
      "Error calculating heart features: integer division or modulo by zero\n"
     ]
    },
    {
     "name": "stderr",
     "output_type": "stream",
     "text": [
      "Processing ECG Files:  22%|███████████████████████████████▊                                                                                                                | 9976/45152 [07:03<20:16, 28.91it/s]C:\\Users\\arche\\AppData\\Local\\Packages\\PythonSoftwareFoundation.Python.3.13_qbz5n2kfra8p0\\LocalCache\\local-packages\\Python313\\site-packages\\numpy\\_core\\fromnumeric.py:3860: RuntimeWarning: Mean of empty slice.\n",
      "  return _methods._mean(a, axis=axis, dtype=dtype,\n",
      "C:\\Users\\arche\\AppData\\Local\\Packages\\PythonSoftwareFoundation.Python.3.13_qbz5n2kfra8p0\\LocalCache\\local-packages\\Python313\\site-packages\\numpy\\_core\\_methods.py:145: RuntimeWarning: invalid value encountered in scalar divide\n",
      "  ret = ret.dtype.type(ret / rcount)\n",
      "C:\\Users\\arche\\AppData\\Local\\Packages\\PythonSoftwareFoundation.Python.3.13_qbz5n2kfra8p0\\LocalCache\\local-packages\\Python313\\site-packages\\neurokit2\\signal\\signal_period.py:84: NeuroKitWarning: Too few peaks detected to compute the rate. Returning empty vector.\n",
      "  warn(\n",
      "C:\\Users\\arche\\AppData\\Local\\Packages\\PythonSoftwareFoundation.Python.3.13_qbz5n2kfra8p0\\LocalCache\\local-packages\\Python313\\site-packages\\neurokit2\\signal\\signal_period.py:84: NeuroKitWarning: Too few peaks detected to compute the rate. Returning empty vector.\n",
      "  warn(\n",
      "Processing ECG Files:  22%|███████████████████████████████▊                                                                                                                | 9985/45152 [07:03<18:45, 31.24it/s]"
     ]
    },
    {
     "name": "stdout",
     "output_type": "stream",
     "text": [
      "Error calculating heart features: integer division or modulo by zero\n",
      "Error calculating heart features: cannot convert float NaN to integer\n"
     ]
    },
    {
     "name": "stderr",
     "output_type": "stream",
     "text": [
      "C:\\Users\\arche\\AppData\\Local\\Packages\\PythonSoftwareFoundation.Python.3.13_qbz5n2kfra8p0\\LocalCache\\local-packages\\Python313\\site-packages\\neurokit2\\signal\\signal_fixpeaks.py:307: RuntimeWarning: invalid value encountered in divide\n",
      "  mrrs /= th2\n",
      "C:\\Users\\arche\\AppData\\Local\\Packages\\PythonSoftwareFoundation.Python.3.13_qbz5n2kfra8p0\\LocalCache\\local-packages\\Python313\\site-packages\\neurokit2\\signal\\signal_period.py:84: NeuroKitWarning: Too few peaks detected to compute the rate. Returning empty vector.\n",
      "  warn(\n",
      "Processing ECG Files:  22%|███████████████████████████████▊                                                                                                                | 9993/45152 [07:03<19:29, 30.06it/s]"
     ]
    },
    {
     "name": "stdout",
     "output_type": "stream",
     "text": [
      "Error calculating heart features: cannot convert float NaN to integer\n"
     ]
    },
    {
     "name": "stderr",
     "output_type": "stream",
     "text": [
      "C:\\Users\\arche\\AppData\\Local\\Packages\\PythonSoftwareFoundation.Python.3.13_qbz5n2kfra8p0\\LocalCache\\local-packages\\Python313\\site-packages\\neurokit2\\signal\\signal_fixpeaks.py:307: RuntimeWarning: invalid value encountered in divide\n",
      "  mrrs /= th2\n",
      "C:\\Users\\arche\\AppData\\Local\\Packages\\PythonSoftwareFoundation.Python.3.13_qbz5n2kfra8p0\\LocalCache\\local-packages\\Python313\\site-packages\\neurokit2\\signal\\signal_period.py:84: NeuroKitWarning: Too few peaks detected to compute the rate. Returning empty vector.\n",
      "  warn(\n",
      "C:\\Users\\arche\\AppData\\Local\\Packages\\PythonSoftwareFoundation.Python.3.13_qbz5n2kfra8p0\\LocalCache\\local-packages\\Python313\\site-packages\\neurokit2\\signal\\signal_fixpeaks.py:307: RuntimeWarning: invalid value encountered in divide\n",
      "  mrrs /= th2\n",
      "C:\\Users\\arche\\AppData\\Local\\Packages\\PythonSoftwareFoundation.Python.3.13_qbz5n2kfra8p0\\LocalCache\\local-packages\\Python313\\site-packages\\neurokit2\\signal\\signal_period.py:84: NeuroKitWarning: Too few peaks detected to compute the rate. Returning empty vector.\n",
      "  warn(\n",
      "Processing ECG Files:  22%|███████████████████████████████▉                                                                                                                | 9998/45152 [07:03<18:04, 32.42it/s]"
     ]
    },
    {
     "name": "stdout",
     "output_type": "stream",
     "text": [
      "Error calculating heart features: cannot convert float NaN to integer\n",
      "Error calculating heart features: cannot convert float NaN to integer\n"
     ]
    },
    {
     "name": "stderr",
     "output_type": "stream",
     "text": [
      "Processing ECG Files:  22%|███████████████████████████████▊                                                                                                               | 10050/45152 [07:05<25:14, 23.18it/s]C:\\Users\\arche\\AppData\\Local\\Packages\\PythonSoftwareFoundation.Python.3.13_qbz5n2kfra8p0\\LocalCache\\local-packages\\Python313\\site-packages\\neurokit2\\signal\\signal_period.py:84: NeuroKitWarning: Too few peaks detected to compute the rate. Returning empty vector.\n",
      "  warn(\n",
      "C:\\Users\\arche\\AppData\\Local\\Packages\\PythonSoftwareFoundation.Python.3.13_qbz5n2kfra8p0\\LocalCache\\local-packages\\Python313\\site-packages\\numpy\\_core\\fromnumeric.py:3860: RuntimeWarning: Mean of empty slice.\n",
      "  return _methods._mean(a, axis=axis, dtype=dtype,\n",
      "C:\\Users\\arche\\AppData\\Local\\Packages\\PythonSoftwareFoundation.Python.3.13_qbz5n2kfra8p0\\LocalCache\\local-packages\\Python313\\site-packages\\numpy\\_core\\_methods.py:145: RuntimeWarning: invalid value encountered in scalar divide\n",
      "  ret = ret.dtype.type(ret / rcount)\n",
      "C:\\Users\\arche\\AppData\\Local\\Packages\\PythonSoftwareFoundation.Python.3.13_qbz5n2kfra8p0\\LocalCache\\local-packages\\Python313\\site-packages\\neurokit2\\signal\\signal_period.py:84: NeuroKitWarning: Too few peaks detected to compute the rate. Returning empty vector.\n",
      "  warn(\n",
      "Processing ECG Files:  22%|███████████████████████████████▊                                                                                                               | 10055/45152 [07:06<20:59, 27.86it/s]C:\\Users\\arche\\AppData\\Local\\Packages\\PythonSoftwareFoundation.Python.3.13_qbz5n2kfra8p0\\LocalCache\\local-packages\\Python313\\site-packages\\numpy\\_core\\fromnumeric.py:3860: RuntimeWarning: Mean of empty slice.\n",
      "  return _methods._mean(a, axis=axis, dtype=dtype,\n",
      "C:\\Users\\arche\\AppData\\Local\\Packages\\PythonSoftwareFoundation.Python.3.13_qbz5n2kfra8p0\\LocalCache\\local-packages\\Python313\\site-packages\\numpy\\_core\\_methods.py:145: RuntimeWarning: invalid value encountered in scalar divide\n",
      "  ret = ret.dtype.type(ret / rcount)\n",
      "C:\\Users\\arche\\AppData\\Local\\Packages\\PythonSoftwareFoundation.Python.3.13_qbz5n2kfra8p0\\LocalCache\\local-packages\\Python313\\site-packages\\neurokit2\\signal\\signal_period.py:84: NeuroKitWarning: Too few peaks detected to compute the rate. Returning empty vector.\n",
      "  warn(\n",
      "C:\\Users\\arche\\AppData\\Local\\Packages\\PythonSoftwareFoundation.Python.3.13_qbz5n2kfra8p0\\LocalCache\\local-packages\\Python313\\site-packages\\neurokit2\\signal\\signal_period.py:84: NeuroKitWarning: Too few peaks detected to compute the rate. Returning empty vector.\n",
      "  warn(\n",
      "Processing ECG Files:  22%|███████████████████████████████▊                                                                                                               | 10060/45152 [07:06<19:08, 30.55it/s]C:\\Users\\arche\\AppData\\Local\\Packages\\PythonSoftwareFoundation.Python.3.13_qbz5n2kfra8p0\\LocalCache\\local-packages\\Python313\\site-packages\\numpy\\_core\\fromnumeric.py:3860: RuntimeWarning: Mean of empty slice.\n",
      "  return _methods._mean(a, axis=axis, dtype=dtype,\n",
      "C:\\Users\\arche\\AppData\\Local\\Packages\\PythonSoftwareFoundation.Python.3.13_qbz5n2kfra8p0\\LocalCache\\local-packages\\Python313\\site-packages\\numpy\\_core\\_methods.py:145: RuntimeWarning: invalid value encountered in scalar divide\n",
      "  ret = ret.dtype.type(ret / rcount)\n",
      "C:\\Users\\arche\\AppData\\Local\\Packages\\PythonSoftwareFoundation.Python.3.13_qbz5n2kfra8p0\\LocalCache\\local-packages\\Python313\\site-packages\\neurokit2\\signal\\signal_period.py:84: NeuroKitWarning: Too few peaks detected to compute the rate. Returning empty vector.\n",
      "  warn(\n"
     ]
    },
    {
     "name": "stdout",
     "output_type": "stream",
     "text": [
      "Error calculating heart features: cannot convert float NaN to integer\n",
      "Error calculating heart features: integer division or modulo by zero\n",
      "Error calculating heart features: integer division or modulo by zero\n",
      "Error calculating heart features: cannot convert float NaN to integer\n",
      "Error calculating heart features: cannot convert float NaN to integer\n"
     ]
    },
    {
     "name": "stderr",
     "output_type": "stream",
     "text": [
      "Processing ECG Files:  22%|███████████████████████████████▉                                                                                                               | 10068/45152 [07:06<21:36, 27.07it/s]C:\\Users\\arche\\AppData\\Local\\Packages\\PythonSoftwareFoundation.Python.3.13_qbz5n2kfra8p0\\LocalCache\\local-packages\\Python313\\site-packages\\numpy\\_core\\fromnumeric.py:3860: RuntimeWarning: Mean of empty slice.\n",
      "  return _methods._mean(a, axis=axis, dtype=dtype,\n",
      "C:\\Users\\arche\\AppData\\Local\\Packages\\PythonSoftwareFoundation.Python.3.13_qbz5n2kfra8p0\\LocalCache\\local-packages\\Python313\\site-packages\\numpy\\_core\\_methods.py:145: RuntimeWarning: invalid value encountered in scalar divide\n",
      "  ret = ret.dtype.type(ret / rcount)\n",
      "C:\\Users\\arche\\AppData\\Local\\Packages\\PythonSoftwareFoundation.Python.3.13_qbz5n2kfra8p0\\LocalCache\\local-packages\\Python313\\site-packages\\neurokit2\\signal\\signal_period.py:84: NeuroKitWarning: Too few peaks detected to compute the rate. Returning empty vector.\n",
      "  warn(\n",
      "Processing ECG Files:  22%|███████████████████████████████▉                                                                                                               | 10072/45152 [07:06<21:03, 27.77it/s]"
     ]
    },
    {
     "name": "stdout",
     "output_type": "stream",
     "text": [
      "Error calculating heart features: integer division or modulo by zero\n"
     ]
    },
    {
     "name": "stderr",
     "output_type": "stream",
     "text": [
      "Processing ECG Files:  22%|███████████████████████████████▉                                                                                                               | 10075/45152 [07:06<22:26, 26.04it/s]C:\\Users\\arche\\AppData\\Local\\Packages\\PythonSoftwareFoundation.Python.3.13_qbz5n2kfra8p0\\LocalCache\\local-packages\\Python313\\site-packages\\numpy\\_core\\fromnumeric.py:3860: RuntimeWarning: Mean of empty slice.\n",
      "  return _methods._mean(a, axis=axis, dtype=dtype,\n",
      "C:\\Users\\arche\\AppData\\Local\\Packages\\PythonSoftwareFoundation.Python.3.13_qbz5n2kfra8p0\\LocalCache\\local-packages\\Python313\\site-packages\\numpy\\_core\\_methods.py:145: RuntimeWarning: invalid value encountered in scalar divide\n",
      "  ret = ret.dtype.type(ret / rcount)\n",
      "C:\\Users\\arche\\AppData\\Local\\Packages\\PythonSoftwareFoundation.Python.3.13_qbz5n2kfra8p0\\LocalCache\\local-packages\\Python313\\site-packages\\neurokit2\\signal\\signal_period.py:84: NeuroKitWarning: Too few peaks detected to compute the rate. Returning empty vector.\n",
      "  warn(\n",
      "C:\\Users\\arche\\AppData\\Local\\Packages\\PythonSoftwareFoundation.Python.3.13_qbz5n2kfra8p0\\LocalCache\\local-packages\\Python313\\site-packages\\neurokit2\\signal\\signal_period.py:84: NeuroKitWarning: Too few peaks detected to compute the rate. Returning empty vector.\n",
      "  warn(\n",
      "Processing ECG Files:  22%|███████████████████████████████▉                                                                                                               | 10080/45152 [07:06<20:13, 28.91it/s]"
     ]
    },
    {
     "name": "stdout",
     "output_type": "stream",
     "text": [
      "Error calculating heart features: integer division or modulo by zero\n",
      "Error calculating heart features: cannot convert float NaN to integer\n"
     ]
    },
    {
     "name": "stderr",
     "output_type": "stream",
     "text": [
      "Processing ECG Files:  22%|███████████████████████████████▉                                                                                                               | 10102/45152 [07:07<24:17, 24.04it/s]C:\\Users\\arche\\AppData\\Local\\Packages\\PythonSoftwareFoundation.Python.3.13_qbz5n2kfra8p0\\LocalCache\\local-packages\\Python313\\site-packages\\neurokit2\\signal\\signal_period.py:84: NeuroKitWarning: Too few peaks detected to compute the rate. Returning empty vector.\n",
      "  warn(\n",
      "Processing ECG Files:  22%|████████████████████████████████                                                                                                               | 10106/45152 [07:07<22:03, 26.49it/s]"
     ]
    },
    {
     "name": "stdout",
     "output_type": "stream",
     "text": [
      "Error calculating heart features: cannot convert float NaN to integer\n"
     ]
    },
    {
     "name": "stderr",
     "output_type": "stream",
     "text": [
      "Processing ECG Files:  22%|████████████████████████████████                                                                                                               | 10109/45152 [07:08<22:58, 25.42it/s]C:\\Users\\arche\\AppData\\Local\\Packages\\PythonSoftwareFoundation.Python.3.13_qbz5n2kfra8p0\\LocalCache\\local-packages\\Python313\\site-packages\\neurokit2\\signal\\signal_period.py:84: NeuroKitWarning: Too few peaks detected to compute the rate. Returning empty vector.\n",
      "  warn(\n",
      "Processing ECG Files:  22%|████████████████████████████████                                                                                                               | 10113/45152 [07:08<22:22, 26.10it/s]"
     ]
    },
    {
     "name": "stdout",
     "output_type": "stream",
     "text": [
      "Error calculating heart features: cannot convert float NaN to integer\n"
     ]
    },
    {
     "name": "stderr",
     "output_type": "stream",
     "text": [
      "Processing ECG Files:  22%|████████████████████████████████                                                                                                               | 10140/45152 [07:09<24:59, 23.34it/s]C:\\Users\\arche\\AppData\\Local\\Packages\\PythonSoftwareFoundation.Python.3.13_qbz5n2kfra8p0\\LocalCache\\local-packages\\Python313\\site-packages\\neurokit2\\signal\\signal_period.py:84: NeuroKitWarning: Too few peaks detected to compute the rate. Returning empty vector.\n",
      "  warn(\n",
      "Processing ECG Files:  22%|████████████████████████████████▏                                                                                                              | 10144/45152 [07:09<21:58, 26.55it/s]"
     ]
    },
    {
     "name": "stdout",
     "output_type": "stream",
     "text": [
      "Error calculating heart features: cannot convert float NaN to integer\n"
     ]
    },
    {
     "name": "stderr",
     "output_type": "stream",
     "text": [
      "Processing ECG Files:  22%|████████████████████████████████▏                                                                                                              | 10153/45152 [07:09<21:27, 27.18it/s]C:\\Users\\arche\\AppData\\Local\\Packages\\PythonSoftwareFoundation.Python.3.13_qbz5n2kfra8p0\\LocalCache\\local-packages\\Python313\\site-packages\\neurokit2\\signal\\signal_period.py:84: NeuroKitWarning: Too few peaks detected to compute the rate. Returning empty vector.\n",
      "  warn(\n",
      "Processing ECG Files:  22%|████████████████████████████████▏                                                                                                              | 10157/45152 [07:10<20:21, 28.65it/s]"
     ]
    },
    {
     "name": "stdout",
     "output_type": "stream",
     "text": [
      "Error calculating heart features: cannot convert float NaN to integer\n"
     ]
    },
    {
     "name": "stderr",
     "output_type": "stream",
     "text": [
      "Processing ECG Files:  23%|████████████████████████████████▎                                                                                                              | 10208/45152 [07:12<24:58, 23.32it/s]C:\\Users\\arche\\AppData\\Local\\Packages\\PythonSoftwareFoundation.Python.3.13_qbz5n2kfra8p0\\LocalCache\\local-packages\\Python313\\site-packages\\numpy\\_core\\fromnumeric.py:3860: RuntimeWarning: Mean of empty slice.\n",
      "  return _methods._mean(a, axis=axis, dtype=dtype,\n",
      "C:\\Users\\arche\\AppData\\Local\\Packages\\PythonSoftwareFoundation.Python.3.13_qbz5n2kfra8p0\\LocalCache\\local-packages\\Python313\\site-packages\\numpy\\_core\\_methods.py:145: RuntimeWarning: invalid value encountered in scalar divide\n",
      "  ret = ret.dtype.type(ret / rcount)\n",
      "C:\\Users\\arche\\AppData\\Local\\Packages\\PythonSoftwareFoundation.Python.3.13_qbz5n2kfra8p0\\LocalCache\\local-packages\\Python313\\site-packages\\neurokit2\\signal\\signal_period.py:84: NeuroKitWarning: Too few peaks detected to compute the rate. Returning empty vector.\n",
      "  warn(\n",
      "Processing ECG Files:  23%|████████████████████████████████▎                                                                                                              | 10212/45152 [07:12<22:02, 26.42it/s]"
     ]
    },
    {
     "name": "stdout",
     "output_type": "stream",
     "text": [
      "Error calculating heart features: cannot convert float NaN to integer\n"
     ]
    },
    {
     "name": "stderr",
     "output_type": "stream",
     "text": [
      "Processing ECG Files:  23%|████████████████████████████████▎                                                                                                              | 10215/45152 [07:12<22:51, 25.47it/s]C:\\Users\\arche\\AppData\\Local\\Packages\\PythonSoftwareFoundation.Python.3.13_qbz5n2kfra8p0\\LocalCache\\local-packages\\Python313\\site-packages\\neurokit2\\signal\\signal_period.py:84: NeuroKitWarning: Too few peaks detected to compute the rate. Returning empty vector.\n",
      "  warn(\n",
      "Processing ECG Files:  23%|████████████████████████████████▎                                                                                                              | 10222/45152 [07:12<21:44, 26.77it/s]C:\\Users\\arche\\AppData\\Local\\Packages\\PythonSoftwareFoundation.Python.3.13_qbz5n2kfra8p0\\LocalCache\\local-packages\\Python313\\site-packages\\neurokit2\\signal\\signal_fixpeaks.py:307: RuntimeWarning: invalid value encountered in divide\n",
      "  mrrs /= th2\n",
      "C:\\Users\\arche\\AppData\\Local\\Packages\\PythonSoftwareFoundation.Python.3.13_qbz5n2kfra8p0\\LocalCache\\local-packages\\Python313\\site-packages\\neurokit2\\signal\\signal_period.py:84: NeuroKitWarning: Too few peaks detected to compute the rate. Returning empty vector.\n",
      "  warn(\n"
     ]
    },
    {
     "name": "stdout",
     "output_type": "stream",
     "text": [
      "Error calculating heart features: cannot convert float NaN to integer\n",
      "Error calculating heart features: cannot convert float NaN to integer\n"
     ]
    },
    {
     "name": "stderr",
     "output_type": "stream",
     "text": [
      "Processing ECG Files:  23%|████████████████████████████████▍                                                                                                              | 10232/45152 [07:13<22:16, 26.12it/s]C:\\Users\\arche\\AppData\\Local\\Packages\\PythonSoftwareFoundation.Python.3.13_qbz5n2kfra8p0\\LocalCache\\local-packages\\Python313\\site-packages\\neurokit2\\signal\\signal_period.py:84: NeuroKitWarning: Too few peaks detected to compute the rate. Returning empty vector.\n",
      "  warn(\n",
      "Processing ECG Files:  23%|████████████████████████████████▍                                                                                                              | 10237/45152 [07:13<20:02, 29.03it/s]"
     ]
    },
    {
     "name": "stdout",
     "output_type": "stream",
     "text": [
      "Error calculating heart features: cannot convert float NaN to integer\n"
     ]
    },
    {
     "name": "stderr",
     "output_type": "stream",
     "text": [
      "Processing ECG Files:  23%|████████████████████████████████▍                                                                                                              | 10243/45152 [07:13<20:24, 28.50it/s]C:\\Users\\arche\\AppData\\Local\\Packages\\PythonSoftwareFoundation.Python.3.13_qbz5n2kfra8p0\\LocalCache\\local-packages\\Python313\\site-packages\\neurokit2\\signal\\signal_period.py:84: NeuroKitWarning: Too few peaks detected to compute the rate. Returning empty vector.\n",
      "  warn(\n",
      "Processing ECG Files:  23%|████████████████████████████████▍                                                                                                              | 10247/45152 [07:13<20:16, 28.69it/s]C:\\Users\\arche\\AppData\\Local\\Packages\\PythonSoftwareFoundation.Python.3.13_qbz5n2kfra8p0\\LocalCache\\local-packages\\Python313\\site-packages\\neurokit2\\signal\\signal_period.py:84: NeuroKitWarning: Too few peaks detected to compute the rate. Returning empty vector.\n",
      "  warn(\n",
      "Processing ECG Files:  23%|████████████████████████████████▍                                                                                                              | 10251/45152 [07:13<20:01, 29.04it/s]"
     ]
    },
    {
     "name": "stdout",
     "output_type": "stream",
     "text": [
      "Error calculating heart features: cannot convert float NaN to integer\n",
      "Error calculating heart features: cannot convert float NaN to integer\n"
     ]
    },
    {
     "name": "stderr",
     "output_type": "stream",
     "text": [
      "Processing ECG Files:  23%|████████████████████████████████▋                                                                                                              | 10302/45152 [07:15<23:00, 25.24it/s]C:\\Users\\arche\\AppData\\Local\\Packages\\PythonSoftwareFoundation.Python.3.13_qbz5n2kfra8p0\\LocalCache\\local-packages\\Python313\\site-packages\\neurokit2\\signal\\signal_fixpeaks.py:307: RuntimeWarning: invalid value encountered in divide\n",
      "  mrrs /= th2\n",
      "C:\\Users\\arche\\AppData\\Local\\Packages\\PythonSoftwareFoundation.Python.3.13_qbz5n2kfra8p0\\LocalCache\\local-packages\\Python313\\site-packages\\neurokit2\\signal\\signal_period.py:84: NeuroKitWarning: Too few peaks detected to compute the rate. Returning empty vector.\n",
      "  warn(\n",
      "Processing ECG Files:  23%|████████████████████████████████▋                                                                                                              | 10306/45152 [07:15<21:48, 26.62it/s]"
     ]
    },
    {
     "name": "stdout",
     "output_type": "stream",
     "text": [
      "Error calculating heart features: cannot convert float NaN to integer\n"
     ]
    },
    {
     "name": "stderr",
     "output_type": "stream",
     "text": [
      "Processing ECG Files:  23%|████████████████████████████████▋                                                                                                              | 10327/45152 [07:16<24:55, 23.28it/s]C:\\Users\\arche\\AppData\\Local\\Packages\\PythonSoftwareFoundation.Python.3.13_qbz5n2kfra8p0\\LocalCache\\local-packages\\Python313\\site-packages\\numpy\\_core\\fromnumeric.py:3860: RuntimeWarning: Mean of empty slice.\n",
      "  return _methods._mean(a, axis=axis, dtype=dtype,\n",
      "C:\\Users\\arche\\AppData\\Local\\Packages\\PythonSoftwareFoundation.Python.3.13_qbz5n2kfra8p0\\LocalCache\\local-packages\\Python313\\site-packages\\numpy\\_core\\_methods.py:145: RuntimeWarning: invalid value encountered in scalar divide\n",
      "  ret = ret.dtype.type(ret / rcount)\n",
      "C:\\Users\\arche\\AppData\\Local\\Packages\\PythonSoftwareFoundation.Python.3.13_qbz5n2kfra8p0\\LocalCache\\local-packages\\Python313\\site-packages\\neurokit2\\signal\\signal_period.py:84: NeuroKitWarning: Too few peaks detected to compute the rate. Returning empty vector.\n",
      "  warn(\n",
      "Processing ECG Files:  23%|████████████████████████████████▋                                                                                                              | 10331/45152 [07:16<23:19, 24.89it/s]"
     ]
    },
    {
     "name": "stdout",
     "output_type": "stream",
     "text": [
      "Error calculating heart features: integer division or modulo by zero\n"
     ]
    },
    {
     "name": "stderr",
     "output_type": "stream",
     "text": [
      "Processing ECG Files:  23%|████████████████████████████████▉                                                                                                              | 10415/45152 [07:20<23:57, 24.16it/s]C:\\Users\\arche\\AppData\\Local\\Packages\\PythonSoftwareFoundation.Python.3.13_qbz5n2kfra8p0\\LocalCache\\local-packages\\Python313\\site-packages\\neurokit2\\signal\\signal_period.py:84: NeuroKitWarning: Too few peaks detected to compute the rate. Returning empty vector.\n",
      "  warn(\n",
      "Processing ECG Files:  23%|████████████████████████████████▉                                                                                                              | 10419/45152 [07:20<21:59, 26.32it/s]C:\\Users\\arche\\AppData\\Local\\Packages\\PythonSoftwareFoundation.Python.3.13_qbz5n2kfra8p0\\LocalCache\\local-packages\\Python313\\site-packages\\neurokit2\\signal\\signal_period.py:84: NeuroKitWarning: Too few peaks detected to compute the rate. Returning empty vector.\n",
      "  warn(\n",
      "Processing ECG Files:  23%|█████████████████████████████████                                                                                                              | 10422/45152 [07:20<21:26, 26.99it/s]"
     ]
    },
    {
     "name": "stdout",
     "output_type": "stream",
     "text": [
      "Error calculating heart features: cannot convert float NaN to integer\n",
      "Error calculating heart features: cannot convert float NaN to integer\n"
     ]
    },
    {
     "name": "stderr",
     "output_type": "stream",
     "text": [
      "Processing ECG Files:  23%|█████████████████████████████████▍                                                                                                             | 10572/45152 [07:27<25:07, 22.94it/s]C:\\Users\\arche\\AppData\\Local\\Packages\\PythonSoftwareFoundation.Python.3.13_qbz5n2kfra8p0\\LocalCache\\local-packages\\Python313\\site-packages\\neurokit2\\signal\\signal_period.py:84: NeuroKitWarning: Too few peaks detected to compute the rate. Returning empty vector.\n",
      "  warn(\n",
      "Processing ECG Files:  23%|█████████████████████████████████▍                                                                                                             | 10576/45152 [07:27<22:43, 25.37it/s]"
     ]
    },
    {
     "name": "stdout",
     "output_type": "stream",
     "text": [
      "Error calculating heart features: cannot convert float NaN to integer\n"
     ]
    },
    {
     "name": "stderr",
     "output_type": "stream",
     "text": [
      "Processing ECG Files:  23%|█████████████████████████████████▌                                                                                                             | 10594/45152 [07:27<23:34, 24.43it/s]C:\\Users\\arche\\AppData\\Local\\Packages\\PythonSoftwareFoundation.Python.3.13_qbz5n2kfra8p0\\LocalCache\\local-packages\\Python313\\site-packages\\neurokit2\\signal\\signal_period.py:84: NeuroKitWarning: Too few peaks detected to compute the rate. Returning empty vector.\n",
      "  warn(\n",
      "Processing ECG Files:  23%|█████████████████████████████████▌                                                                                                             | 10598/45152 [07:27<21:58, 26.21it/s]"
     ]
    },
    {
     "name": "stdout",
     "output_type": "stream",
     "text": [
      "Error calculating heart features: cannot convert float NaN to integer\n"
     ]
    },
    {
     "name": "stderr",
     "output_type": "stream",
     "text": [
      "Processing ECG Files:  24%|██████████████████████████████████▌                                                                                                            | 10931/45152 [07:42<27:57, 20.40it/s]C:\\Users\\arche\\AppData\\Local\\Packages\\PythonSoftwareFoundation.Python.3.13_qbz5n2kfra8p0\\LocalCache\\local-packages\\Python313\\site-packages\\numpy\\_core\\fromnumeric.py:3860: RuntimeWarning: Mean of empty slice.\n",
      "  return _methods._mean(a, axis=axis, dtype=dtype,\n",
      "C:\\Users\\arche\\AppData\\Local\\Packages\\PythonSoftwareFoundation.Python.3.13_qbz5n2kfra8p0\\LocalCache\\local-packages\\Python313\\site-packages\\numpy\\_core\\_methods.py:145: RuntimeWarning: invalid value encountered in scalar divide\n",
      "  ret = ret.dtype.type(ret / rcount)\n",
      "C:\\Users\\arche\\AppData\\Local\\Packages\\PythonSoftwareFoundation.Python.3.13_qbz5n2kfra8p0\\LocalCache\\local-packages\\Python313\\site-packages\\neurokit2\\signal\\signal_period.py:84: NeuroKitWarning: Too few peaks detected to compute the rate. Returning empty vector.\n",
      "  warn(\n",
      "Processing ECG Files:  24%|██████████████████████████████████▋                                                                                                            | 10935/45152 [07:42<25:18, 22.54it/s]"
     ]
    },
    {
     "name": "stdout",
     "output_type": "stream",
     "text": [
      "Error calculating heart features: cannot convert float NaN to integer\n"
     ]
    },
    {
     "name": "stderr",
     "output_type": "stream",
     "text": [
      "Processing ECG Files:  25%|███████████████████████████████████▏                                                                                                           | 11103/45152 [07:50<25:20, 22.39it/s]C:\\Users\\arche\\AppData\\Local\\Packages\\PythonSoftwareFoundation.Python.3.13_qbz5n2kfra8p0\\LocalCache\\local-packages\\Python313\\site-packages\\numpy\\_core\\fromnumeric.py:3860: RuntimeWarning: Mean of empty slice.\n",
      "  return _methods._mean(a, axis=axis, dtype=dtype,\n",
      "C:\\Users\\arche\\AppData\\Local\\Packages\\PythonSoftwareFoundation.Python.3.13_qbz5n2kfra8p0\\LocalCache\\local-packages\\Python313\\site-packages\\numpy\\_core\\_methods.py:145: RuntimeWarning: invalid value encountered in scalar divide\n",
      "  ret = ret.dtype.type(ret / rcount)\n",
      "C:\\Users\\arche\\AppData\\Local\\Packages\\PythonSoftwareFoundation.Python.3.13_qbz5n2kfra8p0\\LocalCache\\local-packages\\Python313\\site-packages\\neurokit2\\signal\\signal_period.py:84: NeuroKitWarning: Too few peaks detected to compute the rate. Returning empty vector.\n",
      "  warn(\n",
      "C:\\Users\\arche\\AppData\\Local\\Packages\\PythonSoftwareFoundation.Python.3.13_qbz5n2kfra8p0\\LocalCache\\local-packages\\Python313\\site-packages\\numpy\\_core\\fromnumeric.py:3860: RuntimeWarning: Mean of empty slice.\n",
      "  return _methods._mean(a, axis=axis, dtype=dtype,\n",
      "C:\\Users\\arche\\AppData\\Local\\Packages\\PythonSoftwareFoundation.Python.3.13_qbz5n2kfra8p0\\LocalCache\\local-packages\\Python313\\site-packages\\numpy\\_core\\_methods.py:145: RuntimeWarning: invalid value encountered in scalar divide\n",
      "  ret = ret.dtype.type(ret / rcount)\n",
      "C:\\Users\\arche\\AppData\\Local\\Packages\\PythonSoftwareFoundation.Python.3.13_qbz5n2kfra8p0\\LocalCache\\local-packages\\Python313\\site-packages\\neurokit2\\signal\\signal_period.py:84: NeuroKitWarning: Too few peaks detected to compute the rate. Returning empty vector.\n",
      "  warn(\n",
      "Processing ECG Files:  25%|███████████████████████████████████▏                                                                                                           | 11111/45152 [07:50<22:43, 24.96it/s]"
     ]
    },
    {
     "name": "stdout",
     "output_type": "stream",
     "text": [
      "Error calculating heart features: cannot convert float NaN to integer\n",
      "Error calculating heart features: cannot convert float NaN to integer\n"
     ]
    },
    {
     "name": "stderr",
     "output_type": "stream",
     "text": [
      "Processing ECG Files:  25%|███████████████████████████████████▏                                                                                                           | 11117/45152 [07:50<23:04, 24.59it/s]C:\\Users\\arche\\AppData\\Local\\Packages\\PythonSoftwareFoundation.Python.3.13_qbz5n2kfra8p0\\LocalCache\\local-packages\\Python313\\site-packages\\neurokit2\\signal\\signal_period.py:84: NeuroKitWarning: Too few peaks detected to compute the rate. Returning empty vector.\n",
      "  warn(\n",
      "C:\\Users\\arche\\AppData\\Local\\Packages\\PythonSoftwareFoundation.Python.3.13_qbz5n2kfra8p0\\LocalCache\\local-packages\\Python313\\site-packages\\numpy\\_core\\fromnumeric.py:3860: RuntimeWarning: Mean of empty slice.\n",
      "  return _methods._mean(a, axis=axis, dtype=dtype,\n",
      "C:\\Users\\arche\\AppData\\Local\\Packages\\PythonSoftwareFoundation.Python.3.13_qbz5n2kfra8p0\\LocalCache\\local-packages\\Python313\\site-packages\\numpy\\_core\\_methods.py:145: RuntimeWarning: invalid value encountered in scalar divide\n",
      "  ret = ret.dtype.type(ret / rcount)\n",
      "C:\\Users\\arche\\AppData\\Local\\Packages\\PythonSoftwareFoundation.Python.3.13_qbz5n2kfra8p0\\LocalCache\\local-packages\\Python313\\site-packages\\neurokit2\\signal\\signal_period.py:84: NeuroKitWarning: Too few peaks detected to compute the rate. Returning empty vector.\n",
      "  warn(\n",
      "Processing ECG Files:  25%|███████████████████████████████████▏                                                                                                           | 11122/45152 [07:51<18:51, 30.09it/s]"
     ]
    },
    {
     "name": "stdout",
     "output_type": "stream",
     "text": [
      "Error calculating heart features: cannot convert float NaN to integer\n",
      "Error calculating heart features: cannot convert float NaN to integer\n"
     ]
    },
    {
     "name": "stderr",
     "output_type": "stream",
     "text": [
      "Processing ECG Files:  25%|████████████████████████████████████▏                                                                                                          | 11414/45152 [08:03<24:14, 23.19it/s]C:\\Users\\arche\\AppData\\Local\\Packages\\PythonSoftwareFoundation.Python.3.13_qbz5n2kfra8p0\\LocalCache\\local-packages\\Python313\\site-packages\\neurokit2\\signal\\signal_period.py:84: NeuroKitWarning: Too few peaks detected to compute the rate. Returning empty vector.\n",
      "  warn(\n",
      "Processing ECG Files:  25%|████████████████████████████████████▏                                                                                                          | 11417/45152 [08:03<22:50, 24.62it/s]"
     ]
    },
    {
     "name": "stdout",
     "output_type": "stream",
     "text": [
      "Error calculating heart features: cannot convert float NaN to integer\n"
     ]
    },
    {
     "name": "stderr",
     "output_type": "stream",
     "text": [
      "Processing ECG Files:  26%|████████████████████████████████████▍                                                                                                          | 11516/45152 [08:07<22:31, 24.88it/s]C:\\Users\\arche\\AppData\\Local\\Packages\\PythonSoftwareFoundation.Python.3.13_qbz5n2kfra8p0\\LocalCache\\local-packages\\Python313\\site-packages\\neurokit2\\signal\\signal_period.py:84: NeuroKitWarning: Too few peaks detected to compute the rate. Returning empty vector.\n",
      "  warn(\n",
      "Processing ECG Files:  26%|████████████████████████████████████▍                                                                                                          | 11520/45152 [08:07<21:07, 26.53it/s]"
     ]
    },
    {
     "name": "stdout",
     "output_type": "stream",
     "text": [
      "Error calculating heart features: cannot convert float NaN to integer\n"
     ]
    },
    {
     "name": "stderr",
     "output_type": "stream",
     "text": [
      "Processing ECG Files:  27%|██████████████████████████████████████                                                                                                         | 12012/45152 [08:28<26:14, 21.05it/s]C:\\Users\\arche\\AppData\\Local\\Packages\\PythonSoftwareFoundation.Python.3.13_qbz5n2kfra8p0\\LocalCache\\local-packages\\Python313\\site-packages\\neurokit2\\signal\\signal_period.py:84: NeuroKitWarning: Too few peaks detected to compute the rate. Returning empty vector.\n",
      "  warn(\n",
      "Processing ECG Files:  27%|██████████████████████████████████████                                                                                                         | 12019/45152 [08:29<22:57, 24.05it/s]"
     ]
    },
    {
     "name": "stdout",
     "output_type": "stream",
     "text": [
      "Error calculating heart features: cannot convert float NaN to integer\n"
     ]
    },
    {
     "name": "stderr",
     "output_type": "stream",
     "text": [
      "Processing ECG Files:  27%|██████████████████████████████████████▏                                                                                                        | 12058/45152 [08:30<21:42, 25.41it/s]C:\\Users\\arche\\AppData\\Local\\Packages\\PythonSoftwareFoundation.Python.3.13_qbz5n2kfra8p0\\LocalCache\\local-packages\\Python313\\site-packages\\neurokit2\\signal\\signal_fixpeaks.py:307: RuntimeWarning: invalid value encountered in divide\n",
      "  mrrs /= th2\n",
      "C:\\Users\\arche\\AppData\\Local\\Packages\\PythonSoftwareFoundation.Python.3.13_qbz5n2kfra8p0\\LocalCache\\local-packages\\Python313\\site-packages\\neurokit2\\signal\\signal_period.py:84: NeuroKitWarning: Too few peaks detected to compute the rate. Returning empty vector.\n",
      "  warn(\n",
      "Processing ECG Files:  27%|██████████████████████████████████████▏                                                                                                        | 12065/45152 [08:30<20:32, 26.84it/s]"
     ]
    },
    {
     "name": "stdout",
     "output_type": "stream",
     "text": [
      "Error calculating heart features: cannot convert float NaN to integer\n"
     ]
    },
    {
     "name": "stderr",
     "output_type": "stream",
     "text": [
      "Processing ECG Files:  27%|██████████████████████████████████████▊                                                                                                        | 12248/45152 [08:38<22:41, 24.17it/s]C:\\Users\\arche\\AppData\\Local\\Packages\\PythonSoftwareFoundation.Python.3.13_qbz5n2kfra8p0\\LocalCache\\local-packages\\Python313\\site-packages\\neurokit2\\signal\\signal_period.py:84: NeuroKitWarning: Too few peaks detected to compute the rate. Returning empty vector.\n",
      "  warn(\n",
      "Processing ECG Files:  27%|██████████████████████████████████████▊                                                                                                        | 12252/45152 [08:38<20:26, 26.83it/s]"
     ]
    },
    {
     "name": "stdout",
     "output_type": "stream",
     "text": [
      "Error calculating heart features: cannot convert float NaN to integer\n"
     ]
    },
    {
     "name": "stderr",
     "output_type": "stream",
     "text": [
      "Processing ECG Files:  27%|██████████████████████████████████████▊                                                                                                        | 12261/45152 [08:38<22:47, 24.04it/s]C:\\Users\\arche\\AppData\\Local\\Packages\\PythonSoftwareFoundation.Python.3.13_qbz5n2kfra8p0\\LocalCache\\local-packages\\Python313\\site-packages\\neurokit2\\signal\\signal_period.py:84: NeuroKitWarning: Too few peaks detected to compute the rate. Returning empty vector.\n",
      "  warn(\n",
      "Processing ECG Files:  27%|██████████████████████████████████████▊                                                                                                        | 12265/45152 [08:39<20:40, 26.50it/s]"
     ]
    },
    {
     "name": "stdout",
     "output_type": "stream",
     "text": [
      "Error calculating heart features: cannot convert float NaN to integer\n"
     ]
    },
    {
     "name": "stderr",
     "output_type": "stream",
     "text": [
      "Processing ECG Files:  28%|███████████████████████████████████████▎                                                                                                       | 12431/45152 [08:46<22:09, 24.61it/s]C:\\Users\\arche\\AppData\\Local\\Packages\\PythonSoftwareFoundation.Python.3.13_qbz5n2kfra8p0\\LocalCache\\local-packages\\Python313\\site-packages\\numpy\\_core\\fromnumeric.py:3860: RuntimeWarning: Mean of empty slice.\n",
      "  return _methods._mean(a, axis=axis, dtype=dtype,\n",
      "C:\\Users\\arche\\AppData\\Local\\Packages\\PythonSoftwareFoundation.Python.3.13_qbz5n2kfra8p0\\LocalCache\\local-packages\\Python313\\site-packages\\numpy\\_core\\_methods.py:145: RuntimeWarning: invalid value encountered in scalar divide\n",
      "  ret = ret.dtype.type(ret / rcount)\n",
      "C:\\Users\\arche\\AppData\\Local\\Packages\\PythonSoftwareFoundation.Python.3.13_qbz5n2kfra8p0\\LocalCache\\local-packages\\Python313\\site-packages\\neurokit2\\signal\\signal_period.py:84: NeuroKitWarning: Too few peaks detected to compute the rate. Returning empty vector.\n",
      "  warn(\n",
      "Processing ECG Files:  28%|███████████████████████████████████████▍                                                                                                       | 12434/45152 [08:46<21:50, 24.96it/s]"
     ]
    },
    {
     "name": "stdout",
     "output_type": "stream",
     "text": [
      "Error calculating heart features: integer division or modulo by zero\n"
     ]
    },
    {
     "name": "stderr",
     "output_type": "stream",
     "text": [
      "Processing ECG Files:  28%|███████████████████████████████████████▉                                                                                                       | 12614/45152 [08:53<21:34, 25.14it/s]C:\\Users\\arche\\AppData\\Local\\Packages\\PythonSoftwareFoundation.Python.3.13_qbz5n2kfra8p0\\LocalCache\\local-packages\\Python313\\site-packages\\neurokit2\\signal\\signal_fixpeaks.py:307: RuntimeWarning: invalid value encountered in divide\n",
      "  mrrs /= th2\n",
      "C:\\Users\\arche\\AppData\\Local\\Packages\\PythonSoftwareFoundation.Python.3.13_qbz5n2kfra8p0\\LocalCache\\local-packages\\Python313\\site-packages\\neurokit2\\signal\\signal_period.py:84: NeuroKitWarning: Too few peaks detected to compute the rate. Returning empty vector.\n",
      "  warn(\n",
      "Processing ECG Files:  28%|███████████████████████████████████████▉                                                                                                       | 12618/45152 [08:53<20:23, 26.58it/s]"
     ]
    },
    {
     "name": "stdout",
     "output_type": "stream",
     "text": [
      "Error calculating heart features: cannot convert float NaN to integer\n"
     ]
    },
    {
     "name": "stderr",
     "output_type": "stream",
     "text": [
      "Processing ECG Files:  28%|████████████████████████████████████████▋                                                                                                      | 12852/45152 [09:03<23:04, 23.34it/s]C:\\Users\\arche\\AppData\\Local\\Packages\\PythonSoftwareFoundation.Python.3.13_qbz5n2kfra8p0\\LocalCache\\local-packages\\Python313\\site-packages\\neurokit2\\signal\\signal_fixpeaks.py:307: RuntimeWarning: invalid value encountered in divide\n",
      "  mrrs /= th2\n",
      "C:\\Users\\arche\\AppData\\Local\\Packages\\PythonSoftwareFoundation.Python.3.13_qbz5n2kfra8p0\\LocalCache\\local-packages\\Python313\\site-packages\\neurokit2\\signal\\signal_period.py:84: NeuroKitWarning: Too few peaks detected to compute the rate. Returning empty vector.\n",
      "  warn(\n",
      "Processing ECG Files:  28%|████████████████████████████████████████▋                                                                                                      | 12859/45152 [09:03<21:05, 25.52it/s]"
     ]
    },
    {
     "name": "stdout",
     "output_type": "stream",
     "text": [
      "Error calculating heart features: cannot convert float NaN to integer\n"
     ]
    },
    {
     "name": "stderr",
     "output_type": "stream",
     "text": [
      "Processing ECG Files:  29%|█████████████████████████████████████████▌                                                                                                     | 13126/45152 [09:14<21:52, 24.41it/s]C:\\Users\\arche\\AppData\\Local\\Packages\\PythonSoftwareFoundation.Python.3.13_qbz5n2kfra8p0\\LocalCache\\local-packages\\Python313\\site-packages\\neurokit2\\signal\\signal_fixpeaks.py:307: RuntimeWarning: invalid value encountered in divide\n",
      "  mrrs /= th2\n",
      "C:\\Users\\arche\\AppData\\Local\\Packages\\PythonSoftwareFoundation.Python.3.13_qbz5n2kfra8p0\\LocalCache\\local-packages\\Python313\\site-packages\\neurokit2\\signal\\signal_period.py:84: NeuroKitWarning: Too few peaks detected to compute the rate. Returning empty vector.\n",
      "  warn(\n",
      "Processing ECG Files:  29%|█████████████████████████████████████████▌                                                                                                     | 13133/45152 [09:15<21:18, 25.05it/s]"
     ]
    },
    {
     "name": "stdout",
     "output_type": "stream",
     "text": [
      "Error calculating heart features: cannot convert float NaN to integer\n"
     ]
    },
    {
     "name": "stderr",
     "output_type": "stream",
     "text": [
      "Processing ECG Files:  29%|█████████████████████████████████████████▋                                                                                                     | 13163/45152 [09:16<23:38, 22.55it/s]C:\\Users\\arche\\AppData\\Local\\Packages\\PythonSoftwareFoundation.Python.3.13_qbz5n2kfra8p0\\LocalCache\\local-packages\\Python313\\site-packages\\neurokit2\\signal\\signal_fixpeaks.py:307: RuntimeWarning: invalid value encountered in divide\n",
      "  mrrs /= th2\n",
      "C:\\Users\\arche\\AppData\\Local\\Packages\\PythonSoftwareFoundation.Python.3.13_qbz5n2kfra8p0\\LocalCache\\local-packages\\Python313\\site-packages\\neurokit2\\signal\\signal_period.py:84: NeuroKitWarning: Too few peaks detected to compute the rate. Returning empty vector.\n",
      "  warn(\n",
      "Processing ECG Files:  29%|█████████████████████████████████████████▋                                                                                                     | 13170/45152 [09:16<21:06, 25.25it/s]"
     ]
    },
    {
     "name": "stdout",
     "output_type": "stream",
     "text": [
      "Error calculating heart features: cannot convert float NaN to integer\n"
     ]
    },
    {
     "name": "stderr",
     "output_type": "stream",
     "text": [
      "Processing ECG Files:  30%|██████████████████████████████████████████▎                                                                                                    | 13377/45152 [09:25<24:26, 21.67it/s]C:\\Users\\arche\\AppData\\Local\\Packages\\PythonSoftwareFoundation.Python.3.13_qbz5n2kfra8p0\\LocalCache\\local-packages\\Python313\\site-packages\\neurokit2\\signal\\signal_period.py:84: NeuroKitWarning: Too few peaks detected to compute the rate. Returning empty vector.\n",
      "  warn(\n",
      "Processing ECG Files:  30%|██████████████████████████████████████████▍                                                                                                    | 13381/45152 [09:25<21:27, 24.67it/s]"
     ]
    },
    {
     "name": "stdout",
     "output_type": "stream",
     "text": [
      "Error calculating heart features: cannot convert float NaN to integer\n"
     ]
    },
    {
     "name": "stderr",
     "output_type": "stream",
     "text": [
      "Processing ECG Files:  30%|██████████████████████████████████████████▍                                                                                                    | 13387/45152 [09:26<21:57, 24.10it/s]C:\\Users\\arche\\AppData\\Local\\Packages\\PythonSoftwareFoundation.Python.3.13_qbz5n2kfra8p0\\LocalCache\\local-packages\\Python313\\site-packages\\neurokit2\\signal\\signal_period.py:84: NeuroKitWarning: Too few peaks detected to compute the rate. Returning empty vector.\n",
      "  warn(\n",
      "Processing ECG Files:  30%|██████████████████████████████████████████▍                                                                                                    | 13391/45152 [09:26<20:17, 26.10it/s]"
     ]
    },
    {
     "name": "stdout",
     "output_type": "stream",
     "text": [
      "Error calculating heart features: cannot convert float NaN to integer\n"
     ]
    },
    {
     "name": "stderr",
     "output_type": "stream",
     "text": [
      "Processing ECG Files:  30%|██████████████████████████████████████████▌                                                                                                    | 13436/45152 [09:28<21:53, 24.15it/s]C:\\Users\\arche\\AppData\\Local\\Packages\\PythonSoftwareFoundation.Python.3.13_qbz5n2kfra8p0\\LocalCache\\local-packages\\Python313\\site-packages\\numpy\\_core\\fromnumeric.py:3860: RuntimeWarning: Mean of empty slice.\n",
      "  return _methods._mean(a, axis=axis, dtype=dtype,\n",
      "C:\\Users\\arche\\AppData\\Local\\Packages\\PythonSoftwareFoundation.Python.3.13_qbz5n2kfra8p0\\LocalCache\\local-packages\\Python313\\site-packages\\numpy\\_core\\_methods.py:145: RuntimeWarning: invalid value encountered in scalar divide\n",
      "  ret = ret.dtype.type(ret / rcount)\n",
      "C:\\Users\\arche\\AppData\\Local\\Packages\\PythonSoftwareFoundation.Python.3.13_qbz5n2kfra8p0\\LocalCache\\local-packages\\Python313\\site-packages\\neurokit2\\signal\\signal_period.py:84: NeuroKitWarning: Too few peaks detected to compute the rate. Returning empty vector.\n",
      "  warn(\n",
      "Processing ECG Files:  30%|██████████████████████████████████████████▌                                                                                                    | 13443/45152 [09:28<20:27, 25.83it/s]"
     ]
    },
    {
     "name": "stdout",
     "output_type": "stream",
     "text": [
      "Error calculating heart features: integer division or modulo by zero\n"
     ]
    },
    {
     "name": "stderr",
     "output_type": "stream",
     "text": [
      "Processing ECG Files:  30%|███████████████████████████████████████████▏                                                                                                   | 13656/45152 [09:37<22:53, 22.93it/s]C:\\Users\\arche\\AppData\\Local\\Packages\\PythonSoftwareFoundation.Python.3.13_qbz5n2kfra8p0\\LocalCache\\local-packages\\Python313\\site-packages\\neurokit2\\signal\\signal_fixpeaks.py:307: RuntimeWarning: invalid value encountered in divide\n",
      "  mrrs /= th2\n",
      "C:\\Users\\arche\\AppData\\Local\\Packages\\PythonSoftwareFoundation.Python.3.13_qbz5n2kfra8p0\\LocalCache\\local-packages\\Python313\\site-packages\\neurokit2\\signal\\signal_period.py:84: NeuroKitWarning: Too few peaks detected to compute the rate. Returning empty vector.\n",
      "  warn(\n",
      "Processing ECG Files:  30%|███████████████████████████████████████████▎                                                                                                   | 13663/45152 [09:37<21:33, 24.34it/s]"
     ]
    },
    {
     "name": "stdout",
     "output_type": "stream",
     "text": [
      "Error calculating heart features: cannot convert float NaN to integer\n"
     ]
    },
    {
     "name": "stderr",
     "output_type": "stream",
     "text": [
      "Processing ECG Files:  30%|███████████████████████████████████████████▍                                                                                                   | 13702/45152 [09:39<22:15, 23.56it/s]C:\\Users\\arche\\AppData\\Local\\Packages\\PythonSoftwareFoundation.Python.3.13_qbz5n2kfra8p0\\LocalCache\\local-packages\\Python313\\site-packages\\neurokit2\\signal\\signal_period.py:84: NeuroKitWarning: Too few peaks detected to compute the rate. Returning empty vector.\n",
      "  warn(\n",
      "C:\\Users\\arche\\AppData\\Local\\Packages\\PythonSoftwareFoundation.Python.3.13_qbz5n2kfra8p0\\LocalCache\\local-packages\\Python313\\site-packages\\numpy\\_core\\fromnumeric.py:3860: RuntimeWarning: Mean of empty slice.\n",
      "  return _methods._mean(a, axis=axis, dtype=dtype,\n",
      "C:\\Users\\arche\\AppData\\Local\\Packages\\PythonSoftwareFoundation.Python.3.13_qbz5n2kfra8p0\\LocalCache\\local-packages\\Python313\\site-packages\\numpy\\_core\\_methods.py:145: RuntimeWarning: invalid value encountered in scalar divide\n",
      "  ret = ret.dtype.type(ret / rcount)\n",
      "C:\\Users\\arche\\AppData\\Local\\Packages\\PythonSoftwareFoundation.Python.3.13_qbz5n2kfra8p0\\LocalCache\\local-packages\\Python313\\site-packages\\neurokit2\\signal\\signal_period.py:84: NeuroKitWarning: Too few peaks detected to compute the rate. Returning empty vector.\n",
      "  warn(\n",
      "Processing ECG Files:  30%|███████████████████████████████████████████▍                                                                                                   | 13710/45152 [09:39<19:56, 26.28it/s]"
     ]
    },
    {
     "name": "stdout",
     "output_type": "stream",
     "text": [
      "Error calculating heart features: cannot convert float NaN to integer\n",
      "Error calculating heart features: cannot convert float NaN to integer\n"
     ]
    },
    {
     "name": "stderr",
     "output_type": "stream",
     "text": [
      "Processing ECG Files:  31%|███████████████████████████████████████████▋                                                                                                   | 13780/45152 [09:42<20:19, 25.72it/s]C:\\Users\\arche\\AppData\\Local\\Packages\\PythonSoftwareFoundation.Python.3.13_qbz5n2kfra8p0\\LocalCache\\local-packages\\Python313\\site-packages\\neurokit2\\signal\\signal_period.py:84: NeuroKitWarning: Too few peaks detected to compute the rate. Returning empty vector.\n",
      "  warn(\n",
      "Processing ECG Files:  31%|███████████████████████████████████████████▋                                                                                                   | 13787/45152 [09:42<19:10, 27.25it/s]"
     ]
    },
    {
     "name": "stdout",
     "output_type": "stream",
     "text": [
      "Error calculating heart features: cannot convert float NaN to integer\n"
     ]
    },
    {
     "name": "stderr",
     "output_type": "stream",
     "text": [
      "Processing ECG Files:  31%|███████████████████████████████████████████▋                                                                                                   | 13796/45152 [09:42<20:52, 25.03it/s]C:\\Users\\arche\\AppData\\Local\\Packages\\PythonSoftwareFoundation.Python.3.13_qbz5n2kfra8p0\\LocalCache\\local-packages\\Python313\\site-packages\\neurokit2\\signal\\signal_fixpeaks.py:307: RuntimeWarning: invalid value encountered in divide\n",
      "  mrrs /= th2\n",
      "C:\\Users\\arche\\AppData\\Local\\Packages\\PythonSoftwareFoundation.Python.3.13_qbz5n2kfra8p0\\LocalCache\\local-packages\\Python313\\site-packages\\neurokit2\\signal\\signal_period.py:84: NeuroKitWarning: Too few peaks detected to compute the rate. Returning empty vector.\n",
      "  warn(\n",
      "Processing ECG Files:  31%|███████████████████████████████████████████▋                                                                                                   | 13800/45152 [09:42<19:11, 27.22it/s]C:\\Users\\arche\\AppData\\Local\\Packages\\PythonSoftwareFoundation.Python.3.13_qbz5n2kfra8p0\\LocalCache\\local-packages\\Python313\\site-packages\\neurokit2\\signal\\signal_period.py:84: NeuroKitWarning: Too few peaks detected to compute the rate. Returning empty vector.\n",
      "  warn(\n",
      "Processing ECG Files:  31%|███████████████████████████████████████████▋                                                                                                   | 13804/45152 [09:43<18:07, 28.83it/s]"
     ]
    },
    {
     "name": "stdout",
     "output_type": "stream",
     "text": [
      "Error calculating heart features: cannot convert float NaN to integer\n",
      "Error calculating heart features: cannot convert float NaN to integer\n"
     ]
    },
    {
     "name": "stderr",
     "output_type": "stream",
     "text": [
      "Processing ECG Files:  31%|███████████████████████████████████████████▊                                                                                                   | 13819/45152 [09:43<21:16, 24.54it/s]C:\\Users\\arche\\AppData\\Local\\Packages\\PythonSoftwareFoundation.Python.3.13_qbz5n2kfra8p0\\LocalCache\\local-packages\\Python313\\site-packages\\numpy\\_core\\fromnumeric.py:3860: RuntimeWarning: Mean of empty slice.\n",
      "  return _methods._mean(a, axis=axis, dtype=dtype,\n",
      "C:\\Users\\arche\\AppData\\Local\\Packages\\PythonSoftwareFoundation.Python.3.13_qbz5n2kfra8p0\\LocalCache\\local-packages\\Python313\\site-packages\\numpy\\_core\\_methods.py:145: RuntimeWarning: invalid value encountered in scalar divide\n",
      "  ret = ret.dtype.type(ret / rcount)\n",
      "C:\\Users\\arche\\AppData\\Local\\Packages\\PythonSoftwareFoundation.Python.3.13_qbz5n2kfra8p0\\LocalCache\\local-packages\\Python313\\site-packages\\neurokit2\\signal\\signal_period.py:84: NeuroKitWarning: Too few peaks detected to compute the rate. Returning empty vector.\n",
      "  warn(\n",
      "Processing ECG Files:  31%|███████████████████████████████████████████▊                                                                                                   | 13826/45152 [09:43<20:10, 25.87it/s]"
     ]
    },
    {
     "name": "stdout",
     "output_type": "stream",
     "text": [
      "Error calculating heart features: cannot convert float NaN to integer\n"
     ]
    },
    {
     "name": "stderr",
     "output_type": "stream",
     "text": [
      "Processing ECG Files:  31%|███████████████████████████████████████████▊                                                                                                   | 13829/45152 [09:44<19:37, 26.60it/s]C:\\Users\\arche\\AppData\\Local\\Packages\\PythonSoftwareFoundation.Python.3.13_qbz5n2kfra8p0\\LocalCache\\local-packages\\Python313\\site-packages\\numpy\\_core\\fromnumeric.py:3860: RuntimeWarning: Mean of empty slice.\n",
      "  return _methods._mean(a, axis=axis, dtype=dtype,\n",
      "C:\\Users\\arche\\AppData\\Local\\Packages\\PythonSoftwareFoundation.Python.3.13_qbz5n2kfra8p0\\LocalCache\\local-packages\\Python313\\site-packages\\numpy\\_core\\_methods.py:145: RuntimeWarning: invalid value encountered in scalar divide\n",
      "  ret = ret.dtype.type(ret / rcount)\n",
      "C:\\Users\\arche\\AppData\\Local\\Packages\\PythonSoftwareFoundation.Python.3.13_qbz5n2kfra8p0\\LocalCache\\local-packages\\Python313\\site-packages\\neurokit2\\signal\\signal_period.py:84: NeuroKitWarning: Too few peaks detected to compute the rate. Returning empty vector.\n",
      "  warn(\n",
      "Processing ECG Files:  31%|███████████████████████████████████████████▊                                                                                                   | 13836/45152 [09:44<19:33, 26.68it/s]"
     ]
    },
    {
     "name": "stdout",
     "output_type": "stream",
     "text": [
      "Error calculating heart features: cannot convert float NaN to integer\n"
     ]
    },
    {
     "name": "stderr",
     "output_type": "stream",
     "text": [
      "Processing ECG Files:  31%|███████████████████████████████████████████▊                                                                                                   | 13848/45152 [09:44<20:32, 25.40it/s]C:\\Users\\arche\\AppData\\Local\\Packages\\PythonSoftwareFoundation.Python.3.13_qbz5n2kfra8p0\\LocalCache\\local-packages\\Python313\\site-packages\\neurokit2\\signal\\signal_period.py:84: NeuroKitWarning: Too few peaks detected to compute the rate. Returning empty vector.\n",
      "  warn(\n",
      "C:\\Users\\arche\\AppData\\Local\\Packages\\PythonSoftwareFoundation.Python.3.13_qbz5n2kfra8p0\\LocalCache\\local-packages\\Python313\\site-packages\\numpy\\_core\\fromnumeric.py:3860: RuntimeWarning: Mean of empty slice.\n",
      "  return _methods._mean(a, axis=axis, dtype=dtype,\n",
      "C:\\Users\\arche\\AppData\\Local\\Packages\\PythonSoftwareFoundation.Python.3.13_qbz5n2kfra8p0\\LocalCache\\local-packages\\Python313\\site-packages\\numpy\\_core\\_methods.py:145: RuntimeWarning: invalid value encountered in scalar divide\n",
      "  ret = ret.dtype.type(ret / rcount)\n",
      "C:\\Users\\arche\\AppData\\Local\\Packages\\PythonSoftwareFoundation.Python.3.13_qbz5n2kfra8p0\\LocalCache\\local-packages\\Python313\\site-packages\\neurokit2\\signal\\signal_period.py:84: NeuroKitWarning: Too few peaks detected to compute the rate. Returning empty vector.\n",
      "  warn(\n",
      "Processing ECG Files:  31%|███████████████████████████████████████████▊                                                                                                   | 13853/45152 [09:44<17:40, 29.52it/s]"
     ]
    },
    {
     "name": "stdout",
     "output_type": "stream",
     "text": [
      "Error calculating heart features: cannot convert float NaN to integer\n",
      "Error calculating heart features: cannot convert float NaN to integer\n"
     ]
    },
    {
     "name": "stderr",
     "output_type": "stream",
     "text": [
      "Processing ECG Files:  31%|███████████████████████████████████████████▉                                                                                                   | 13886/45152 [09:46<21:08, 24.66it/s]C:\\Users\\arche\\AppData\\Local\\Packages\\PythonSoftwareFoundation.Python.3.13_qbz5n2kfra8p0\\LocalCache\\local-packages\\Python313\\site-packages\\numpy\\_core\\fromnumeric.py:3860: RuntimeWarning: Mean of empty slice.\n",
      "  return _methods._mean(a, axis=axis, dtype=dtype,\n",
      "C:\\Users\\arche\\AppData\\Local\\Packages\\PythonSoftwareFoundation.Python.3.13_qbz5n2kfra8p0\\LocalCache\\local-packages\\Python313\\site-packages\\numpy\\_core\\_methods.py:145: RuntimeWarning: invalid value encountered in scalar divide\n",
      "  ret = ret.dtype.type(ret / rcount)\n",
      "C:\\Users\\arche\\AppData\\Local\\Packages\\PythonSoftwareFoundation.Python.3.13_qbz5n2kfra8p0\\LocalCache\\local-packages\\Python313\\site-packages\\neurokit2\\signal\\signal_period.py:84: NeuroKitWarning: Too few peaks detected to compute the rate. Returning empty vector.\n",
      "  warn(\n",
      "Processing ECG Files:  31%|████████████████████████████████████████████                                                                                                   | 13893/45152 [09:46<19:13, 27.10it/s]"
     ]
    },
    {
     "name": "stdout",
     "output_type": "stream",
     "text": [
      "Error calculating heart features: cannot convert float NaN to integer\n"
     ]
    },
    {
     "name": "stderr",
     "output_type": "stream",
     "text": [
      "Processing ECG Files:  31%|████████████████████████████████████████████▏                                                                                                  | 13962/45152 [09:49<21:27, 24.22it/s]C:\\Users\\arche\\AppData\\Local\\Packages\\PythonSoftwareFoundation.Python.3.13_qbz5n2kfra8p0\\LocalCache\\local-packages\\Python313\\site-packages\\numpy\\_core\\fromnumeric.py:3860: RuntimeWarning: Mean of empty slice.\n",
      "  return _methods._mean(a, axis=axis, dtype=dtype,\n",
      "C:\\Users\\arche\\AppData\\Local\\Packages\\PythonSoftwareFoundation.Python.3.13_qbz5n2kfra8p0\\LocalCache\\local-packages\\Python313\\site-packages\\numpy\\_core\\_methods.py:145: RuntimeWarning: invalid value encountered in scalar divide\n",
      "  ret = ret.dtype.type(ret / rcount)\n",
      "C:\\Users\\arche\\AppData\\Local\\Packages\\PythonSoftwareFoundation.Python.3.13_qbz5n2kfra8p0\\LocalCache\\local-packages\\Python313\\site-packages\\neurokit2\\signal\\signal_period.py:84: NeuroKitWarning: Too few peaks detected to compute the rate. Returning empty vector.\n",
      "  warn(\n",
      "Processing ECG Files:  31%|████████████████████████████████████████████▏                                                                                                  | 13969/45152 [09:49<19:47, 26.25it/s]"
     ]
    },
    {
     "name": "stdout",
     "output_type": "stream",
     "text": [
      "Error calculating heart features: cannot convert float NaN to integer\n"
     ]
    },
    {
     "name": "stderr",
     "output_type": "stream",
     "text": [
      "Processing ECG Files:  31%|████████████████████████████████████████████▎                                                                                                  | 14005/45152 [09:51<20:58, 24.76it/s]C:\\Users\\arche\\AppData\\Local\\Packages\\PythonSoftwareFoundation.Python.3.13_qbz5n2kfra8p0\\LocalCache\\local-packages\\Python313\\site-packages\\numpy\\_core\\fromnumeric.py:3860: RuntimeWarning: Mean of empty slice.\n",
      "  return _methods._mean(a, axis=axis, dtype=dtype,\n",
      "C:\\Users\\arche\\AppData\\Local\\Packages\\PythonSoftwareFoundation.Python.3.13_qbz5n2kfra8p0\\LocalCache\\local-packages\\Python313\\site-packages\\numpy\\_core\\_methods.py:145: RuntimeWarning: invalid value encountered in scalar divide\n",
      "  ret = ret.dtype.type(ret / rcount)\n",
      "C:\\Users\\arche\\AppData\\Local\\Packages\\PythonSoftwareFoundation.Python.3.13_qbz5n2kfra8p0\\LocalCache\\local-packages\\Python313\\site-packages\\neurokit2\\signal\\signal_period.py:84: NeuroKitWarning: Too few peaks detected to compute the rate. Returning empty vector.\n",
      "  warn(\n",
      "Processing ECG Files:  31%|████████████████████████████████████████████▎                                                                                                  | 14009/45152 [09:51<19:21, 26.82it/s]C:\\Users\\arche\\AppData\\Local\\Packages\\PythonSoftwareFoundation.Python.3.13_qbz5n2kfra8p0\\LocalCache\\local-packages\\Python313\\site-packages\\neurokit2\\signal\\signal_period.py:84: NeuroKitWarning: Too few peaks detected to compute the rate. Returning empty vector.\n",
      "  warn(\n",
      "Processing ECG Files:  31%|████████████████████████████████████████████▍                                                                                                  | 14013/45152 [09:51<17:59, 28.86it/s]"
     ]
    },
    {
     "name": "stdout",
     "output_type": "stream",
     "text": [
      "Error calculating heart features: integer division or modulo by zero\n",
      "Error calculating heart features: cannot convert float NaN to integer\n"
     ]
    },
    {
     "name": "stderr",
     "output_type": "stream",
     "text": [
      "Processing ECG Files:  31%|████████████████████████████████████████████▍                                                                                                  | 14028/45152 [09:52<21:50, 23.76it/s]C:\\Users\\arche\\AppData\\Local\\Packages\\PythonSoftwareFoundation.Python.3.13_qbz5n2kfra8p0\\LocalCache\\local-packages\\Python313\\site-packages\\numpy\\_core\\fromnumeric.py:3860: RuntimeWarning: Mean of empty slice.\n",
      "  return _methods._mean(a, axis=axis, dtype=dtype,\n",
      "C:\\Users\\arche\\AppData\\Local\\Packages\\PythonSoftwareFoundation.Python.3.13_qbz5n2kfra8p0\\LocalCache\\local-packages\\Python313\\site-packages\\numpy\\_core\\_methods.py:145: RuntimeWarning: invalid value encountered in scalar divide\n",
      "  ret = ret.dtype.type(ret / rcount)\n",
      "C:\\Users\\arche\\AppData\\Local\\Packages\\PythonSoftwareFoundation.Python.3.13_qbz5n2kfra8p0\\LocalCache\\local-packages\\Python313\\site-packages\\neurokit2\\signal\\signal_period.py:84: NeuroKitWarning: Too few peaks detected to compute the rate. Returning empty vector.\n",
      "  warn(\n",
      "Processing ECG Files:  31%|████████████████████████████████████████████▍                                                                                                  | 14035/45152 [09:52<21:00, 24.69it/s]"
     ]
    },
    {
     "name": "stdout",
     "output_type": "stream",
     "text": [
      "Error calculating heart features: cannot convert float NaN to integer\n"
     ]
    },
    {
     "name": "stderr",
     "output_type": "stream",
     "text": [
      "Processing ECG Files:  31%|████████████████████████████████████████████▍                                                                                                  | 14038/45152 [09:52<20:34, 25.20it/s]C:\\Users\\arche\\AppData\\Local\\Packages\\PythonSoftwareFoundation.Python.3.13_qbz5n2kfra8p0\\LocalCache\\local-packages\\Python313\\site-packages\\numpy\\_core\\fromnumeric.py:3860: RuntimeWarning: Mean of empty slice.\n",
      "  return _methods._mean(a, axis=axis, dtype=dtype,\n",
      "C:\\Users\\arche\\AppData\\Local\\Packages\\PythonSoftwareFoundation.Python.3.13_qbz5n2kfra8p0\\LocalCache\\local-packages\\Python313\\site-packages\\numpy\\_core\\_methods.py:145: RuntimeWarning: invalid value encountered in scalar divide\n",
      "  ret = ret.dtype.type(ret / rcount)\n",
      "C:\\Users\\arche\\AppData\\Local\\Packages\\PythonSoftwareFoundation.Python.3.13_qbz5n2kfra8p0\\LocalCache\\local-packages\\Python313\\site-packages\\neurokit2\\signal\\signal_period.py:84: NeuroKitWarning: Too few peaks detected to compute the rate. Returning empty vector.\n",
      "  warn(\n",
      "Processing ECG Files:  31%|████████████████████████████████████████████▍                                                                                                  | 14045/45152 [09:52<19:01, 27.25it/s]"
     ]
    },
    {
     "name": "stdout",
     "output_type": "stream",
     "text": [
      "Error calculating heart features: cannot convert float NaN to integer\n"
     ]
    },
    {
     "name": "stderr",
     "output_type": "stream",
     "text": [
      "Processing ECG Files:  31%|████████████████████████████████████████████▌                                                                                                  | 14060/45152 [09:53<21:26, 24.17it/s]C:\\Users\\arche\\AppData\\Local\\Packages\\PythonSoftwareFoundation.Python.3.13_qbz5n2kfra8p0\\LocalCache\\local-packages\\Python313\\site-packages\\numpy\\_core\\fromnumeric.py:3860: RuntimeWarning: Mean of empty slice.\n",
      "  return _methods._mean(a, axis=axis, dtype=dtype,\n",
      "C:\\Users\\arche\\AppData\\Local\\Packages\\PythonSoftwareFoundation.Python.3.13_qbz5n2kfra8p0\\LocalCache\\local-packages\\Python313\\site-packages\\numpy\\_core\\_methods.py:145: RuntimeWarning: invalid value encountered in scalar divide\n",
      "  ret = ret.dtype.type(ret / rcount)\n",
      "C:\\Users\\arche\\AppData\\Local\\Packages\\PythonSoftwareFoundation.Python.3.13_qbz5n2kfra8p0\\LocalCache\\local-packages\\Python313\\site-packages\\neurokit2\\signal\\signal_period.py:84: NeuroKitWarning: Too few peaks detected to compute the rate. Returning empty vector.\n",
      "  warn(\n",
      "Processing ECG Files:  31%|████████████████████████████████████████████▌                                                                                                  | 14067/45152 [09:53<21:07, 24.53it/s]"
     ]
    },
    {
     "name": "stdout",
     "output_type": "stream",
     "text": [
      "Error calculating heart features: integer division or modulo by zero\n"
     ]
    },
    {
     "name": "stderr",
     "output_type": "stream",
     "text": [
      "Processing ECG Files:  31%|████████████████████████████████████████████▊                                                                                                  | 14139/45152 [09:56<21:40, 23.85it/s]C:\\Users\\arche\\AppData\\Local\\Packages\\PythonSoftwareFoundation.Python.3.13_qbz5n2kfra8p0\\LocalCache\\local-packages\\Python313\\site-packages\\neurokit2\\signal\\signal_period.py:84: NeuroKitWarning: Too few peaks detected to compute the rate. Returning empty vector.\n",
      "  warn(\n",
      "Processing ECG Files:  31%|████████████████████████████████████████████▊                                                                                                  | 14143/45152 [09:56<19:53, 25.98it/s]"
     ]
    },
    {
     "name": "stdout",
     "output_type": "stream",
     "text": [
      "Error calculating heart features: cannot convert float NaN to integer\n"
     ]
    },
    {
     "name": "stderr",
     "output_type": "stream",
     "text": [
      "Processing ECG Files:  31%|█████████████████████████████████████████████                                                                                                  | 14218/45152 [09:59<20:56, 24.63it/s]C:\\Users\\arche\\AppData\\Local\\Packages\\PythonSoftwareFoundation.Python.3.13_qbz5n2kfra8p0\\LocalCache\\local-packages\\Python313\\site-packages\\numpy\\_core\\fromnumeric.py:3860: RuntimeWarning: Mean of empty slice.\n",
      "  return _methods._mean(a, axis=axis, dtype=dtype,\n",
      "C:\\Users\\arche\\AppData\\Local\\Packages\\PythonSoftwareFoundation.Python.3.13_qbz5n2kfra8p0\\LocalCache\\local-packages\\Python313\\site-packages\\numpy\\_core\\_methods.py:145: RuntimeWarning: invalid value encountered in scalar divide\n",
      "  ret = ret.dtype.type(ret / rcount)\n",
      "C:\\Users\\arche\\AppData\\Local\\Packages\\PythonSoftwareFoundation.Python.3.13_qbz5n2kfra8p0\\LocalCache\\local-packages\\Python313\\site-packages\\neurokit2\\signal\\signal_period.py:84: NeuroKitWarning: Too few peaks detected to compute the rate. Returning empty vector.\n",
      "  warn(\n",
      "C:\\Users\\arche\\AppData\\Local\\Packages\\PythonSoftwareFoundation.Python.3.13_qbz5n2kfra8p0\\LocalCache\\local-packages\\Python313\\site-packages\\neurokit2\\signal\\signal_fixpeaks.py:307: RuntimeWarning: invalid value encountered in divide\n",
      "  mrrs /= th2\n",
      "C:\\Users\\arche\\AppData\\Local\\Packages\\PythonSoftwareFoundation.Python.3.13_qbz5n2kfra8p0\\LocalCache\\local-packages\\Python313\\site-packages\\neurokit2\\signal\\signal_period.py:84: NeuroKitWarning: Too few peaks detected to compute the rate. Returning empty vector.\n",
      "  warn(\n",
      "Processing ECG Files:  32%|█████████████████████████████████████████████                                                                                                  | 14223/45152 [09:59<18:15, 28.23it/s]"
     ]
    },
    {
     "name": "stdout",
     "output_type": "stream",
     "text": [
      "Error calculating heart features: cannot convert float NaN to integer\n",
      "Error calculating heart features: cannot convert float NaN to integer\n"
     ]
    },
    {
     "name": "stderr",
     "output_type": "stream",
     "text": [
      "Processing ECG Files:  32%|█████████████████████████████████████████████▌                                                                                                 | 14370/45152 [10:06<21:59, 23.33it/s]C:\\Users\\arche\\AppData\\Local\\Packages\\PythonSoftwareFoundation.Python.3.13_qbz5n2kfra8p0\\LocalCache\\local-packages\\Python313\\site-packages\\neurokit2\\signal\\signal_period.py:84: NeuroKitWarning: Too few peaks detected to compute the rate. Returning empty vector.\n",
      "  warn(\n",
      "Processing ECG Files:  32%|█████████████████████████████████████████████▌                                                                                                 | 14377/45152 [10:06<21:33, 23.80it/s]"
     ]
    },
    {
     "name": "stdout",
     "output_type": "stream",
     "text": [
      "Error calculating heart features: cannot convert float NaN to integer\n"
     ]
    },
    {
     "name": "stderr",
     "output_type": "stream",
     "text": [
      "Processing ECG Files:  32%|█████████████████████████████████████████████▉                                                                                                 | 14508/45152 [10:13<24:27, 20.88it/s]C:\\Users\\arche\\AppData\\Local\\Packages\\PythonSoftwareFoundation.Python.3.13_qbz5n2kfra8p0\\LocalCache\\local-packages\\Python313\\site-packages\\neurokit2\\signal\\signal_period.py:84: NeuroKitWarning: Too few peaks detected to compute the rate. Returning empty vector.\n",
      "  warn(\n",
      "Processing ECG Files:  32%|█████████████████████████████████████████████▉                                                                                                 | 14512/45152 [10:13<22:06, 23.09it/s]"
     ]
    },
    {
     "name": "stdout",
     "output_type": "stream",
     "text": [
      "Error calculating heart features: cannot convert float NaN to integer\n"
     ]
    },
    {
     "name": "stderr",
     "output_type": "stream",
     "text": [
      "Processing ECG Files:  32%|██████████████████████████████████████████████▎                                                                                                | 14617/45152 [10:17<22:12, 22.92it/s]C:\\Users\\arche\\AppData\\Local\\Packages\\PythonSoftwareFoundation.Python.3.13_qbz5n2kfra8p0\\LocalCache\\local-packages\\Python313\\site-packages\\neurokit2\\signal\\signal_period.py:84: NeuroKitWarning: Too few peaks detected to compute the rate. Returning empty vector.\n",
      "  warn(\n",
      "Processing ECG Files:  32%|██████████████████████████████████████████████▎                                                                                                | 14621/45152 [10:17<20:22, 24.98it/s]"
     ]
    },
    {
     "name": "stdout",
     "output_type": "stream",
     "text": [
      "Error calculating heart features: cannot convert float NaN to integer\n"
     ]
    },
    {
     "name": "stderr",
     "output_type": "stream",
     "text": [
      "Processing ECG Files:  33%|██████████████████████████████████████████████▌                                                                                                | 14709/45152 [10:21<20:34, 24.65it/s]C:\\Users\\arche\\AppData\\Local\\Packages\\PythonSoftwareFoundation.Python.3.13_qbz5n2kfra8p0\\LocalCache\\local-packages\\Python313\\site-packages\\neurokit2\\signal\\signal_period.py:84: NeuroKitWarning: Too few peaks detected to compute the rate. Returning empty vector.\n",
      "  warn(\n",
      "Processing ECG Files:  33%|██████████████████████████████████████████████▌                                                                                                | 14713/45152 [10:21<18:57, 26.75it/s]"
     ]
    },
    {
     "name": "stdout",
     "output_type": "stream",
     "text": [
      "Error calculating heart features: cannot convert float NaN to integer\n"
     ]
    },
    {
     "name": "stderr",
     "output_type": "stream",
     "text": [
      "Processing ECG Files:  33%|███████████████████████████████████████████████                                                                                                | 14860/45152 [10:27<21:00, 24.03it/s]C:\\Users\\arche\\AppData\\Local\\Packages\\PythonSoftwareFoundation.Python.3.13_qbz5n2kfra8p0\\LocalCache\\local-packages\\Python313\\site-packages\\neurokit2\\signal\\signal_period.py:84: NeuroKitWarning: Too few peaks detected to compute the rate. Returning empty vector.\n",
      "  warn(\n",
      "Processing ECG Files:  33%|███████████████████████████████████████████████                                                                                                | 14867/45152 [10:28<18:42, 26.99it/s]"
     ]
    },
    {
     "name": "stdout",
     "output_type": "stream",
     "text": [
      "Error calculating heart features: cannot convert float NaN to integer\n"
     ]
    },
    {
     "name": "stderr",
     "output_type": "stream",
     "text": [
      "Processing ECG Files:  33%|███████████████████████████████████████████████▌                                                                                               | 15020/45152 [10:34<20:13, 24.82it/s]C:\\Users\\arche\\AppData\\Local\\Packages\\PythonSoftwareFoundation.Python.3.13_qbz5n2kfra8p0\\LocalCache\\local-packages\\Python313\\site-packages\\neurokit2\\signal\\signal_period.py:84: NeuroKitWarning: Too few peaks detected to compute the rate. Returning empty vector.\n",
      "  warn(\n",
      "Processing ECG Files:  33%|███████████████████████████████████████████████▌                                                                                               | 15027/45152 [10:34<19:11, 26.16it/s]"
     ]
    },
    {
     "name": "stdout",
     "output_type": "stream",
     "text": [
      "Error calculating heart features: cannot convert float NaN to integer\n"
     ]
    },
    {
     "name": "stderr",
     "output_type": "stream",
     "text": [
      "Processing ECG Files:  33%|███████████████████████████████████████████████▊                                                                                               | 15081/45152 [10:36<19:58, 25.10it/s]C:\\Users\\arche\\AppData\\Local\\Packages\\PythonSoftwareFoundation.Python.3.13_qbz5n2kfra8p0\\LocalCache\\local-packages\\Python313\\site-packages\\neurokit2\\signal\\signal_fixpeaks.py:307: RuntimeWarning: invalid value encountered in divide\n",
      "  mrrs /= th2\n",
      "C:\\Users\\arche\\AppData\\Local\\Packages\\PythonSoftwareFoundation.Python.3.13_qbz5n2kfra8p0\\LocalCache\\local-packages\\Python313\\site-packages\\neurokit2\\signal\\signal_period.py:84: NeuroKitWarning: Too few peaks detected to compute the rate. Returning empty vector.\n",
      "  warn(\n",
      "Processing ECG Files:  33%|███████████████████████████████████████████████▊                                                                                               | 15085/45152 [10:37<18:03, 27.74it/s]"
     ]
    },
    {
     "name": "stdout",
     "output_type": "stream",
     "text": [
      "Error calculating heart features: cannot convert float NaN to integer\n"
     ]
    },
    {
     "name": "stderr",
     "output_type": "stream",
     "text": [
      "Processing ECG Files:  33%|███████████████████████████████████████████████▊                                                                                               | 15106/45152 [10:37<19:45, 25.34it/s]C:\\Users\\arche\\AppData\\Local\\Packages\\PythonSoftwareFoundation.Python.3.13_qbz5n2kfra8p0\\LocalCache\\local-packages\\Python313\\site-packages\\neurokit2\\signal\\signal_period.py:84: NeuroKitWarning: Too few peaks detected to compute the rate. Returning empty vector.\n",
      "  warn(\n",
      "Processing ECG Files:  33%|███████████████████████████████████████████████▊                                                                                               | 15110/45152 [10:37<18:13, 27.48it/s]"
     ]
    },
    {
     "name": "stdout",
     "output_type": "stream",
     "text": [
      "Error calculating heart features: cannot convert float NaN to integer\n"
     ]
    },
    {
     "name": "stderr",
     "output_type": "stream",
     "text": [
      "Processing ECG Files:  34%|███████████████████████████████████████████████▉                                                                                               | 15131/45152 [10:38<21:01, 23.79it/s]C:\\Users\\arche\\AppData\\Local\\Packages\\PythonSoftwareFoundation.Python.3.13_qbz5n2kfra8p0\\LocalCache\\local-packages\\Python313\\site-packages\\neurokit2\\signal\\signal_period.py:84: NeuroKitWarning: Too few peaks detected to compute the rate. Returning empty vector.\n",
      "  warn(\n",
      "Processing ECG Files:  34%|███████████████████████████████████████████████▉                                                                                               | 15135/45152 [10:38<18:29, 27.07it/s]"
     ]
    },
    {
     "name": "stdout",
     "output_type": "stream",
     "text": [
      "Error calculating heart features: cannot convert float NaN to integer\n"
     ]
    },
    {
     "name": "stderr",
     "output_type": "stream",
     "text": [
      "Processing ECG Files:  34%|███████████████████████████████████████████████▉                                                                                               | 15144/45152 [10:39<18:11, 27.48it/s]C:\\Users\\arche\\AppData\\Local\\Packages\\PythonSoftwareFoundation.Python.3.13_qbz5n2kfra8p0\\LocalCache\\local-packages\\Python313\\site-packages\\neurokit2\\signal\\signal_period.py:84: NeuroKitWarning: Too few peaks detected to compute the rate. Returning empty vector.\n",
      "  warn(\n",
      "C:\\Users\\arche\\AppData\\Local\\Packages\\PythonSoftwareFoundation.Python.3.13_qbz5n2kfra8p0\\LocalCache\\local-packages\\Python313\\site-packages\\neurokit2\\signal\\signal_period.py:84: NeuroKitWarning: Too few peaks detected to compute the rate. Returning empty vector.\n",
      "  warn(\n",
      "Processing ECG Files:  34%|███████████████████████████████████████████████▉                                                                                               | 15149/45152 [10:39<16:27, 30.37it/s]"
     ]
    },
    {
     "name": "stdout",
     "output_type": "stream",
     "text": [
      "Error calculating heart features: cannot convert float NaN to integer\n",
      "Error calculating heart features: cannot convert float NaN to integer\n"
     ]
    },
    {
     "name": "stderr",
     "output_type": "stream",
     "text": [
      "Processing ECG Files:  34%|████████████████████████████████████████████████                                                                                               | 15165/45152 [10:40<18:10, 27.50it/s]C:\\Users\\arche\\AppData\\Local\\Packages\\PythonSoftwareFoundation.Python.3.13_qbz5n2kfra8p0\\LocalCache\\local-packages\\Python313\\site-packages\\numpy\\_core\\fromnumeric.py:3860: RuntimeWarning: Mean of empty slice.\n",
      "  return _methods._mean(a, axis=axis, dtype=dtype,\n",
      "C:\\Users\\arche\\AppData\\Local\\Packages\\PythonSoftwareFoundation.Python.3.13_qbz5n2kfra8p0\\LocalCache\\local-packages\\Python313\\site-packages\\numpy\\_core\\_methods.py:145: RuntimeWarning: invalid value encountered in scalar divide\n",
      "  ret = ret.dtype.type(ret / rcount)\n",
      "C:\\Users\\arche\\AppData\\Local\\Packages\\PythonSoftwareFoundation.Python.3.13_qbz5n2kfra8p0\\LocalCache\\local-packages\\Python313\\site-packages\\neurokit2\\signal\\signal_period.py:84: NeuroKitWarning: Too few peaks detected to compute the rate. Returning empty vector.\n",
      "  warn(\n",
      "Processing ECG Files:  34%|████████████████████████████████████████████████                                                                                               | 15169/45152 [10:40<17:43, 28.18it/s]"
     ]
    },
    {
     "name": "stdout",
     "output_type": "stream",
     "text": [
      "Error calculating heart features: integer division or modulo by zero\n"
     ]
    },
    {
     "name": "stderr",
     "output_type": "stream",
     "text": [
      "Processing ECG Files:  34%|████████████████████████████████████████████████                                                                                               | 15172/45152 [10:40<17:29, 28.58it/s]C:\\Users\\arche\\AppData\\Local\\Packages\\PythonSoftwareFoundation.Python.3.13_qbz5n2kfra8p0\\LocalCache\\local-packages\\Python313\\site-packages\\neurokit2\\signal\\signal_period.py:84: NeuroKitWarning: Too few peaks detected to compute the rate. Returning empty vector.\n",
      "  warn(\n",
      "Processing ECG Files:  34%|████████████████████████████████████████████████                                                                                               | 15179/45152 [10:40<17:08, 29.14it/s]"
     ]
    },
    {
     "name": "stdout",
     "output_type": "stream",
     "text": [
      "Error calculating heart features: cannot convert float NaN to integer\n"
     ]
    },
    {
     "name": "stderr",
     "output_type": "stream",
     "text": [
      "Processing ECG Files:  34%|████████████████████████████████████████████████▎                                                                                              | 15272/45152 [10:44<20:59, 23.72it/s]C:\\Users\\arche\\AppData\\Local\\Packages\\PythonSoftwareFoundation.Python.3.13_qbz5n2kfra8p0\\LocalCache\\local-packages\\Python313\\site-packages\\neurokit2\\signal\\signal_fixpeaks.py:307: RuntimeWarning: invalid value encountered in divide\n",
      "  mrrs /= th2\n",
      "C:\\Users\\arche\\AppData\\Local\\Packages\\PythonSoftwareFoundation.Python.3.13_qbz5n2kfra8p0\\LocalCache\\local-packages\\Python313\\site-packages\\neurokit2\\signal\\signal_period.py:84: NeuroKitWarning: Too few peaks detected to compute the rate. Returning empty vector.\n",
      "  warn(\n",
      "Processing ECG Files:  34%|████████████████████████████████████████████████▍                                                                                              | 15276/45152 [10:44<19:51, 25.07it/s]"
     ]
    },
    {
     "name": "stdout",
     "output_type": "stream",
     "text": [
      "Error calculating heart features: cannot convert float NaN to integer\n"
     ]
    },
    {
     "name": "stderr",
     "output_type": "stream",
     "text": [
      "Processing ECG Files:  34%|████████████████████████████████████████████████▋                                                                                              | 15366/45152 [10:48<20:39, 24.03it/s]C:\\Users\\arche\\AppData\\Local\\Packages\\PythonSoftwareFoundation.Python.3.13_qbz5n2kfra8p0\\LocalCache\\local-packages\\Python313\\site-packages\\numpy\\_core\\fromnumeric.py:3860: RuntimeWarning: Mean of empty slice.\n",
      "  return _methods._mean(a, axis=axis, dtype=dtype,\n",
      "C:\\Users\\arche\\AppData\\Local\\Packages\\PythonSoftwareFoundation.Python.3.13_qbz5n2kfra8p0\\LocalCache\\local-packages\\Python313\\site-packages\\numpy\\_core\\_methods.py:145: RuntimeWarning: invalid value encountered in scalar divide\n",
      "  ret = ret.dtype.type(ret / rcount)\n",
      "C:\\Users\\arche\\AppData\\Local\\Packages\\PythonSoftwareFoundation.Python.3.13_qbz5n2kfra8p0\\LocalCache\\local-packages\\Python313\\site-packages\\neurokit2\\signal\\signal_period.py:84: NeuroKitWarning: Too few peaks detected to compute the rate. Returning empty vector.\n",
      "  warn(\n",
      "Processing ECG Files:  34%|████████████████████████████████████████████████▋                                                                                              | 15372/45152 [10:48<20:42, 23.97it/s]"
     ]
    },
    {
     "name": "stdout",
     "output_type": "stream",
     "text": [
      "Error calculating heart features: cannot convert float NaN to integer\n"
     ]
    },
    {
     "name": "stderr",
     "output_type": "stream",
     "text": [
      "Processing ECG Files:  34%|████████████████████████████████████████████████▉                                                                                              | 15441/45152 [10:51<20:05, 24.65it/s]C:\\Users\\arche\\AppData\\Local\\Packages\\PythonSoftwareFoundation.Python.3.13_qbz5n2kfra8p0\\LocalCache\\local-packages\\Python313\\site-packages\\neurokit2\\signal\\signal_period.py:84: NeuroKitWarning: Too few peaks detected to compute the rate. Returning empty vector.\n",
      "  warn(\n",
      "Processing ECG Files:  34%|████████████████████████████████████████████████▉                                                                                              | 15445/45152 [10:51<18:26, 26.85it/s]"
     ]
    },
    {
     "name": "stdout",
     "output_type": "stream",
     "text": [
      "Error calculating heart features: cannot convert float NaN to integer\n"
     ]
    },
    {
     "name": "stderr",
     "output_type": "stream",
     "text": [
      "Processing ECG Files:  35%|█████████████████████████████████████████████████▉                                                                                             | 15784/45152 [11:05<19:48, 24.71it/s]C:\\Users\\arche\\AppData\\Local\\Packages\\PythonSoftwareFoundation.Python.3.13_qbz5n2kfra8p0\\LocalCache\\local-packages\\Python313\\site-packages\\neurokit2\\signal\\signal_period.py:84: NeuroKitWarning: Too few peaks detected to compute the rate. Returning empty vector.\n",
      "  warn(\n",
      "Processing ECG Files:  35%|██████████████████████████████████████████████████                                                                                             | 15790/45152 [11:05<19:42, 24.84it/s]"
     ]
    },
    {
     "name": "stdout",
     "output_type": "stream",
     "text": [
      "Error calculating heart features: cannot convert float NaN to integer\n"
     ]
    },
    {
     "name": "stderr",
     "output_type": "stream",
     "text": [
      "Processing ECG Files:  35%|██████████████████████████████████████████████████                                                                                             | 15826/45152 [11:07<20:48, 23.48it/s]C:\\Users\\arche\\AppData\\Local\\Packages\\PythonSoftwareFoundation.Python.3.13_qbz5n2kfra8p0\\LocalCache\\local-packages\\Python313\\site-packages\\neurokit2\\signal\\signal_period.py:84: NeuroKitWarning: Too few peaks detected to compute the rate. Returning empty vector.\n",
      "  warn(\n",
      "Processing ECG Files:  35%|██████████████████████████████████████████████████▏                                                                                            | 15830/45152 [11:07<18:37, 26.23it/s]"
     ]
    },
    {
     "name": "stdout",
     "output_type": "stream",
     "text": [
      "Error calculating heart features: cannot convert float NaN to integer\n"
     ]
    },
    {
     "name": "stderr",
     "output_type": "stream",
     "text": [
      "Processing ECG Files:  35%|██████████████████████████████████████████████████▍                                                                                            | 15920/45152 [11:11<20:15, 24.04it/s]C:\\Users\\arche\\AppData\\Local\\Packages\\PythonSoftwareFoundation.Python.3.13_qbz5n2kfra8p0\\LocalCache\\local-packages\\Python313\\site-packages\\neurokit2\\signal\\signal_fixpeaks.py:307: RuntimeWarning: invalid value encountered in divide\n",
      "  mrrs /= th2\n",
      "C:\\Users\\arche\\AppData\\Local\\Packages\\PythonSoftwareFoundation.Python.3.13_qbz5n2kfra8p0\\LocalCache\\local-packages\\Python313\\site-packages\\neurokit2\\signal\\signal_period.py:84: NeuroKitWarning: Too few peaks detected to compute the rate. Returning empty vector.\n",
      "  warn(\n",
      "Processing ECG Files:  35%|██████████████████████████████████████████████████▍                                                                                            | 15927/45152 [11:11<19:31, 24.95it/s]"
     ]
    },
    {
     "name": "stdout",
     "output_type": "stream",
     "text": [
      "Error calculating heart features: cannot convert float NaN to integer\n"
     ]
    },
    {
     "name": "stderr",
     "output_type": "stream",
     "text": [
      "Processing ECG Files:  38%|█████████████████████████████████████████████████████▋                                                                                         | 16959/45152 [11:55<21:28, 21.89it/s]C:\\Users\\arche\\AppData\\Local\\Packages\\PythonSoftwareFoundation.Python.3.13_qbz5n2kfra8p0\\LocalCache\\local-packages\\Python313\\site-packages\\neurokit2\\signal\\signal_period.py:84: NeuroKitWarning: Too few peaks detected to compute the rate. Returning empty vector.\n",
      "  warn(\n",
      "Processing ECG Files:  38%|█████████████████████████████████████████████████████▋                                                                                         | 16966/45152 [11:55<19:20, 24.29it/s]"
     ]
    },
    {
     "name": "stdout",
     "output_type": "stream",
     "text": [
      "Error calculating heart features: cannot convert float NaN to integer\n"
     ]
    },
    {
     "name": "stderr",
     "output_type": "stream",
     "text": [
      "Processing ECG Files:  38%|██████████████████████████████████████████████████████                                                                                         | 17059/45152 [11:59<20:15, 23.11it/s]C:\\Users\\arche\\AppData\\Local\\Packages\\PythonSoftwareFoundation.Python.3.13_qbz5n2kfra8p0\\LocalCache\\local-packages\\Python313\\site-packages\\neurokit2\\signal\\signal_period.py:84: NeuroKitWarning: Too few peaks detected to compute the rate. Returning empty vector.\n",
      "  warn(\n",
      "Processing ECG Files:  38%|██████████████████████████████████████████████████████                                                                                         | 17063/45152 [11:59<18:14, 25.67it/s]"
     ]
    },
    {
     "name": "stdout",
     "output_type": "stream",
     "text": [
      "Error calculating heart features: cannot convert float NaN to integer\n"
     ]
    },
    {
     "name": "stderr",
     "output_type": "stream",
     "text": [
      "Processing ECG Files:  38%|██████████████████████████████████████████████████████                                                                                         | 17066/45152 [11:59<18:39, 25.09it/s]C:\\Users\\arche\\AppData\\Local\\Packages\\PythonSoftwareFoundation.Python.3.13_qbz5n2kfra8p0\\LocalCache\\local-packages\\Python313\\site-packages\\neurokit2\\signal\\signal_fixpeaks.py:307: RuntimeWarning: invalid value encountered in divide\n",
      "  mrrs /= th2\n",
      "C:\\Users\\arche\\AppData\\Local\\Packages\\PythonSoftwareFoundation.Python.3.13_qbz5n2kfra8p0\\LocalCache\\local-packages\\Python313\\site-packages\\neurokit2\\signal\\signal_period.py:84: NeuroKitWarning: Too few peaks detected to compute the rate. Returning empty vector.\n",
      "  warn(\n",
      "Processing ECG Files:  38%|██████████████████████████████████████████████████████                                                                                         | 17070/45152 [12:00<17:37, 26.56it/s]"
     ]
    },
    {
     "name": "stdout",
     "output_type": "stream",
     "text": [
      "Error calculating heart features: cannot convert float NaN to integer\n"
     ]
    },
    {
     "name": "stderr",
     "output_type": "stream",
     "text": [
      "Processing ECG Files:  38%|██████████████████████████████████████████████████████▉                                                                                        | 17339/45152 [12:12<22:39, 20.46it/s]"
     ]
    }
   ],
   "source": [
    "def main():\n",
    "    print(\"Current working directory:\", os.getcwd())\n",
    "\n",
    "    df = process_all_ecg_files(\n",
    "        base_path=\"physionet.org\",   # your main folder\n",
    "        downsample_factor=10,\n",
    "        output_csv=\"ecg_data_summary1.csv\",\n",
    "        plot_signals=False,\n",
    "    )\n",
    "    print(df.head())\n",
    "\n",
    "if __name__ == \"__main__\":\n",
    "    main()"
   ]
  }
 ],
 "metadata": {
  "kernelspec": {
   "display_name": "Python 3 (ipykernel)",
   "language": "python",
   "name": "python3"
  },
  "language_info": {
   "codemirror_mode": {
    "name": "ipython",
    "version": 3
   },
   "file_extension": ".py",
   "mimetype": "text/x-python",
   "name": "python",
   "nbconvert_exporter": "python",
   "pygments_lexer": "ipython3",
   "version": "3.13.3"
  }
 },
 "nbformat": 4,
 "nbformat_minor": 5
}
